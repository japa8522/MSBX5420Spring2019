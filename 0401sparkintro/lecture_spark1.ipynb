{
 "cells": [
  {
   "cell_type": "code",
   "execution_count": 1,
   "metadata": {},
   "outputs": [],
   "source": [
    "from pyspark import SparkContext\n",
    "\n",
    "sc = SparkContext('local', 'hello_world')"
   ]
  },
  {
   "cell_type": "code",
   "execution_count": 2,
   "metadata": {},
   "outputs": [],
   "source": [
    "sc.stop()  # this is how to stop the context (sometimes useful to release memory in Spark)"
   ]
  },
  {
   "cell_type": "code",
   "execution_count": 4,
   "metadata": {},
   "outputs": [],
   "source": [
    "sc = SparkContext('local', 'hello_world')"
   ]
  },
  {
   "cell_type": "markdown",
   "metadata": {},
   "source": [
    "## Simple RDDs, map, collect, and take"
   ]
  },
  {
   "cell_type": "code",
   "execution_count": 5,
   "metadata": {},
   "outputs": [],
   "source": [
    "# start with an easy handmade dataset with temperature data in Celsius\n",
    "# the goal:  convert this data to Kelvin (recall that 0 C = 273.15 K)\n",
    "temperature_C = [5, 6, 6, 10, 15, 20, 19, 18]  # right now this data is local.  It is here on the \"driver\"\n",
    "\n",
    "# create an RDD (resilient distributed dataset)\n",
    "temperature_C_rdd = sc.parallelize(temperature_C)  # this pushes data out to worker machines\n",
    "\n",
    "def convert_celsius_to_kelvin(tempC):\n",
    "    return tempC + 273.15\n",
    "\n",
    "temperature_K_rdd = temperature_C_rdd.map(convert_celsius_to_kelvin)"
   ]
  },
  {
   "cell_type": "code",
   "execution_count": 6,
   "metadata": {},
   "outputs": [
    {
     "data": {
      "text/plain": [
       "[278.15, 279.15, 279.15, 283.15, 288.15, 293.15, 292.15, 291.15]"
      ]
     },
     "execution_count": 6,
     "metadata": {},
     "output_type": "execute_result"
    }
   ],
   "source": [
    "temperature_K_rdd.collect() # bring all results back to driver"
   ]
  },
  {
   "cell_type": "code",
   "execution_count": 8,
   "metadata": {},
   "outputs": [
    {
     "data": {
      "text/plain": [
       "[278.15, 279.15, 279.15]"
      ]
     },
     "execution_count": 8,
     "metadata": {},
     "output_type": "execute_result"
    }
   ],
   "source": [
    "# for large datasets .collect() will try to pull too much data back.  To inspect just a few use .take() instead\n",
    "temperature_K_rdd.take(3)"
   ]
  },
  {
   "cell_type": "code",
   "execution_count": 9,
   "metadata": {},
   "outputs": [],
   "source": [
    "# Using a lambda instead could've cut out a few lines of code\n",
    "temperature_K_rdd = temperature_C_rdd.map(lambda tempC: tempC + 273.15)"
   ]
  },
  {
   "cell_type": "code",
   "execution_count": 10,
   "metadata": {},
   "outputs": [
    {
     "data": {
      "text/plain": [
       "[278.15, 279.15, 279.15]"
      ]
     },
     "execution_count": 10,
     "metadata": {},
     "output_type": "execute_result"
    }
   ],
   "source": [
    "temperature_K_rdd.take(3)"
   ]
  },
  {
   "cell_type": "markdown",
   "metadata": {},
   "source": [
    "## Reduce"
   ]
  },
  {
   "cell_type": "code",
   "execution_count": 21,
   "metadata": {},
   "outputs": [
    {
     "data": {
      "text/plain": [
       "59"
      ]
     },
     "execution_count": 21,
     "metadata": {},
     "output_type": "execute_result"
    }
   ],
   "source": [
    "kid_ages = [6, 8, 2, 9, 10, 13, 7, 4]\n",
    "\n",
    "# create an RDD\n",
    "kid_ages_rdd = sc.parallelize(kid_ages)\n",
    "\n",
    "sum_kid_ages = kid_ages_rdd.reduce(lambda x, y: x+y)\n",
    "sum_kid_ages"
   ]
  },
  {
   "cell_type": "code",
   "execution_count": 16,
   "metadata": {},
   "outputs": [
    {
     "data": {
      "text/plain": [
       "7.375"
      ]
     },
     "execution_count": 16,
     "metadata": {},
     "output_type": "execute_result"
    }
   ],
   "source": [
    "num_kids = kid_ages_rdd.count()\n",
    "avg_kid_age = sum_kid_ages/num_kids\n",
    "avg_kid_age"
   ]
  },
  {
   "cell_type": "markdown",
   "metadata": {},
   "source": [
    "## Exercise\n",
    "\n",
    "Suppose that RDDs did not come with the handy `.count()` function.  Can you think of a way, using `map` and `reduce`, to count the number of elements in an RDD?  For example, count the number of kids."
   ]
  },
  {
   "cell_type": "code",
   "execution_count": 17,
   "metadata": {},
   "outputs": [
    {
     "data": {
      "text/plain": [
       "[1, 1, 1]"
      ]
     },
     "execution_count": 17,
     "metadata": {},
     "output_type": "execute_result"
    }
   ],
   "source": [
    "kid_indicator_rdd = kid_ages_rdd.map(lambda x: 1)\n",
    "kid_indicator_rdd.take(3)"
   ]
  },
  {
   "cell_type": "code",
   "execution_count": 18,
   "metadata": {},
   "outputs": [
    {
     "data": {
      "text/plain": [
       "8"
      ]
     },
     "execution_count": 18,
     "metadata": {},
     "output_type": "execute_result"
    }
   ],
   "source": [
    "num_kids = kid_indicator_rdd.reduce(lambda x, y: x+y)\n",
    "num_kids"
   ]
  },
  {
   "cell_type": "markdown",
   "metadata": {},
   "source": [
    "## Partitions\n",
    "\n",
    "*Partitioning* is the process of distributing data across workers.  This allows workers to process in parallel.  The final results are then collated and combined.\n",
    "\n",
    "Under the hood, each worker machine is subdivided into \"executors\".    Often 1 executor = 1 core.\n",
    "\n",
    "You should have # partitions at LEAST equal to the total number of executors in your cluster, otherwise some executors will just sit idle.\n",
    "\n",
    "Each partition is processed sequentially on a single executor.  There is one *task* per element in the partition."
   ]
  },
  {
   "cell_type": "code",
   "execution_count": 24,
   "metadata": {},
   "outputs": [
    {
     "name": "stdout",
     "output_type": "stream",
     "text": [
      "hellothere\n",
      "hello there\n",
      "5.6\n"
     ]
    }
   ],
   "source": [
    "# ASIDE:  string concatenation\n",
    "strconcat = \"hello\" + \"there\"\n",
    "print(strconcat)\n",
    "strconcat = \"hello\" + \" \" + \"there\"\n",
    "print(strconcat)\n",
    "\n",
    "# converting numbers into strings\n",
    "numstr = str(5.6)\n",
    "print(numstr)"
   ]
  },
  {
   "cell_type": "code",
   "execution_count": 25,
   "metadata": {},
   "outputs": [
    {
     "data": {
      "text/plain": [
       "'(5 7)'"
      ]
     },
     "execution_count": 25,
     "metadata": {},
     "output_type": "execute_result"
    }
   ],
   "source": [
    "# let's SEE partitioning by examining the ORDER in which reduce is applied\n",
    "def visualize_combine(x, y):\n",
    "    return \"(\" + str(x) + \" \" + str(y) + \")\"\n",
    "\n",
    "# test it\n",
    "visualize_combine(5, 7)"
   ]
  },
  {
   "cell_type": "code",
   "execution_count": 26,
   "metadata": {},
   "outputs": [
    {
     "data": {
      "text/plain": [
       "'(5 (7 10))'"
      ]
     },
     "execution_count": 26,
     "metadata": {},
     "output_type": "execute_result"
    }
   ],
   "source": [
    "visualize_combine(5, visualize_combine(7, 10))"
   ]
  },
  {
   "cell_type": "code",
   "execution_count": 27,
   "metadata": {},
   "outputs": [
    {
     "data": {
      "text/plain": [
       "'((5 7) 10)'"
      ]
     },
     "execution_count": 27,
     "metadata": {},
     "output_type": "execute_result"
    }
   ],
   "source": [
    "visualize_combine(visualize_combine(5, 7), 10)"
   ]
  },
  {
   "cell_type": "code",
   "execution_count": 28,
   "metadata": {},
   "outputs": [
    {
     "data": {
      "text/plain": [
       "'(((((((6 8) 2) 9) 10) 13) 7) 4)'"
      ]
     },
     "execution_count": 28,
     "metadata": {},
     "output_type": "execute_result"
    }
   ],
   "source": [
    "# let's reduce an RDD that has only a single partition\n",
    "kid_ages_rdd.reduce(visualize_combine)"
   ]
  },
  {
   "cell_type": "code",
   "execution_count": 29,
   "metadata": {},
   "outputs": [],
   "source": [
    "# let's partition the kid ages into 2 partitions\n",
    "kid_ages_rdd2 = sc.parallelize(kid_ages, 2)  # second argument specifies number of partitions"
   ]
  },
  {
   "cell_type": "code",
   "execution_count": 30,
   "metadata": {},
   "outputs": [
    {
     "data": {
      "text/plain": [
       "'((((6 8) 2) 9) (((10 13) 7) 4))'"
      ]
     },
     "execution_count": 30,
     "metadata": {},
     "output_type": "execute_result"
    }
   ],
   "source": [
    "# let's reduce an RDD that has 2 partitions\n",
    "kid_ages_rdd2.reduce(visualize_combine)"
   ]
  },
  {
   "cell_type": "markdown",
   "metadata": {},
   "source": [
    "RESULT IS DIFFERENT DEPENDING ON HOW MANY PARTITIONS YOU SPECIFY!!!\n",
    "\n",
    "We cannot live in a world where different number of partitions gives different results.  Because of this, `reduce` only works when the combine operation is *associative* (in the mathematical sense).\n",
    "\n",
    "((A + B) + C) = (A + (B + C))\n",
    "\n",
    "Other problem:  ORDERING is not guaranteed.  Say you want to `reduce` 3 elements A, B, and C.  Suppose each element is the result of a previous computation.\n",
    "\n",
    "If A and C are ready before B then `reduce` might combine them in this order:  ((A C) B)\n",
    "If A and B are ready before C then `reduce` might combine them in this order:  ((A B) C)\n",
    "...and so on\n",
    "\n",
    "This also won't be consistent run after run unless the combine operation is *commutative* (in the mathematical sense)\n",
    "\n",
    "(A B) = (B A)"
   ]
  },
  {
   "cell_type": "markdown",
   "metadata": {},
   "source": [
    "## Spark is LAZY\n",
    "\n",
    "### Transformations\n",
    "\n",
    "`map` is an example of a *transformation* on an RDD.  **Transformations** operate on an RDD and produce a new RDD.\n",
    "\n",
    "Recall that, in regular Python (operating on a `list`), `map` is LAZY.  No computation is actually performed until you explicitly ask for the final result.\n",
    "\n",
    "Similarly, all Spark transformations (including Spark's version of `map`) are also lazy.  Nothing is done until absolutely necessary.\n",
    "\n",
    "Transformations can be chained together (the input to a transformation might depend on the output of one or more previous transformation(s)). This builds a so-called dependency **DAG (directed acyclic graph)** of transformations.\n",
    "\n",
    "### Actions\n",
    "\n",
    "**Actions** are operations performed on an RDD that produce a result (e.g. a single number) and bring it back to the driver (BTW this Jupyter notebook IS the \"driver\").\n",
    "\n",
    "`reduce` is a great example of an action.\n",
    "\n",
    "Actions trigger the processing of the dependency DAG (the previous unprocessed transformations).\n",
    "\n",
    "Other actions that you've already seen:\n",
    "\n",
    "- .collect()    fetches all elements of the RDD and returns to driver\n",
    "- .take(n)    fetches the first n elements of the RDD and returns to driver\n",
    "- .count()    counts how many elements are in the RDD and returns that result to driver"
   ]
  },
  {
   "cell_type": "code",
   "execution_count": 32,
   "metadata": {},
   "outputs": [
    {
     "data": {
      "text/plain": [
       "<map at 0x7f0f5fb08dd8>"
      ]
     },
     "execution_count": 32,
     "metadata": {},
     "output_type": "execute_result"
    }
   ],
   "source": [
    "# recall regular Python (operating on lists) is also LAZY (when programming in the functional style)\n",
    "data = [1.6, 2.4, 7.8, 4.6, 2.3]\n",
    "\n",
    "newdata_lazy = map(lambda x: x+1, data)\n",
    "newdata_lazy"
   ]
  },
  {
   "cell_type": "code",
   "execution_count": 33,
   "metadata": {},
   "outputs": [
    {
     "data": {
      "text/plain": [
       "[2.6, 3.4, 8.8, 5.6, 3.3]"
      ]
     },
     "execution_count": 33,
     "metadata": {},
     "output_type": "execute_result"
    }
   ],
   "source": [
    "# I can force the \"action\" by explicitly converting to a list\n",
    "newdata = list(newdata_lazy)\n",
    "newdata"
   ]
  },
  {
   "cell_type": "code",
   "execution_count": 34,
   "metadata": {},
   "outputs": [],
   "source": [
    "# Let's look at the same idea, but in Spark\n",
    "data_rdd = sc.parallelize(data)  # push data to workers to create RDD\n",
    "\n",
    "newdata_rdd = data_rdd.map(lambda x: x+1)  # NOTHING has been done at this point"
   ]
  },
  {
   "cell_type": "code",
   "execution_count": 35,
   "metadata": {},
   "outputs": [
    {
     "data": {
      "text/plain": [
       "[2.6, 3.4, 8.8, 5.6, 3.3]"
      ]
     },
     "execution_count": 35,
     "metadata": {},
     "output_type": "execute_result"
    }
   ],
   "source": [
    "# perform the .collect() action to bring the modified list back to driver\n",
    "newdata = newdata_rdd.collect()\n",
    "newdata"
   ]
  },
  {
   "cell_type": "markdown",
   "metadata": {},
   "source": [
    "### More complicated example of creating a DAG of transformations, then trigger with an action"
   ]
  },
  {
   "cell_type": "code",
   "execution_count": 38,
   "metadata": {},
   "outputs": [
    {
     "data": {
      "text/plain": [
       "array([ 1.91146227e+00,  1.25361714e+00,  2.91107854e+00, -1.13674704e+00,\n",
       "        1.21647758e+00,  6.65974367e-01, -2.95675688e-01,  2.14259804e+00,\n",
       "       -4.02370127e-01,  1.09288824e+00, -1.06880850e+00,  3.47489187e-01,\n",
       "       -3.44660043e-02, -7.66937213e-01, -7.93245722e-01,  1.69335680e+00,\n",
       "       -4.81255453e-01,  1.03001152e+00, -2.36933420e-01, -1.20534861e+00,\n",
       "       -6.76824199e-01,  1.72071572e-01, -2.60034602e-01, -1.08533320e+00,\n",
       "        7.95781781e-01, -2.62192317e-01,  3.65343951e-01,  5.22996671e-02,\n",
       "       -7.52439394e-01,  1.74538997e+00,  4.16498414e-01,  6.03056360e-01,\n",
       "        2.23022809e-01,  3.29689937e+00,  2.52819014e+00,  1.25079779e+00,\n",
       "       -7.82417069e-01, -1.48091803e+00, -8.16485179e-01, -2.35185835e+00,\n",
       "       -7.89736640e-02, -4.25996413e-01, -8.14832466e-01, -1.06232348e-01,\n",
       "       -1.39149440e+00,  1.12543749e+00,  9.12095041e-01, -2.79062029e-01,\n",
       "       -1.18774445e+00, -1.45079799e-01, -3.74784998e-01, -5.93592354e-01,\n",
       "        6.02222912e-01,  4.00644811e+00,  5.97464728e-01,  3.00403367e+00,\n",
       "        1.11081132e+00,  9.05428892e-01, -7.11235803e-01, -5.25665359e-02,\n",
       "       -5.14416906e-01, -2.05056081e-01,  4.95566727e-01,  6.46124489e-01,\n",
       "       -6.59584669e-01,  9.42142463e-02,  2.75244824e+00,  2.80966886e-01,\n",
       "       -2.95081191e-01, -2.83965718e-01,  6.90275309e-02,  4.62467581e-01,\n",
       "        2.04219413e-01,  2.91221554e+00, -1.10176836e+00, -1.06948761e+00,\n",
       "       -3.92349786e-01,  2.03673829e-03,  7.33906223e-01, -1.69939697e-01,\n",
       "       -2.15893680e+00,  6.34059255e-01, -1.47027379e+00, -2.31475523e+00,\n",
       "       -2.76886068e-01,  1.15696390e+00,  4.69125582e+00, -6.33209810e+00,\n",
       "       -7.48444368e-01, -8.46493939e-01,  7.51068948e-01,  3.40308884e-01,\n",
       "        3.99365713e-01,  1.13978127e+00, -3.71026621e-01, -1.42497133e+00,\n",
       "        3.70718816e-01,  9.76868639e-01, -1.84952973e+00,  2.35910977e-01,\n",
       "       -3.50925325e-01,  5.44301882e-01, -8.37042176e-02,  4.56130315e-02,\n",
       "        1.96508448e+00, -3.52599453e-01,  8.89678232e-01,  5.31999267e-01,\n",
       "       -5.18161873e+00,  1.42796864e-01, -4.79417617e-01,  6.42495308e+00,\n",
       "       -1.85916158e+00, -4.56513875e-01,  7.93665402e-01, -2.09292868e-01,\n",
       "        1.67484057e+00, -9.14542131e-01, -8.21593834e-02,  4.35325882e-01,\n",
       "        1.33136709e+00, -1.34533989e+00, -2.23361214e-01,  2.27755500e-01,\n",
       "       -2.34770982e+00, -7.79052164e-01, -5.03138457e-01,  2.66781283e+00,\n",
       "       -6.28504320e-01,  2.50623858e-01, -1.68273696e+00,  1.60908545e+00,\n",
       "       -8.25186039e-01,  1.24067064e-01, -1.15166390e-01,  2.13249548e-01,\n",
       "       -1.16779239e-02,  8.13272441e-01,  3.86424862e-01, -2.49512228e+00,\n",
       "        2.30000412e-01,  1.50056645e+00, -1.58591937e-01,  6.43253846e-02,\n",
       "        7.70088023e-01, -1.47415382e+00, -2.46577789e-01,  1.10683092e+00,\n",
       "        3.86573117e+00,  8.16142902e-01, -1.98397378e+00, -2.01795904e-01,\n",
       "       -1.09108096e+00,  4.06178960e-02,  4.89725986e-01, -5.13909176e-01,\n",
       "       -9.35882680e-01, -6.21042230e-01, -9.06588457e-01,  4.56039013e-01,\n",
       "       -8.18837162e-01,  2.35141093e+00,  6.75642243e-01,  1.41675213e-01,\n",
       "        3.50535184e-01,  1.89506034e+00, -1.68147957e+00, -8.83158744e-01,\n",
       "       -1.37554053e+00,  2.56535077e-01,  2.83269281e+00,  2.49537621e-01,\n",
       "        3.51513980e-01,  1.16325777e+00,  9.90825301e-01, -5.20556744e-02,\n",
       "       -2.70264124e-01,  9.25031944e-02,  4.54592899e-01,  5.32772426e-01,\n",
       "       -2.58072382e+00,  2.15329441e+00,  2.42636854e-01,  4.54836073e+00,\n",
       "        2.89429403e+00,  4.89991033e-01, -9.02961274e-02,  1.78097805e-01,\n",
       "        4.23682456e-01,  8.66268732e-01,  1.12696553e-01, -8.32352386e-01,\n",
       "        5.78388604e-01,  1.28889968e+00, -1.96397550e-01,  6.15171146e-01,\n",
       "       -7.26417193e-02,  1.58161023e+00, -8.05637747e+00, -1.53158592e+00,\n",
       "       -2.97699876e+00, -2.37080064e-01, -8.66245336e-01,  6.57326941e+00,\n",
       "       -5.57551468e-01,  2.46963361e-02,  1.12966850e+00,  2.28175979e-01,\n",
       "       -1.96598801e+00,  3.39256949e-01, -9.75406101e-02,  1.35803690e+00,\n",
       "        2.25768588e-01,  5.82375466e-01, -5.75470567e-01, -1.86696167e+00,\n",
       "       -1.03235069e+00, -4.06755757e+00,  4.43985832e-01,  7.12716767e-01,\n",
       "        7.09580625e-01, -5.79305446e-01, -6.80733544e-02, -2.23236973e+00,\n",
       "       -7.89871335e-01, -1.01985081e-03,  1.06193767e+00,  1.75117694e+00,\n",
       "        1.26998634e+00, -3.34915378e-01,  5.37938113e-02, -1.00797390e+00,\n",
       "       -4.57821440e+00,  1.09133102e+00, -2.01316658e+00, -1.33818478e+00,\n",
       "       -4.73763605e-01,  1.46846933e+00, -2.24874223e-01,  1.60522773e-01,\n",
       "       -7.85249348e-01, -1.89682890e-01,  1.98305662e+00,  1.39355589e-01,\n",
       "        5.36778849e-01,  3.93129882e-02, -9.25472779e-01, -3.28753789e-01,\n",
       "        4.64656150e-01,  2.16327103e-01, -6.64769653e-01,  7.19132212e-01,\n",
       "       -3.18321187e+00,  7.63633485e-01, -1.22168695e+00, -1.07531640e+00,\n",
       "        2.82150994e+00,  5.83762760e-01,  1.65413402e+00,  7.40067775e-01,\n",
       "       -3.15187096e+00,  7.63738249e-01, -3.17620990e-01, -4.51302128e-01,\n",
       "       -2.41187484e+00,  3.19196015e-01, -1.26782145e+00,  2.41820405e+00,\n",
       "        4.28681084e+00, -9.34736395e-01,  5.80242246e-02,  1.21003161e+00,\n",
       "        2.46506528e+00,  1.82530670e-01,  3.90550911e-01, -2.06921349e+00,\n",
       "       -1.24182592e-01, -4.74860766e-02, -7.69248115e-01,  2.63208128e+00,\n",
       "        1.79877047e+00, -4.33154723e+00, -1.30523807e+00,  1.97582871e+00,\n",
       "       -1.37932258e-01, -1.91089114e+00, -1.69080136e-01, -2.44157742e+00,\n",
       "       -1.47584658e+00,  3.76469160e+00,  1.92535264e+00,  2.06065764e+00,\n",
       "        1.87186996e-01,  3.65873705e+00,  2.49380742e-01, -7.78520298e-01,\n",
       "       -1.52471315e+00, -6.89355291e-01, -3.37358173e-01,  1.53246686e-01,\n",
       "       -1.22739770e+00,  5.82454495e-01,  8.07495493e-01,  6.24571580e-01,\n",
       "        1.06626987e+00, -2.77086300e-01, -6.76549396e-01,  1.18388547e+00,\n",
       "        1.04764724e+00, -6.21983495e-02,  9.81773033e-01, -1.54366353e+00,\n",
       "        3.53624861e-01, -8.07810401e-01, -1.05592234e-01, -2.07282332e+00,\n",
       "        2.02334509e+00,  4.43987119e-01,  1.08775954e+00,  1.98982283e-01,\n",
       "       -1.15882973e+00, -1.48689449e+00, -2.71184939e-01, -1.03963055e+00,\n",
       "        1.17811329e+00, -2.17348769e+00, -1.44231674e-01, -1.00848848e-01,\n",
       "        6.10794770e-01, -1.97951237e-01,  2.23418214e-01,  2.89315349e-01,\n",
       "        2.89643066e-01,  4.12691042e-01, -1.46245679e-01, -3.80856870e-01,\n",
       "        1.07776583e+00, -1.69366010e+00,  8.11207104e-02, -1.02870441e+00,\n",
       "        5.57861766e-01,  3.58086318e-01, -3.86489742e+00, -7.24060401e-01,\n",
       "       -7.28105106e-01, -6.29015201e-01,  6.49711708e-02, -5.06893225e-04,\n",
       "        1.55930318e+00, -1.21715616e+00,  4.37694320e-01,  4.86746637e+00,\n",
       "       -3.86095147e+00, -2.69378980e+00,  2.29235060e+00,  5.03182124e-01,\n",
       "        2.23671509e-01,  2.84541114e-01,  2.13699306e+00, -8.34504858e-01,\n",
       "       -1.05296815e+00,  4.55733402e-01, -5.24063113e-01, -4.82252815e-03,\n",
       "        1.79583707e+00, -1.92474507e+00, -1.28159988e+00,  2.98447848e+00,\n",
       "       -1.89481576e-01, -2.91889583e-01, -5.52303834e-01,  1.35619119e+00,\n",
       "        3.83308975e-01,  3.69984267e+00,  9.33874026e-02, -9.47510065e-01,\n",
       "       -1.80055308e-01,  6.40310973e-01,  1.67349049e+00,  2.41339944e+00,\n",
       "        2.96937113e-01, -3.11468539e+00,  1.82050244e+00, -1.62314772e-01,\n",
       "       -3.40763203e-01,  2.62776578e-01,  3.44784164e+00, -9.98116863e-01,\n",
       "        2.12482350e-01, -5.10160091e-01,  8.74186070e-01,  6.57512305e-01,\n",
       "       -8.67567494e-01,  3.96170419e-01,  9.26248985e-02, -8.13311866e-02,\n",
       "        1.70478284e+00,  1.26113114e+00,  5.60575847e-01,  1.68166312e+00,\n",
       "       -1.85048060e-01, -7.41856537e-01,  1.35403543e-01,  1.01130677e+00,\n",
       "        2.46810513e+00,  1.31879083e+00, -1.59926481e+00, -3.04837601e-01,\n",
       "       -1.13717051e-01, -1.81156949e-02, -2.04515752e+00,  9.73297817e-01,\n",
       "        8.09938845e-01,  3.77432374e+00, -7.68750039e-01, -8.85961038e-01,\n",
       "       -6.91647903e-01,  2.86246211e-01,  3.35704186e-01,  6.90004378e-01,\n",
       "        4.68290750e-01,  2.68748930e-01,  9.67501720e-01,  2.94021982e+00,\n",
       "        2.29110223e+00,  5.25501322e-01,  2.67784550e-01, -3.73331457e-01,\n",
       "        2.57743204e+00,  1.59030989e-01, -8.87936475e-01, -5.93368852e-01,\n",
       "       -6.45531741e-02,  2.76700074e+00, -1.06024705e+00,  3.49808804e-04,\n",
       "       -2.72484470e-01,  3.37191100e-01, -1.84033206e-01,  3.31174710e-02,\n",
       "       -1.85527949e+00, -1.17964127e+00,  1.10518211e+00,  1.85985189e+00,\n",
       "        3.21018851e-01, -4.11621177e-01,  3.24801507e+00,  2.86983187e-01,\n",
       "       -7.03198959e-01,  5.57001272e-02,  7.98088869e-01,  4.14453583e-01,\n",
       "        3.35553348e-01,  1.33363264e-01, -7.05629051e-01, -5.95943588e-01,\n",
       "       -2.15839620e+00, -2.01045633e+00,  1.90893708e-01, -1.39451171e+00,\n",
       "        4.96135472e-01, -1.23897077e+00,  2.89621117e-02,  3.11302069e-01,\n",
       "       -1.83630816e+00,  9.88172555e-01,  1.72175144e-01,  3.12978347e-01,\n",
       "        4.54085690e-01, -4.43574875e-01, -2.34297717e+00, -2.34563275e+00,\n",
       "        1.04675873e-01,  6.22970637e-01, -1.89299225e+00, -4.58592084e-01,\n",
       "       -1.89318117e-01,  6.34331810e-02, -6.28910833e-01, -2.78594223e+00,\n",
       "        8.26723366e-01,  1.01924129e+00,  1.45292455e-02,  6.80379774e-01,\n",
       "        2.65595320e+00,  3.42035630e-01, -1.29557533e+00, -7.64599043e-02,\n",
       "       -7.39314842e-01, -8.55377375e-01,  2.97965707e-01,  6.77996948e-01,\n",
       "       -2.35443989e-02, -2.22432886e-01,  3.01136645e-01,  2.53719087e-01,\n",
       "       -8.44317883e-01, -4.98896611e-02, -2.36662196e+00,  1.75245253e+00,\n",
       "        1.23607871e+00,  2.64135785e-01,  3.61433520e-01, -4.42059224e-01,\n",
       "        1.12302708e+00,  1.05412429e+00, -6.17364679e-01, -1.88428584e-01,\n",
       "       -6.06984197e-01,  1.30148467e+00,  1.37599174e+00,  1.90953512e+00,\n",
       "       -4.28523817e+00,  3.42803359e-01, -2.56641635e-01,  8.40024453e-03,\n",
       "       -1.17486611e+00, -1.36520682e+00,  4.04761014e-01,  6.13959187e-02,\n",
       "       -7.65040538e-01,  2.25651820e-01,  2.06429256e-01,  7.95113007e+00,\n",
       "       -1.06216351e+00,  1.69176426e+00, -3.11468791e+00,  5.18946324e-01,\n",
       "        7.15669246e-01,  1.07132511e-01,  3.99762277e-01,  1.07494722e+00,\n",
       "        1.00384445e+00, -2.67219757e+00,  7.25792199e-01,  1.40292036e+00,\n",
       "       -1.15785521e+00, -2.22117891e+00,  2.18882418e+00,  6.34060235e-01,\n",
       "       -6.65470760e-01, -1.73936701e-01,  1.88819962e-01,  1.63741282e-01,\n",
       "       -1.67923666e-01, -6.20544220e-01, -2.72617205e+00,  6.75733901e-02,\n",
       "        8.20588851e-02, -1.58398567e+00,  1.33158746e+00, -1.32544705e+00,\n",
       "       -4.84490440e-01,  2.69608565e+00, -2.46460523e+00,  2.79529979e-01,\n",
       "       -9.60801316e-02, -1.86158526e+00, -4.42634644e-01, -5.29810106e-01,\n",
       "       -1.26690901e+00,  1.06477365e+00,  4.92654986e-02, -5.29121974e-02,\n",
       "        3.37638540e-01,  7.78582697e-01, -1.27757408e+00,  1.19357764e+00,\n",
       "       -1.25078269e-02, -1.52957689e-01,  8.91433699e-01,  2.21728442e-01,\n",
       "       -4.72874515e-01,  7.82232625e-01,  2.21829754e+00, -3.13473077e-01,\n",
       "        1.81256256e-01, -5.60722395e-01, -9.31455352e-01,  2.06205686e-01,\n",
       "       -7.40382584e-01, -1.93142222e-01,  3.84487906e-01,  1.96167419e-01,\n",
       "       -1.64820248e-01, -5.71345538e-01, -1.47024190e-01,  2.68435358e+00,\n",
       "       -1.11408917e-01, -1.97602499e-01,  1.92547832e-01, -1.55405873e+00,\n",
       "        1.89068674e-01, -1.53314321e+00,  1.96310053e+00,  1.85067935e+00,\n",
       "       -2.41935913e+00,  3.13217515e-01, -2.54421965e+00,  5.92093464e-01,\n",
       "       -9.66108926e-01, -3.93300386e-01,  1.19319824e+00, -4.52922784e-01,\n",
       "       -9.40586298e-01, -1.39448128e+00, -8.86846125e-01, -1.94018765e+00,\n",
       "        1.66189561e+00,  1.23147945e-01, -8.35729721e-01,  5.73589667e-01,\n",
       "        2.22190037e+00, -1.90349036e-01,  1.13448562e+00, -3.05114370e-01,\n",
       "       -1.73821036e-01, -7.91271853e-01, -8.00472678e-02,  8.62060372e-01,\n",
       "       -5.77627948e-01,  5.42359499e-01, -8.90561254e-01, -3.63308405e-01,\n",
       "       -2.10686157e+00,  5.64280864e-01, -1.75969784e+00,  9.40751517e-01,\n",
       "       -7.93041324e-01, -2.19499837e+00,  6.42854191e-01, -4.01816313e-01,\n",
       "       -3.76362394e-01,  4.69289801e-02, -9.15826474e-01,  3.29011616e-01,\n",
       "        1.88111142e-01, -6.87919150e-02, -2.30709240e-01,  5.13289227e-01,\n",
       "       -2.27613056e+00,  2.07650407e-01, -2.37435284e-01, -1.77923133e+00,\n",
       "       -5.63510254e-01,  8.71032170e-01,  3.33744780e+00, -2.45334625e-01,\n",
       "        1.01052859e+00, -4.87289018e-01,  3.08059725e-01,  8.98909996e-01,\n",
       "        1.14586071e+00, -8.99500089e-01,  5.44085662e-01, -1.86112612e+00,\n",
       "        9.69944730e-01, -4.80684152e-01,  6.78964781e-02,  2.38361859e-02,\n",
       "       -1.54557371e-01,  4.79094834e-01, -3.11991328e-01, -9.83932517e-01,\n",
       "       -1.29182297e+00,  3.18975085e-01, -9.55256783e-01, -2.20760830e+00,\n",
       "        1.60581300e-01,  1.59701552e+00, -8.89658233e-02,  9.63167139e-01,\n",
       "       -4.26097629e-01, -8.25685779e-01, -1.96558591e-02, -2.45679999e-01,\n",
       "       -3.06117381e+00, -9.03876587e-01, -4.04850412e-01, -4.28500328e-02,\n",
       "        2.22867239e-01, -1.42483618e+00,  1.98935523e-01,  6.81721511e-01,\n",
       "        2.37270272e+00, -3.69399436e-02, -6.78220901e-01, -1.08198381e+00,\n",
       "       -4.99585803e-01, -5.63261794e+00,  2.21199444e+00,  8.20893047e-02,\n",
       "        2.87949288e-01, -9.32891141e-02,  8.23594904e-01,  1.37375198e+00,\n",
       "       -1.37111690e+00,  5.21797116e-02,  3.46210035e+00, -1.86708677e+00,\n",
       "        3.23885200e-01, -8.30746613e-01,  2.01464156e-01, -2.94933512e-01,\n",
       "        3.59218533e-01, -1.52315486e-01,  2.86786840e+00, -2.21437613e+00,\n",
       "       -1.70029170e-01, -9.34551552e-01, -6.47229528e-02,  6.25136814e+00,\n",
       "       -6.97464912e-02,  4.67715693e-01, -6.71382053e-01,  6.19957667e-01,\n",
       "       -1.66607160e+00,  2.32406902e+00, -7.82789152e-02, -3.01131327e+00,\n",
       "        1.82591950e-01, -1.35923775e-01,  5.02744739e-01,  9.24238223e-01,\n",
       "       -5.42028658e-01, -6.52045453e-01,  3.02132184e+00, -1.52322231e+00,\n",
       "        1.89114839e-01,  2.88743900e-01,  1.60267022e+00,  4.39232875e-01,\n",
       "       -3.16078925e+00, -1.92021886e+00, -1.97320611e+00,  1.76653788e+00,\n",
       "       -8.27359423e-02,  2.19502730e+00, -2.60553337e-01, -9.85589383e-02,\n",
       "       -1.08752966e+00,  4.72531656e-01, -1.27879773e+00,  1.21072693e+00,\n",
       "        1.01202219e+00, -1.84487852e+00,  2.56003512e-01, -2.60727646e-01,\n",
       "       -3.37439358e-02,  1.25538474e+00,  1.13215022e+00, -1.08725500e+00,\n",
       "       -1.72844276e-01, -1.00586872e+00, -1.06016061e+00, -5.22940058e-01,\n",
       "        4.96841297e-01, -8.30325612e-01,  3.14305144e-01, -1.98486622e-01,\n",
       "       -1.15215582e+00,  6.12508749e-01,  2.27125953e+00, -5.83755848e-01,\n",
       "       -9.67388957e-01, -4.48374620e-01, -2.67663948e-02,  6.32231090e-01,\n",
       "        2.55642199e-01, -7.82981111e-01, -8.33787699e-01,  2.40625668e+00,\n",
       "        1.30123901e+00, -4.10988023e-01, -7.14278325e-01, -8.19052837e-01,\n",
       "       -5.58234273e+00,  2.85574705e-01,  1.34712433e+00, -1.91697394e+00,\n",
       "        8.65918739e-01, -3.29282283e-01,  7.82795170e-01,  4.55155929e-01,\n",
       "        1.99187271e+00,  2.97924868e+00, -1.04626364e+00, -2.12397608e+00,\n",
       "        1.47503196e-01,  3.91263890e-01,  2.05511265e+00,  9.35379958e-01,\n",
       "       -7.33486215e-02,  4.65371800e-01,  2.91993582e-02,  7.37782601e-01,\n",
       "       -2.71731134e-01,  1.99861239e+00, -1.64688925e+00,  2.23115961e+00,\n",
       "       -9.73699113e-02,  9.29731686e-02,  7.67975030e-02,  6.96549761e-01,\n",
       "       -5.87276489e-01,  7.78872075e-01, -1.54266509e+00, -2.79635807e+00,\n",
       "        6.44799412e-01,  9.87947857e-01, -7.96818100e-01, -4.95769062e+00,\n",
       "        5.33943729e-01,  2.52838931e-01,  1.52752788e+00, -7.62526450e-02,\n",
       "        1.17388575e+00,  2.76235166e-01,  7.53894100e-01, -1.18307322e+00,\n",
       "       -4.52528738e+00, -1.58218766e-01,  4.95103436e-01,  6.11394770e-01,\n",
       "        2.69171329e+00, -2.49026587e+00, -1.84869143e-01, -1.11896154e+00,\n",
       "       -1.82332244e+00,  1.36340590e+00, -1.08303803e+00,  9.46169609e-01,\n",
       "        1.54545019e+00,  2.62778431e-01, -8.33026485e-01,  7.19422344e-02,\n",
       "        1.30026364e+00, -8.01397859e-01, -2.49750762e-01,  5.62329268e-01,\n",
       "        1.26807994e-01, -1.98383030e-01, -4.11956375e-01, -1.29927975e+00,\n",
       "       -4.00937566e-01,  9.42529482e-01, -6.63978993e-01,  6.63734522e-01,\n",
       "        2.26146614e+00, -4.95048874e-02,  5.39820718e-01,  1.12476036e+00,\n",
       "        3.93584922e-01,  1.84193185e-01, -5.65306259e-01, -6.53873938e-01,\n",
       "        2.04178836e+00,  7.40122815e-01,  9.53684632e-01, -1.67353449e-01,\n",
       "        2.22311619e+00, -9.49736821e-01, -5.78324175e-01, -1.59881272e-01,\n",
       "        1.16600333e-01, -2.33398335e-01,  1.25348667e-01, -1.31773756e+00,\n",
       "       -2.84028730e-01,  1.14565633e+00,  4.11184806e-01,  6.52510867e+00,\n",
       "       -4.10603239e+00,  1.72505551e+00,  4.00056089e-01,  1.66373756e+00,\n",
       "       -7.06756434e-01,  1.63702930e+00,  5.19907326e-01, -7.72922488e-02,\n",
       "       -1.76491129e+00, -1.69799708e-02,  2.95547037e-01, -1.48644803e+00,\n",
       "        2.57433867e+00,  4.79000792e-01,  2.60205265e+00,  1.30795912e+00,\n",
       "        1.22327650e+00, -2.31101405e-01, -6.88440908e-02, -4.78818720e-03,\n",
       "       -1.48344767e-01,  2.07511191e+00, -6.97506569e-01, -7.03239281e-01,\n",
       "       -1.22517014e-01,  5.87111492e-01,  5.21067711e-01,  9.91486183e-01,\n",
       "       -8.90364725e-01,  1.40254175e+00, -8.58178617e-01, -1.47785856e+00,\n",
       "       -7.73730554e-01,  7.84792639e-01, -3.18647476e-01,  4.19961141e-01,\n",
       "       -1.62747894e+00, -9.49226371e-01, -2.96759526e+00,  7.86617772e-01,\n",
       "        3.49056981e-01, -5.78622878e-01, -1.24191743e-01, -1.43264907e+00,\n",
       "        2.95474905e+00,  1.63224952e+00, -3.09783398e-01, -1.23022492e+00,\n",
       "        1.81425971e+00, -8.89809598e-02,  7.64410957e-01, -8.93452200e-01,\n",
       "        1.29768126e+00,  4.58392643e-01,  3.61723558e-01, -4.42247221e-01,\n",
       "       -5.38875189e-01,  9.60990005e-01,  5.58936364e-02,  9.83880887e-02,\n",
       "       -7.58394116e-01,  4.29542616e-01, -4.72017093e-02,  2.29541366e+00,\n",
       "       -3.10844896e-01,  2.30346269e-01,  9.83194900e-01, -1.12623306e-01,\n",
       "       -7.00766813e-01, -5.01077820e-02, -7.00504893e-01,  9.53197011e-01,\n",
       "        5.91234485e-01,  1.42659423e-01, -2.21198313e+00,  2.89725101e-01,\n",
       "        4.84700754e-01, -2.59004140e-01, -1.24470549e+00,  4.05563763e-01,\n",
       "       -2.50675813e+00,  1.14960109e+00, -2.58105844e-01,  5.06119005e-01,\n",
       "       -1.38310661e-01, -9.29593730e-01, -2.82543440e+00, -2.38995837e-01,\n",
       "       -8.48364862e-01, -1.93741235e-01, -2.78803343e-01, -2.65601015e-01,\n",
       "        2.98202146e-01, -2.33009001e+00, -7.23749555e-01, -1.21090641e+00,\n",
       "        2.09404815e+00,  6.33487128e-01,  4.75958004e-01,  7.11231232e-01,\n",
       "        1.01552984e+00,  1.07761944e+00,  8.55333562e-01,  1.22872663e+00,\n",
       "        9.13881083e-02, -1.80397244e-02,  1.77769979e+00,  2.44530436e-01,\n",
       "        9.08312813e-02, -1.45794923e+00,  1.10057455e+00,  2.33155184e-01,\n",
       "        1.73076075e-02,  1.00481281e+00, -3.89199570e-01, -5.47779661e-01,\n",
       "       -4.67082690e-01,  1.93451468e+00,  3.46164646e-01,  3.89034540e-01,\n",
       "        1.20527055e+00, -8.07083333e-01,  9.46414871e-01, -1.53380462e-01,\n",
       "       -1.97406896e+00, -3.16326216e-01, -6.69287825e-01,  2.19596121e+00])"
      ]
     },
     "execution_count": 38,
     "metadata": {},
     "output_type": "execute_result"
    }
   ],
   "source": [
    "import numpy as np\n",
    "\n",
    "# generate some random samples from the Laplace distribution (remember your stock returns!)\n",
    "location = 0.0\n",
    "scale = 1.0\n",
    "data = np.random.laplace(location, scale, 1000)\n",
    "data"
   ]
  },
  {
   "cell_type": "code",
   "execution_count": 41,
   "metadata": {},
   "outputs": [
    {
     "data": {
      "image/png": "[encoded data removed]",
      "text/plain": [
       "<Figure size 432x288 with 1 Axes>"
      ]
     },
     "metadata": {
      "needs_background": "light"
     },
     "output_type": "display_data"
    }
   ],
   "source": [
    "# let's plot a histogram\n",
    "import matplotlib.pyplot as plt\n",
    "\n",
    "bins = 40\n",
    "plt.hist(data, bins, density=True)\n",
    "plt.show()"
   ]
  },
  {
   "cell_type": "code",
   "execution_count": 43,
   "metadata": {},
   "outputs": [],
   "source": [
    "# Remember:  numpy arrays are very much like \"beefed up\" lists\n",
    "# We can actually parallelize them to RDDs just like lists\n",
    "\n",
    "data_rdd = sc.parallelize(data, 4)"
   ]
  },
  {
   "cell_type": "code",
   "execution_count": 45,
   "metadata": {},
   "outputs": [],
   "source": [
    "# Let's filter our data for only POSITIVE stock returns (because I only like good news)\n",
    "# .filter() is a transformation\n",
    "filtered_data_rdd = data_rdd.filter(lambda x: x >= 0)"
   ]
  },
  {
   "cell_type": "code",
   "execution_count": 56,
   "metadata": {},
   "outputs": [],
   "source": [
    "# Let's subsample to make the calculations go faster\n",
    "# .sample() is a transformation\n",
    "with_replacement = True\n",
    "sample_fraction = 0.5\n",
    "\n",
    "subsampled_data_rdd = filtered_data_rdd.sample(with_replacement, sample_fraction)"
   ]
  },
  {
   "cell_type": "code",
   "execution_count": 57,
   "metadata": {},
   "outputs": [],
   "source": [
    "# If I want *exactly* reproducible results then must specify the random SEED (computers only really have PSEUDOrandom algorithms)\n",
    "random_seed = 123\n",
    "subsampled_data_rdd = filtered_data_rdd.sample(with_replacement, sample_fraction, random_seed)"
   ]
  },
  {
   "cell_type": "code",
   "execution_count": 58,
   "metadata": {},
   "outputs": [
    {
     "data": {
      "text/plain": [
       "242"
      ]
     },
     "execution_count": 58,
     "metadata": {},
     "output_type": "execute_result"
    }
   ],
   "source": [
    "# UP TO NOW NO WORK HAS BEEN DONE!!!  Only a DAG has been constructed\n",
    "\n",
    "# Let's perform an action to trigger the DAG\n",
    "# Let's count our data \n",
    "subsampled_data_rdd.count()"
   ]
  },
  {
   "cell_type": "code",
   "execution_count": 59,
   "metadata": {},
   "outputs": [
    {
     "data": {
      "text/plain": [
       "1.0255196307881886"
      ]
     },
     "execution_count": 59,
     "metadata": {},
     "output_type": "execute_result"
    }
   ],
   "source": [
    "# Let's compute the standard deviation of my positive returns\n",
    "# .stddev() is also an action.  It trigers the DAG above.\n",
    "# Do you think Spark will recompute everything from the beginning?  Or is it smarter than that?\n",
    "sigma = subsampled_data_rdd.stdev()\n",
    "sigma"
   ]
  },
  {
   "cell_type": "code",
   "execution_count": 60,
   "metadata": {},
   "outputs": [],
   "source": [
    "# Let's collect all the data back and graph it\n",
    "# .collect() is also an action\n",
    "subsampled_data = subsampled_data_rdd.collect()"
   ]
  },
  {
   "cell_type": "code",
   "execution_count": 61,
   "metadata": {},
   "outputs": [
    {
     "data": {
      "image/png": "[encoded data removed]",
      "text/plain": [
       "<Figure size 432x288 with 1 Axes>"
      ]
     },
     "metadata": {
      "needs_background": "light"
     },
     "output_type": "display_data"
    }
   ],
   "source": [
    "bins = 40\n",
    "plt.hist(subsampled_data, bins, density=True)\n",
    "plt.show()"
   ]
  },
  {
   "cell_type": "code",
   "execution_count": null,
   "metadata": {},
   "outputs": [],
   "source": []
  }
 ],
 "metadata": {
  "kernelspec": {
   "display_name": "Python 3",
   "language": "python",
   "name": "python3"
  },
  "language_info": {
   "codemirror_mode": {
    "name": "ipython",
    "version": 3
   },
   "file_extension": ".py",
   "mimetype": "text/x-python",
   "name": "python",
   "nbconvert_exporter": "python",
   "pygments_lexer": "ipython3",
   "version": "3.6.7"
  }
 },
 "nbformat": 4,
 "nbformat_minor": 2
}
