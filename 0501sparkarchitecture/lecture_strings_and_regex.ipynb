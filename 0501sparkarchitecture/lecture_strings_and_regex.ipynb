{
 "cells": [
  {
   "cell_type": "markdown",
   "metadata": {},
   "source": [
    "# Python Strings and Regex primer\n",
    "\n",
    "Python strings, even by themselves, can be tricky.  Whenever I type a string into my program directly (as opposed to fetching it from data, or asking the user for input) this is called a *string literal*."
   ]
  },
  {
   "cell_type": "code",
   "execution_count": 27,
   "metadata": {},
   "outputs": [
    {
     "name": "stdout",
     "output_type": "stream",
     "text": [
      "Python string literals are really easy!\n"
     ]
    }
   ],
   "source": [
    "# string literal\n",
    "str1 = 'Python string literals are really easy!'\n",
    "print(str1)"
   ]
  },
  {
   "cell_type": "code",
   "execution_count": 30,
   "metadata": {},
   "outputs": [
    {
     "name": "stdout",
     "output_type": "stream",
     "text": [
      "...or are they?\n",
      "There are special escape sequences like this newline\n"
     ]
    }
   ],
   "source": [
    "str2 = '...or are they?\\nThere are special escape sequences like this newline' \n",
    "print(str2)"
   ]
  },
  {
   "cell_type": "markdown",
   "metadata": {},
   "source": [
    "Here is a list of special \"escape sequences\" that mean special things to Python:\n",
    "\n",
    "https://linuxconfig.org/list-of-python-escape-sequence-characters-with-examples\n",
    "\n",
    "For example, if I want a literal backslash (not an escape sequence) then I have to escape it by using 2 backslashes:"
   ]
  },
  {
   "cell_type": "code",
   "execution_count": 32,
   "metadata": {},
   "outputs": [
    {
     "name": "stdout",
     "output_type": "stream",
     "text": [
      "I do not want a\\newline here\n"
     ]
    }
   ],
   "source": [
    "str3 = 'I do not want a\\\\newline here'\n",
    "print(str3)"
   ]
  },
  {
   "cell_type": "markdown",
   "metadata": {},
   "source": [
    "Another interesting escape sequence, the `\\uXXXX` allows you to have arbitrary characters from Unicode:\n",
    "\n",
    "https://en.wikipedia.org/wiki/List_of_Unicode_characters"
   ]
  },
  {
   "cell_type": "code",
   "execution_count": 33,
   "metadata": {},
   "outputs": [
    {
     "name": "stdout",
     "output_type": "stream",
     "text": [
      "That will cost you ₤5!\n"
     ]
    }
   ],
   "source": [
    "str4 = \"That will cost you \\u20A45!\"\n",
    "print(str4)"
   ]
  },
  {
   "cell_type": "markdown",
   "metadata": {},
   "source": [
    "Dealing with strings that themselves contain quotation marks can be a real pain.  One option is to escape the quotation mark:"
   ]
  },
  {
   "cell_type": "code",
   "execution_count": 34,
   "metadata": {},
   "outputs": [
    {
     "name": "stdout",
     "output_type": "stream",
     "text": [
      "My favorite punctuation is the \" mark\n"
     ]
    }
   ],
   "source": [
    "str5 = \"My favorite punctuation is the \\\" mark\"\n",
    "print(str5)"
   ]
  },
  {
   "cell_type": "markdown",
   "metadata": {},
   "source": [
    "Beware that Python doesn't ALWAYS interpret a `\\` as starting an escape sequence.  If the character that comes after isn't in this list\n",
    "\n",
    "https://linuxconfig.org/list-of-python-escape-sequence-characters-with-examples\n",
    "\n",
    "then Python ignores it.  For example, `\\S` is not a special escape sequence to Python, so it gets ignored."
   ]
  },
  {
   "cell_type": "code",
   "execution_count": 41,
   "metadata": {},
   "outputs": [
    {
     "name": "stdout",
     "output_type": "stream",
     "text": [
      "There is nothing particulary special about \\S to Python\n"
     ]
    }
   ],
   "source": [
    "print(\"There is nothing particulary special about \\S to Python\")"
   ]
  },
  {
   "cell_type": "markdown",
   "metadata": {},
   "source": [
    "Another option is to delimit the string using a quotation mark that you aren't using in the string itself.  Here I switched to single quotes, which Python is totally happy with:"
   ]
  },
  {
   "cell_type": "code",
   "execution_count": 35,
   "metadata": {},
   "outputs": [
    {
     "name": "stdout",
     "output_type": "stream",
     "text": [
      "My favorite punctuation is the \" mark\n"
     ]
    }
   ],
   "source": [
    "str6 = 'My favorite punctuation is the \" mark'\n",
    "print(str6)"
   ]
  },
  {
   "cell_type": "markdown",
   "metadata": {},
   "source": [
    "What if you want a string that uses both `'` and `\"` characters in it?  You can either escape them, or switch to Python's handy \"triple-quote\" syntax:"
   ]
  },
  {
   "cell_type": "code",
   "execution_count": 36,
   "metadata": {},
   "outputs": [
    {
     "name": "stdout",
     "output_type": "stream",
     "text": [
      "I like both \" and ' punctuation!\n"
     ]
    }
   ],
   "source": [
    "str7 = \"\"\"I like both \" and ' punctuation!\"\"\"\n",
    "print(str7)"
   ]
  },
  {
   "cell_type": "code",
   "execution_count": 37,
   "metadata": {},
   "outputs": [
    {
     "name": "stdout",
     "output_type": "stream",
     "text": [
      "I like both \" and ' punctuation!\n"
     ]
    }
   ],
   "source": [
    "# You can do the same with triple single quotes\n",
    "str8 = '''I like both \" and ' punctuation!'''\n",
    "print(str8)"
   ]
  },
  {
   "cell_type": "markdown",
   "metadata": {},
   "source": [
    "Triple quotes are most often used because they allow \"multiline\" string literals without having to use ugly `\\n` escape sequences:"
   ]
  },
  {
   "cell_type": "code",
   "execution_count": 38,
   "metadata": {},
   "outputs": [
    {
     "name": "stdout",
     "output_type": "stream",
     "text": [
      "This is a\n",
      "cool string\n"
     ]
    }
   ],
   "source": [
    "str9 = \"\"\"This is a\n",
    "cool string\"\"\"\n",
    "print(str9)"
   ]
  },
  {
   "cell_type": "markdown",
   "metadata": {},
   "source": [
    "Don't make the mistake of trying to align a multiline string in your code, though.  It looks pretty, but doesn't give you what you want:"
   ]
  },
  {
   "cell_type": "code",
   "execution_count": 39,
   "metadata": {},
   "outputs": [
    {
     "name": "stdout",
     "output_type": "stream",
     "text": [
      "This is a\n",
      "           cool string\n"
     ]
    }
   ],
   "source": [
    "str10 = \"\"\"This is a\n",
    "           cool string\"\"\"\n",
    "print(str10)"
   ]
  },
  {
   "cell_type": "markdown",
   "metadata": {},
   "source": [
    "Sometimes all of this character escaping that Python does can be annoying.  You can turn it off using so-called \"raw\" string syntax:"
   ]
  },
  {
   "cell_type": "code",
   "execution_count": 40,
   "metadata": {},
   "outputs": [
    {
     "name": "stdout",
     "output_type": "stream",
     "text": [
      "In this raw string Python ignores the backslash \\n\n"
     ]
    }
   ],
   "source": [
    "str11 = r'In this raw string Python ignores the backslash \\n'\n",
    "print(str11)"
   ]
  },
  {
   "cell_type": "markdown",
   "metadata": {},
   "source": [
    "## Regex\n",
    "\n",
    "Regex brings its own set of complications to string literals.\n",
    "\n",
    "The very first thing to know is that PYTHON gets to interpret your string literal FIRST.\n",
    "\n",
    "In other words, regex doesn't see the pattern that you literally typed in.  It sees the string that PYTHON has messed with.\n",
    "\n",
    "Regex is like a little language by itself, and comes with its own commands and special escape sequences:\n",
    "\n",
    "https://www.debuggex.com/cheatsheet/regex/python\n",
    "\n",
    "Problems arise when you are trying to tell regex to match an escape sequence, but that escape sequence also happens to mean something to Python.  Here's an example:"
   ]
  },
  {
   "cell_type": "code",
   "execution_count": 45,
   "metadata": {},
   "outputs": [
    {
     "name": "stdout",
     "output_type": "stream",
     "text": [
      "hi\\there\n"
     ]
    }
   ],
   "source": [
    "scary_data = r'hi\\there'\n",
    "print(scary_data)"
   ]
  },
  {
   "cell_type": "code",
   "execution_count": 46,
   "metadata": {},
   "outputs": [],
   "source": [
    "import re\n",
    "\n",
    "# I want to match the backslash LITERALLY, so I escape it\n",
    "pattern = '[A-Za-z]+\\\\[A-Za-z]+'\n",
    "m = re.match(pattern, scary_data)\n",
    "m"
   ]
  },
  {
   "cell_type": "markdown",
   "metadata": {},
   "source": [
    "This failed (`m` is `None`) because the regex didn't even SEE your escaped backslash.  Python gobbled it up.  You can see that if you print your pattern:"
   ]
  },
  {
   "cell_type": "code",
   "execution_count": 47,
   "metadata": {},
   "outputs": [
    {
     "name": "stdout",
     "output_type": "stream",
     "text": [
      "[A-Za-z]+\\[A-Za-z]+\n"
     ]
    }
   ],
   "source": [
    "print(pattern)"
   ]
  },
  {
   "cell_type": "markdown",
   "metadata": {},
   "source": [
    "What you need to do here is DOUBLE ESCAPE each backslash (once for Python, and once for regex):"
   ]
  },
  {
   "cell_type": "code",
   "execution_count": 48,
   "metadata": {},
   "outputs": [
    {
     "name": "stdout",
     "output_type": "stream",
     "text": [
      "[A-Za-z]+\\\\[A-Za-z]+\n"
     ]
    },
    {
     "data": {
      "text/plain": [
       "<_sre.SRE_Match object; span=(0, 8), match='hi\\\\there'>"
      ]
     },
     "execution_count": 48,
     "metadata": {},
     "output_type": "execute_result"
    }
   ],
   "source": [
    "pattern = '[A-Za-z]+\\\\\\\\[A-Za-z]+'\n",
    "print(pattern)\n",
    "m = re.match(pattern, scary_data)\n",
    "m"
   ]
  },
  {
   "cell_type": "markdown",
   "metadata": {},
   "source": [
    "Now it matched just fine.  In order to avoid this double-escaping hell, it is usually best with regex to use RAW Python strings (i.e. tell Python to stop trying to interpret backslashes - leave the string unmolested and send it directly to the regex):"
   ]
  },
  {
   "cell_type": "code",
   "execution_count": 49,
   "metadata": {},
   "outputs": [
    {
     "name": "stdout",
     "output_type": "stream",
     "text": [
      "[A-Za-z]+\\\\[A-Za-z]+\n"
     ]
    },
    {
     "data": {
      "text/plain": [
       "<_sre.SRE_Match object; span=(0, 8), match='hi\\\\there'>"
      ]
     },
     "execution_count": 49,
     "metadata": {},
     "output_type": "execute_result"
    }
   ],
   "source": [
    "pattern = r'[A-Za-z]+\\\\[A-Za-z]+'\n",
    "print(pattern)\n",
    "m = re.match(pattern, scary_data)\n",
    "m"
   ]
  },
  {
   "cell_type": "markdown",
   "metadata": {},
   "source": [
    "Here is one example of how to do your Week 4 homework:"
   ]
  },
  {
   "cell_type": "code",
   "execution_count": 50,
   "metadata": {},
   "outputs": [],
   "source": [
    "logentry = 'maynard.isi.uconn.edu - - [28/Jul/1995:13:32:22 -0400] \"GET /images/shuttle-patch-logo.gif HTTP/1.0\" 200 891'"
   ]
  },
  {
   "cell_type": "code",
   "execution_count": 54,
   "metadata": {},
   "outputs": [],
   "source": [
    "pattern = r'(\\S+)\\s+(\\S+)\\s+(\\S+)\\s+\\[(.*)\\]\\s+\"(.*)\"\\s+(\\d+)\\s+(\\d+)'\n",
    "myregex = re.compile(pattern)"
   ]
  },
  {
   "cell_type": "code",
   "execution_count": 55,
   "metadata": {},
   "outputs": [
    {
     "data": {
      "text/plain": [
       "<_sre.SRE_Match object; span=(0, 108), match='maynard.isi.uconn.edu - - [28/Jul/1995:13:32:22 ->"
      ]
     },
     "execution_count": 55,
     "metadata": {},
     "output_type": "execute_result"
    }
   ],
   "source": [
    "m = myregex.match(logentry)\n",
    "m"
   ]
  },
  {
   "cell_type": "code",
   "execution_count": 58,
   "metadata": {},
   "outputs": [
    {
     "data": {
      "text/plain": [
       "('maynard.isi.uconn.edu',\n",
       " '-',\n",
       " '-',\n",
       " '28/Jul/1995:13:32:22 -0400',\n",
       " 'GET /images/shuttle-patch-logo.gif HTTP/1.0',\n",
       " '200',\n",
       " '891')"
      ]
     },
     "execution_count": 58,
     "metadata": {},
     "output_type": "execute_result"
    }
   ],
   "source": [
    "result_tuple = m.groups()\n",
    "result_tuple"
   ]
  },
  {
   "cell_type": "code",
   "execution_count": 59,
   "metadata": {},
   "outputs": [
    {
     "data": {
      "text/plain": [
       "'28/Jul/1995:13:32:22 -0400'"
      ]
     },
     "execution_count": 59,
     "metadata": {},
     "output_type": "execute_result"
    }
   ],
   "source": [
    "result_tuple[3]"
   ]
  },
  {
   "cell_type": "code",
   "execution_count": null,
   "metadata": {},
   "outputs": [],
   "source": []
  }
 ],
 "metadata": {
  "kernelspec": {
   "display_name": "Python 3",
   "language": "python",
   "name": "python3"
  },
  "language_info": {
   "codemirror_mode": {
    "name": "ipython",
    "version": 3
   },
   "file_extension": ".py",
   "mimetype": "text/x-python",
   "name": "python",
   "nbconvert_exporter": "python",
   "pygments_lexer": "ipython3",
   "version": "3.6.8"
  }
 },
 "nbformat": 4,
 "nbformat_minor": 2
}
