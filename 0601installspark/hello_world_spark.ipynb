{
 "cells": [
  {
   "cell_type": "code",
   "execution_count": null,
   "metadata": {},
   "outputs": [],
   "source": [
    "# Make sure you have run these commands to set everything up first\n",
    "# conda activate py37\n",
    "# conda install pyspark python-hdfs\n",
    "# cd ~/projects\n",
    "# git clone https://github.com/sstirlin/docker-spark.git\n",
    "# cd docker-spark\n",
    "# docker-compose up -d\n",
    "# bash expose_hostnames.sh"
   ]
  },
  {
   "cell_type": "code",
   "execution_count": 1,
   "metadata": {},
   "outputs": [],
   "source": [
    "from hdfs import InsecureClient"
   ]
  },
  {
   "cell_type": "code",
   "execution_count": 2,
   "metadata": {},
   "outputs": [],
   "source": [
    "client = InsecureClient('http://namenode:50070', user='root')\n",
    "client.makedirs('/Users')\n",
    "client.makedirs('/Users/vagrant')\n",
    "client.set_owner('/Users/vagrant', owner='vagrant', group='vagrant')"
   ]
  },
  {
   "cell_type": "code",
   "execution_count": 3,
   "metadata": {},
   "outputs": [
    {
     "data": {
      "text/plain": [
       "'/Users/vagrant/Twitter-sentiment-self-drive-DFE.csv'"
      ]
     },
     "execution_count": 3,
     "metadata": {},
     "output_type": "execute_result"
    }
   ],
   "source": [
    "client = InsecureClient('http://namenode:50070', user='vagrant')\n",
    "client.upload('/Users/vagrant/','../python_tutorial/Twitter-sentiment-self-drive-DFE.csv', )"
   ]
  },
  {
   "cell_type": "code",
   "execution_count": 4,
   "metadata": {},
   "outputs": [
    {
     "data": {
      "text/plain": [
       "['Twitter-sentiment-self-drive-DFE.csv']"
      ]
     },
     "execution_count": 4,
     "metadata": {},
     "output_type": "execute_result"
    }
   ],
   "source": [
    "client.list('/Users/vagrant/')"
   ]
  },
  {
   "cell_type": "code",
   "execution_count": 1,
   "metadata": {},
   "outputs": [],
   "source": [
    "from pyspark import SparkContext\n",
    "\n",
    "sc = SparkContext('spark://spark-master:7077', 'Test App')"
   ]
  },
  {
   "cell_type": "code",
   "execution_count": 22,
   "metadata": {},
   "outputs": [
    {
     "data": {
      "text/plain": [
       "'_unit_id,_golden,_unit_state,_trusted_judgments,_last_judgment_at,sentiment,sentiment:confidence,our_id,sentiment_gold,sentiment_gold_reason,text'"
      ]
     },
     "execution_count": 22,
     "metadata": {},
     "output_type": "execute_result"
    }
   ],
   "source": [
    "# create an RDD\n",
    "rdd_tweets = sc.textFile('hdfs://namenode/Users/vagrant/Twitter-sentiment-self-drive-DFE.csv')\n",
    "\n",
    "# no transformations right now\n",
    "\n",
    "# perform action to bring results back to the driver\n",
    "rdd_tweets.first()"
   ]
  },
  {
   "cell_type": "code",
   "execution_count": 7,
   "metadata": {},
   "outputs": [
    {
     "name": "stdout",
     "output_type": "stream",
     "text": [
      "[283.15, 276.15, 268.15]\n"
     ]
    }
   ],
   "source": [
    "# temperature conversion Celsius to Kelvin\n",
    "\n",
    "# create RDD from driver list\n",
    "temp_C = [10, 3, -5, 25, 1, 9, 29, -10, 5]\n",
    "rdd_temp_C = sc.parallelize(temp_C)\n",
    "\n",
    "# perform transformation\n",
    "rdd_temp_K = rdd_temp_C.map(lambda x: x + 273.15)\n",
    "\n",
    "# perform action\n",
    "print(rdd_temp_K.take(3))"
   ]
  },
  {
   "cell_type": "code",
   "execution_count": 8,
   "metadata": {},
   "outputs": [
    {
     "name": "stdout",
     "output_type": "stream",
     "text": [
      "(((((((((0, 1), 2), 3), 4), 5), 6), 7), 8), 9)\n"
     ]
    }
   ],
   "source": [
    "# we define a list of integers\n",
    "numbers = [i for i in range(0, 10)]\n",
    "\n",
    "# define the RDD with 1 partition\n",
    "rdd_numbers=sc.parallelize(numbers, 1)\n",
    "\n",
    "# Use reduce to combine numbers\n",
    "rdd_numbers_reduced = rdd_numbers.reduce(lambda x,y: \"(\" + str(x) + \", \" + str(y) + \")\")\n",
    "print(rdd_numbers_reduced)"
   ]
  },
  {
   "cell_type": "code",
   "execution_count": 9,
   "metadata": {},
   "outputs": [
    {
     "name": "stdout",
     "output_type": "stream",
     "text": [
      "(((((0, 1), 2), 3), 4), ((((5, 6), 7), 8), 9))\n"
     ]
    }
   ],
   "source": [
    "# NOTICE what happens when we partition differently.\n",
    "# This is why we need our \"reduce\" operation to be associative (and commutative)!\n",
    "\n",
    "# define the RDD with 1 partition\n",
    "rdd_numbers=sc.parallelize(numbers, 2)\n",
    "\n",
    "# Use reduce to combine numbers\n",
    "rdd_numbers_reduced = rdd_numbers.reduce(lambda x,y: \"(\" + str(x) + \", \" + str(y) + \")\")\n",
    "print(rdd_numbers_reduced)"
   ]
  },
  {
   "cell_type": "code",
   "execution_count": 10,
   "metadata": {},
   "outputs": [],
   "source": [
    "# functions passed to foreach are applied on the workers, NOT on the driver\n",
    "# the following prints nothing here (the 'print' happens on the workers)\n",
    "rdd_numbers.foreach(print)"
   ]
  },
  {
   "cell_type": "code",
   "execution_count": 19,
   "metadata": {},
   "outputs": [],
   "source": [
    "from pyspark.sql import SQLContext\n",
    "sqlContext = SQLContext(sc)\n",
    "\n",
    "df = sqlContext.read.csv('hdfs://namenode/Users/vagrant/Twitter-sentiment-self-drive-DFE.csv', encoding='ISO-8859-1', header=True)"
   ]
  },
  {
   "cell_type": "code",
   "execution_count": 20,
   "metadata": {},
   "outputs": [
    {
     "data": {
      "text/plain": [
       "[Row(_unit_id='724227031', _golden='TRUE', _unit_state='golden', _trusted_judgments='236', _last_judgment_at=None, sentiment='5', sentiment:confidence='0.7579', our_id='10001', sentiment_gold='5', sentiment_gold_reason=None, text=None),\n",
       " Row(_unit_id='4\"', _golden='Author is excited about the development of the technology.', _unit_state=\"Two places I'd invest all my money if I could: 3D printing and Self-driving cars!!!\", _trusted_judgments=None, _last_judgment_at=None, sentiment=None, sentiment:confidence=None, our_id=None, sentiment_gold=None, sentiment_gold_reason=None, text=None),\n",
       " Row(_unit_id='724227032', _golden='TRUE', _unit_state='golden', _trusted_judgments='231', _last_judgment_at=None, sentiment='5', sentiment:confidence='0.8775', our_id='10002', sentiment_gold='5', sentiment_gold_reason=None, text=None),\n",
       " Row(_unit_id='4\"', _golden='Author is excited that driverless cars will benefit the disabled.', _unit_state='Awesome! Google driverless cars will help the blind travel more often; https://t.co/QWuXR0FrBpv', _trusted_judgments=None, _last_judgment_at=None, sentiment=None, sentiment:confidence=None, our_id=None, sentiment_gold=None, sentiment_gold_reason=None, text=None),\n",
       " Row(_unit_id='724227033', _golden='TRUE', _unit_state='golden', _trusted_judgments='233', _last_judgment_at=None, sentiment='2', sentiment:confidence='0.6805', our_id='10003', sentiment_gold='2', sentiment_gold_reason=None, text=None)]"
      ]
     },
     "execution_count": 20,
     "metadata": {},
     "output_type": "execute_result"
    }
   ],
   "source": [
    "df.take(5)"
   ]
  },
  {
   "cell_type": "code",
   "execution_count": 21,
   "metadata": {},
   "outputs": [
    {
     "data": {
      "text/plain": [
       "['_unit_id',\n",
       " '_golden',\n",
       " '_unit_state',\n",
       " '_trusted_judgments',\n",
       " '_last_judgment_at',\n",
       " 'sentiment',\n",
       " 'sentiment:confidence',\n",
       " 'our_id',\n",
       " 'sentiment_gold',\n",
       " 'sentiment_gold_reason',\n",
       " 'text']"
      ]
     },
     "execution_count": 21,
     "metadata": {},
     "output_type": "execute_result"
    }
   ],
   "source": [
    "df.columns"
   ]
  },
  {
   "cell_type": "code",
   "execution_count": 28,
   "metadata": {},
   "outputs": [],
   "source": [
    "# Do a little cleanup to free some memory\n",
    "del rdd_tweets\n",
    "del rdd_temp_C\n",
    "del rdd_temp_K\n",
    "del rdd_numbers\n",
    "del rdd_numbers_reduced\n",
    "sc.stop()\n",
    "sc = SparkContext('spark://spark-master:7077', 'Test App')"
   ]
  },
  {
   "cell_type": "code",
   "execution_count": null,
   "metadata": {},
   "outputs": [],
   "source": []
  }
 ],
 "metadata": {
  "kernelspec": {
   "display_name": "Python 3",
   "language": "python",
   "name": "python3"
  },
  "language_info": {
   "codemirror_mode": {
    "name": "ipython",
    "version": 3
   },
   "file_extension": ".py",
   "mimetype": "text/x-python",
   "name": "python",
   "nbconvert_exporter": "python",
   "pygments_lexer": "ipython3",
   "version": "3.7.2"
  }
 },
 "nbformat": 4,
 "nbformat_minor": 2
}
