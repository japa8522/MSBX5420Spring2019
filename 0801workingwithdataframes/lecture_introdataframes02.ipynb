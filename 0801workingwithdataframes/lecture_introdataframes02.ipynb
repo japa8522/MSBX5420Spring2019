{
 "cells": [
  {
   "cell_type": "markdown",
   "metadata": {},
   "source": [
    "# Basic DataFrames tutorial"
   ]
  },
  {
   "cell_type": "code",
   "execution_count": 1,
   "metadata": {},
   "outputs": [],
   "source": [
    "from pyspark.sql import SparkSession\n",
    "\n",
    "ss = SparkSession.builder.\\\n",
    "     master('spark://spark-master:7077').\\\n",
    "     appName('myapp').getOrCreate()"
   ]
  },
  {
   "cell_type": "markdown",
   "metadata": {},
   "source": [
    "We can use the `json` reader to read in many json files at once.  Each json file becomes a single row in the resulting DataFrame:"
   ]
  },
  {
   "cell_type": "code",
   "execution_count": 57,
   "metadata": {},
   "outputs": [],
   "source": [
    "df = ss.read.json('hdfs://namenode/Users/vagrant/structured-2018-01-14-neworleans/*.json')"
   ]
  },
  {
   "cell_type": "code",
   "execution_count": 58,
   "metadata": {},
   "outputs": [
    {
     "data": {
      "text/plain": [
       "280"
      ]
     },
     "execution_count": 58,
     "metadata": {},
     "output_type": "execute_result"
    }
   ],
   "source": [
    "# how many rows do we have (i.e. how many json files did we read?)\n",
    "df.count()"
   ]
  },
  {
   "cell_type": "code",
   "execution_count": 59,
   "metadata": {},
   "outputs": [
    {
     "data": {
      "text/plain": [
       "['duration_ms',\n",
       " 'end_time_s',\n",
       " 'events',\n",
       " 'hp_hill_names',\n",
       " 'hp_hill_rotations',\n",
       " 'id',\n",
       " 'map',\n",
       " 'mode',\n",
       " 'platform',\n",
       " 'players',\n",
       " 'rounds',\n",
       " 'series_id',\n",
       " 'start_time_s',\n",
       " 'teams',\n",
       " 'title']"
      ]
     },
     "execution_count": 59,
     "metadata": {},
     "output_type": "execute_result"
    }
   ],
   "source": [
    "# use the .columns member to list the columns out\n",
    "df.columns"
   ]
  },
  {
   "cell_type": "code",
   "execution_count": 60,
   "metadata": {},
   "outputs": [
    {
     "name": "stdout",
     "output_type": "stream",
     "text": [
      "+---------------+---------+-----+\n",
      "|            map|     mode|title|\n",
      "+---------------+---------+-----+\n",
      "|Ardennes Forest|Hardpoint|  ww2|\n",
      "|   London Docks|Hardpoint|  ww2|\n",
      "|   London Docks|Hardpoint|  ww2|\n",
      "|Ardennes Forest|Hardpoint|  ww2|\n",
      "|Ardennes Forest|Hardpoint|  ww2|\n",
      "+---------------+---------+-----+\n",
      "only showing top 5 rows\n",
      "\n"
     ]
    }
   ],
   "source": [
    "# we can select columns just like in SQL\n",
    "df.select(['map', 'mode', 'title']).show(5)"
   ]
  },
  {
   "cell_type": "code",
   "execution_count": 61,
   "metadata": {},
   "outputs": [
    {
     "data": {
      "text/plain": [
       "Column<b'mode'>"
      ]
     },
     "execution_count": 61,
     "metadata": {},
     "output_type": "execute_result"
    }
   ],
   "source": [
    "# selecting a single column is similar to pandas\n",
    "df.mode\n",
    "# or\n",
    "df['mode']"
   ]
  },
  {
   "cell_type": "markdown",
   "metadata": {},
   "source": [
    "We can perform standard aggregations (e.g. avg, min, max, etc).\n",
    "\n",
    "However, we always need to perform a `groupBy()`, even if we aren't grouping:"
   ]
  },
  {
   "cell_type": "code",
   "execution_count": 62,
   "metadata": {},
   "outputs": [
    {
     "name": "stdout",
     "output_type": "stream",
     "text": [
      "+-----------------+\n",
      "| avg(duration_ms)|\n",
      "+-----------------+\n",
      "|608682.1428571428|\n",
      "+-----------------+\n",
      "\n"
     ]
    }
   ],
   "source": [
    "df.groupBy().avg('duration_ms').show()"
   ]
  },
  {
   "cell_type": "markdown",
   "metadata": {},
   "source": [
    "There are actually quite a few alternative syntaxes to do the same thing.  Sometimes this gets a little confusing:"
   ]
  },
  {
   "cell_type": "code",
   "execution_count": 65,
   "metadata": {},
   "outputs": [
    {
     "name": "stdout",
     "output_type": "stream",
     "text": [
      "+-----------------+\n",
      "| avg(duration_ms)|\n",
      "+-----------------+\n",
      "|608682.1428571428|\n",
      "+-----------------+\n",
      "\n"
     ]
    }
   ],
   "source": [
    "df.groupBy().agg({'duration_ms': 'avg'}).show()"
   ]
  },
  {
   "cell_type": "code",
   "execution_count": 66,
   "metadata": {},
   "outputs": [
    {
     "name": "stdout",
     "output_type": "stream",
     "text": [
      "+-----------------+\n",
      "| avg(duration_ms)|\n",
      "+-----------------+\n",
      "|608682.1428571428|\n",
      "+-----------------+\n",
      "\n"
     ]
    }
   ],
   "source": [
    "from pyspark.sql import functions as F\n",
    "\n",
    "df.groupBy().agg(F.avg('duration_ms')).show()"
   ]
  },
  {
   "cell_type": "code",
   "execution_count": 67,
   "metadata": {},
   "outputs": [
    {
     "name": "stdout",
     "output_type": "stream",
     "text": [
      "+-----------------+\n",
      "| avg(duration_ms)|\n",
      "+-----------------+\n",
      "|608682.1428571428|\n",
      "+-----------------+\n",
      "\n"
     ]
    }
   ],
   "source": [
    "df.groupBy().agg(F.avg(df.duration_ms)).show()"
   ]
  },
  {
   "cell_type": "markdown",
   "metadata": {},
   "source": [
    "There are many useful functions in the `pyspark.sql.functions` module.  We will use some of them, like we did above.\n",
    "\n",
    "Obviously, we can also perform aggregations over actual groups.  Here's an example:"
   ]
  },
  {
   "cell_type": "code",
   "execution_count": 68,
   "metadata": {},
   "outputs": [
    {
     "name": "stdout",
     "output_type": "stream",
     "text": [
      "+----------------+-----------------+\n",
      "|            mode| avg(duration_ms)|\n",
      "+----------------+-----------------+\n",
      "|       Hardpoint|636487.1794871795|\n",
      "|Capture The Flag|639394.3661971831|\n",
      "|Search & Destroy|549619.5652173914|\n",
      "+----------------+-----------------+\n",
      "\n"
     ]
    }
   ],
   "source": [
    "df.groupBy('mode').avg('duration_ms').show()"
   ]
  },
  {
   "cell_type": "markdown",
   "metadata": {},
   "source": [
    "Json data is usually nested, which is a little \"weird\" when you are trying to analyze it using SQL-like tables.\n",
    "\n",
    "For example, in the CWL json the `teams` field is actually a list of length 2 (one for each team):"
   ]
  },
  {
   "cell_type": "code",
   "execution_count": 70,
   "metadata": {},
   "outputs": [
    {
     "name": "stdout",
     "output_type": "stream",
     "text": [
      "+--------------------+\n",
      "|               teams|\n",
      "+--------------------+\n",
      "|[[false, ENIGMA6,...|\n",
      "|[[false, LUMINOSI...|\n",
      "|[[true, MINDFREAK...|\n",
      "|[[true, RISE NATI...|\n",
      "|[[false, FAZE CLA...|\n",
      "+--------------------+\n",
      "\n"
     ]
    }
   ],
   "source": [
    "df.select('teams').limit(5).show()"
   ]
  },
  {
   "cell_type": "markdown",
   "metadata": {},
   "source": [
    "Sometimes it can be better to do a `take` than a `show` so that we can see the nested structure better:"
   ]
  },
  {
   "cell_type": "code",
   "execution_count": 71,
   "metadata": {},
   "outputs": [
    {
     "data": {
      "text/plain": [
       "[Row(teams=[Row(is_victor=False, name='ENIGMA6', round_scores=[24, 16, 21, 20, 31, 13, 18, 25, 4, 7, 21, 7, 0], score=207, side='home'), Row(is_victor=True, name='LUMINOSITY GAMING', round_scores=[17, 19, 27, 9, 5, 9, 20, 8, 32, 39, 8, 14, 13], score=220, side='away')])]"
      ]
     },
     "execution_count": 71,
     "metadata": {},
     "output_type": "execute_result"
    }
   ],
   "source": [
    "df.select('teams').take(1)"
   ]
  },
  {
   "cell_type": "markdown",
   "metadata": {},
   "source": [
    "The .explode() function is a very useful way to \"denormalize\" the data.  TL;DR explodes a nested list into multiple rows (at the cost of introducing some redundancy):"
   ]
  },
  {
   "cell_type": "code",
   "execution_count": 73,
   "metadata": {},
   "outputs": [
    {
     "name": "stdout",
     "output_type": "stream",
     "text": [
      "+--------------------+--------------------+\n",
      "|                  id|                 col|\n",
      "+--------------------+--------------------+\n",
      "|64d15a2d-2f3c-5a2...|[false, ENIGMA6, ...|\n",
      "|64d15a2d-2f3c-5a2...|[true, LUMINOSITY...|\n",
      "|1111848b-1bfb-5d6...|[false, LUMINOSIT...|\n",
      "|1111848b-1bfb-5d6...|[true, TEAM KALIB...|\n",
      "|1b615383-6e9e-589...|[true, MINDFREAK,...|\n",
      "+--------------------+--------------------+\n",
      "only showing top 5 rows\n",
      "\n"
     ]
    }
   ],
   "source": [
    "teams_df = df.select('id', F.explode('teams'))\n",
    "teams_df.show(5)"
   ]
  },
  {
   "cell_type": "markdown",
   "metadata": {},
   "source": [
    "Actually, it is better to rename our column to \"team\" because we exploded a list of 2 teams into a 2 separate rows each containing a team.  We use `alias` to rename:"
   ]
  },
  {
   "cell_type": "code",
   "execution_count": 74,
   "metadata": {},
   "outputs": [
    {
     "name": "stdout",
     "output_type": "stream",
     "text": [
      "+--------------------+--------------------+\n",
      "|                  id|                team|\n",
      "+--------------------+--------------------+\n",
      "|64d15a2d-2f3c-5a2...|[false, ENIGMA6, ...|\n",
      "|64d15a2d-2f3c-5a2...|[true, LUMINOSITY...|\n",
      "|1111848b-1bfb-5d6...|[false, LUMINOSIT...|\n",
      "|1111848b-1bfb-5d6...|[true, TEAM KALIB...|\n",
      "|1b615383-6e9e-589...|[true, MINDFREAK,...|\n",
      "+--------------------+--------------------+\n",
      "only showing top 5 rows\n",
      "\n"
     ]
    }
   ],
   "source": [
    "teams_df = df.select('id', F.explode('teams').alias('team'))\n",
    "teams_df.show(5)"
   ]
  },
  {
   "cell_type": "code",
   "execution_count": 76,
   "metadata": {},
   "outputs": [
    {
     "data": {
      "text/plain": [
       "[Row(id='64d15a2d-2f3c-5a28-844e-3d903d3cb9bc', team=Row(is_victor=False, name='ENIGMA6', round_scores=[24, 16, 21, 20, 31, 13, 18, 25, 4, 7, 21, 7, 0], score=207, side='home'))]"
      ]
     },
     "execution_count": 76,
     "metadata": {},
     "output_type": "execute_result"
    }
   ],
   "source": [
    "teams_df.take(1)"
   ]
  },
  {
   "cell_type": "markdown",
   "metadata": {},
   "source": [
    "Notice that the \"team\" column is still nested.  This isn't really limiting, though.  We can use the col.field syntax to get at the subfields:"
   ]
  },
  {
   "cell_type": "code",
   "execution_count": 78,
   "metadata": {},
   "outputs": [
    {
     "name": "stdout",
     "output_type": "stream",
     "text": [
      "+--------------------+-----------------+\n",
      "|                  id|             name|\n",
      "+--------------------+-----------------+\n",
      "|64d15a2d-2f3c-5a2...|          ENIGMA6|\n",
      "|64d15a2d-2f3c-5a2...|LUMINOSITY GAMING|\n",
      "|1111848b-1bfb-5d6...|LUMINOSITY GAMING|\n",
      "|1111848b-1bfb-5d6...|     TEAM KALIBER|\n",
      "|1b615383-6e9e-589...|        MINDFREAK|\n",
      "+--------------------+-----------------+\n",
      "only showing top 5 rows\n",
      "\n"
     ]
    }
   ],
   "source": [
    "teams_df.select('id', 'team.name').show(5)"
   ]
  },
  {
   "cell_type": "markdown",
   "metadata": {},
   "source": [
    "If we want to rename the column then we have to use a noisier syntax:"
   ]
  },
  {
   "cell_type": "code",
   "execution_count": 83,
   "metadata": {},
   "outputs": [
    {
     "name": "stdout",
     "output_type": "stream",
     "text": [
      "+--------------------+-----------------+\n",
      "|                  id|        team_name|\n",
      "+--------------------+-----------------+\n",
      "|64d15a2d-2f3c-5a2...|          ENIGMA6|\n",
      "|64d15a2d-2f3c-5a2...|LUMINOSITY GAMING|\n",
      "|1111848b-1bfb-5d6...|LUMINOSITY GAMING|\n",
      "|1111848b-1bfb-5d6...|     TEAM KALIBER|\n",
      "|1b615383-6e9e-589...|        MINDFREAK|\n",
      "+--------------------+-----------------+\n",
      "only showing top 5 rows\n",
      "\n"
     ]
    }
   ],
   "source": [
    "teams_df.select('id', teams_df.team['name'].alias('team_name')).show(5)"
   ]
  },
  {
   "cell_type": "markdown",
   "metadata": {},
   "source": [
    "... or we could've used the `.withColumnRenamed()` method:"
   ]
  },
  {
   "cell_type": "code",
   "execution_count": 84,
   "metadata": {},
   "outputs": [
    {
     "name": "stdout",
     "output_type": "stream",
     "text": [
      "+--------------------+-----------------+\n",
      "|                  id|        team_name|\n",
      "+--------------------+-----------------+\n",
      "|64d15a2d-2f3c-5a2...|          ENIGMA6|\n",
      "|64d15a2d-2f3c-5a2...|LUMINOSITY GAMING|\n",
      "|1111848b-1bfb-5d6...|LUMINOSITY GAMING|\n",
      "|1111848b-1bfb-5d6...|     TEAM KALIBER|\n",
      "|1b615383-6e9e-589...|        MINDFREAK|\n",
      "+--------------------+-----------------+\n",
      "only showing top 5 rows\n",
      "\n"
     ]
    }
   ],
   "source": [
    "teams_df.select('id', 'team.name').\\\n",
    "         withColumnRenamed('name', 'team_name').\\\n",
    "         show(5)"
   ]
  },
  {
   "cell_type": "markdown",
   "metadata": {},
   "source": [
    "Let's explode the `players` nested field:"
   ]
  },
  {
   "cell_type": "code",
   "execution_count": 85,
   "metadata": {},
   "outputs": [
    {
     "name": "stdout",
     "output_type": "stream",
     "text": [
      "+--------------------+--------------------+\n",
      "|                  id|                 col|\n",
      "+--------------------+--------------------+\n",
      "|64d15a2d-2f3c-5a2...|[3, 1, 0, 1, 0, 0...|\n",
      "|64d15a2d-2f3c-5a2...|[2, 0, 0, 0, 0, 0...|\n",
      "|64d15a2d-2f3c-5a2...|[6, 3, 0, 3, 1, 0...|\n",
      "|64d15a2d-2f3c-5a2...|[4, 2, 0, 2, 0, 1...|\n",
      "|64d15a2d-2f3c-5a2...|[6, 0, 0, 1, 0, 0...|\n",
      "+--------------------+--------------------+\n",
      "only showing top 5 rows\n",
      "\n"
     ]
    }
   ],
   "source": [
    "players_df = df.select('id', F.explode('players'))\n",
    "players_df.show(5)"
   ]
  },
  {
   "cell_type": "markdown",
   "metadata": {},
   "source": [
    "To reduce the number of joins we'll have to make, let's redo this last step but keep some more fields (at the cost of redundancy).  This is \"denormalization\":"
   ]
  },
  {
   "cell_type": "code",
   "execution_count": 88,
   "metadata": {},
   "outputs": [
    {
     "name": "stdout",
     "output_type": "stream",
     "text": [
      "+--------------------+--------+-----+---------+---------------+------------+----------+-----------+--------------------+\n",
      "|                  id|platform|title|     mode|            map|start_time_s|end_time_s|duration_ms|              player|\n",
      "+--------------------+--------+-----+---------+---------------+------------+----------+-----------+--------------------+\n",
      "|64d15a2d-2f3c-5a2...|     ps4|  ww2|Hardpoint|Ardennes Forest|  1515814927|1515815692|     765000|[3, 1, 0, 1, 0, 0...|\n",
      "|64d15a2d-2f3c-5a2...|     ps4|  ww2|Hardpoint|Ardennes Forest|  1515814927|1515815692|     765000|[2, 0, 0, 0, 0, 0...|\n",
      "|64d15a2d-2f3c-5a2...|     ps4|  ww2|Hardpoint|Ardennes Forest|  1515814927|1515815692|     765000|[6, 3, 0, 3, 1, 0...|\n",
      "|64d15a2d-2f3c-5a2...|     ps4|  ww2|Hardpoint|Ardennes Forest|  1515814927|1515815692|     765000|[4, 2, 0, 2, 0, 1...|\n",
      "|64d15a2d-2f3c-5a2...|     ps4|  ww2|Hardpoint|Ardennes Forest|  1515814927|1515815692|     765000|[6, 0, 0, 1, 0, 0...|\n",
      "+--------------------+--------+-----+---------+---------------+------------+----------+-----------+--------------------+\n",
      "only showing top 5 rows\n",
      "\n"
     ]
    }
   ],
   "source": [
    "players_df = df.select('id',\n",
    "                       'platform',\n",
    "                       'title',\n",
    "                       'mode',\n",
    "                       'map',\n",
    "                       'start_time_s',\n",
    "                       'end_time_s',\n",
    "                       'duration_ms',\n",
    "                       F.explode('players').alias('player'))\n",
    "players_df.show(5)"
   ]
  },
  {
   "cell_type": "code",
   "execution_count": 89,
   "metadata": {},
   "outputs": [
    {
     "data": {
      "text/plain": [
       "[Row(id='64d15a2d-2f3c-5a28-844e-3d903d3cb9bc', platform='ps4', title='ww2', mode='Hardpoint', map='Ardennes Forest', start_time_s=1515814927, end_time_s=1515815692, duration_ms=765000, player=Row(2piece=3, 3piece=1, 4piece=0, 4streak=1, 5streak=0, 6streak=0, 7streak=0, 8+streak=0, accuracy=24.6, assists=14, avg_time_per_life_s=17.1, ctf_captures=None, ctf_defends=None, ctf_flag_carry_time_s=None, ctf_kill_carriers=None, ctf_pickups=None, ctf_returns=None, deaths=39, deaths_per_10min=30.6, fave_division='Airborne', fave_scorestreaks=['Fighter Pilot', 'Glide Bomb', 'Artillery Barrage'], fave_training='Hunker', fave_weapon='PPSh-41', headshots=2, hits=146, hp_captures=0, hp_defends=0, hp_hill_time_s=48, kd=0.9, kills=35, kills_per_10min=27.5, name='BLAZT', num_lives=40, scorestreaks_assists=0, scorestreaks_deployed=0, scorestreaks_earned=0, scorestreaks_kills=0, scorestreaks_used=0, shots=593, snd_1kill_round=None, snd_2kill_round=None, snd_3kill_round=None, snd_4kill_round=None, snd_defuses=None, snd_firstbloods=None, snd_firstdeaths=None, snd_pickups=None, snd_plants=None, snd_rounds=None, snd_sneak_defuses=None, snd_survives=None, stayed_alive_kills=22, suicides=0, team='ENIGMA6', team_deaths=1, team_kills=0, time_alive_s=683.9))]"
      ]
     },
     "execution_count": 89,
     "metadata": {},
     "output_type": "execute_result"
    }
   ],
   "source": [
    "players_df.take(1)"
   ]
  },
  {
   "cell_type": "markdown",
   "metadata": {},
   "source": [
    "You can join just like in SQL"
   ]
  },
  {
   "cell_type": "code",
   "execution_count": 96,
   "metadata": {},
   "outputs": [
    {
     "name": "stdout",
     "output_type": "stream",
     "text": [
      "+--------------------+--------+-----+---------+---------------+------------+----------+-----------+--------------------+--------------------+--------------------+\n",
      "|                  id|platform|title|     mode|            map|start_time_s|end_time_s|duration_ms|              player|                  id|                team|\n",
      "+--------------------+--------+-----+---------+---------------+------------+----------+-----------+--------------------+--------------------+--------------------+\n",
      "|64d15a2d-2f3c-5a2...|     ps4|  ww2|Hardpoint|Ardennes Forest|  1515814927|1515815692|     765000|[3, 1, 0, 1, 0, 0...|64d15a2d-2f3c-5a2...|[false, ENIGMA6, ...|\n",
      "|64d15a2d-2f3c-5a2...|     ps4|  ww2|Hardpoint|Ardennes Forest|  1515814927|1515815692|     765000|[2, 0, 0, 0, 0, 0...|64d15a2d-2f3c-5a2...|[false, ENIGMA6, ...|\n",
      "|64d15a2d-2f3c-5a2...|     ps4|  ww2|Hardpoint|Ardennes Forest|  1515814927|1515815692|     765000|[6, 3, 0, 3, 1, 0...|64d15a2d-2f3c-5a2...|[false, ENIGMA6, ...|\n",
      "|64d15a2d-2f3c-5a2...|     ps4|  ww2|Hardpoint|Ardennes Forest|  1515814927|1515815692|     765000|[4, 2, 0, 2, 0, 1...|64d15a2d-2f3c-5a2...|[false, ENIGMA6, ...|\n",
      "|64d15a2d-2f3c-5a2...|     ps4|  ww2|Hardpoint|Ardennes Forest|  1515814927|1515815692|     765000|[6, 0, 0, 1, 0, 0...|64d15a2d-2f3c-5a2...|[true, LUMINOSITY...|\n",
      "+--------------------+--------+-----+---------+---------------+------------+----------+-----------+--------------------+--------------------+--------------------+\n",
      "only showing top 5 rows\n",
      "\n"
     ]
    }
   ],
   "source": [
    "joined_df = players_df.join(teams_df, \n",
    "                            [players_df.id == teams_df.id,\n",
    "                             players_df.player['team'] == teams_df.team['name']])\n",
    "joined_df.show(5)"
   ]
  },
  {
   "cell_type": "markdown",
   "metadata": {},
   "source": [
    "Filtering is also easy"
   ]
  },
  {
   "cell_type": "code",
   "execution_count": 97,
   "metadata": {},
   "outputs": [
    {
     "data": {
      "text/plain": [
       "[Row(mode='Hardpoint'),\n",
       " Row(mode='Capture The Flag'),\n",
       " Row(mode='Search & Destroy')]"
      ]
     },
     "execution_count": 97,
     "metadata": {},
     "output_type": "execute_result"
    }
   ],
   "source": [
    "joined_df.select('mode').distinct().collect()"
   ]
  },
  {
   "cell_type": "code",
   "execution_count": 98,
   "metadata": {},
   "outputs": [],
   "source": [
    "ctf_df = joined_df.filter(joined_df.mode == 'Search & Destroy')"
   ]
  },
  {
   "cell_type": "code",
   "execution_count": 99,
   "metadata": {},
   "outputs": [
    {
     "data": {
      "text/plain": [
       "736"
      ]
     },
     "execution_count": 99,
     "metadata": {},
     "output_type": "execute_result"
    }
   ],
   "source": [
    "ctf_df.count()"
   ]
  },
  {
   "cell_type": "code",
   "execution_count": null,
   "metadata": {},
   "outputs": [],
   "source": []
  }
 ],
 "metadata": {
  "kernelspec": {
   "display_name": "Python 3",
   "language": "python",
   "name": "python3"
  },
  "language_info": {
   "codemirror_mode": {
    "name": "ipython",
    "version": 3
   },
   "file_extension": ".py",
   "mimetype": "text/x-python",
   "name": "python",
   "nbconvert_exporter": "python",
   "pygments_lexer": "ipython3",
   "version": "3.7.2"
  }
 },
 "nbformat": 4,
 "nbformat_minor": 2
}
