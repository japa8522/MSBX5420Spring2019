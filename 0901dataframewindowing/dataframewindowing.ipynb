{
 "cells": [
  {
   "cell_type": "markdown",
   "metadata": {},
   "source": [
    "# More DataFrames:  UDFs and Windowing"
   ]
  },
  {
   "cell_type": "code",
   "execution_count": 1,
   "metadata": {},
   "outputs": [],
   "source": [
    "from pyspark.sql import SparkSession, Row\n",
    "import pyspark.sql.functions as F\n",
    "\n",
    "ss = SparkSession.builder.\\\n",
    "     master('spark://spark-master:7077').\\\n",
    "     appName('windowing').getOrCreate()"
   ]
  },
  {
   "cell_type": "code",
   "execution_count": 2,
   "metadata": {},
   "outputs": [],
   "source": [
    "# so that we can play with RDDs as well\n",
    "sc = ss.sparkContext"
   ]
  },
  {
   "cell_type": "markdown",
   "metadata": {},
   "source": [
    "Let's manually load some data that describes purchase events.  As we've seen, there are many ways to load data manually.  Let's create an RDD first and then convert to a DataFrame:"
   ]
  },
  {
   "cell_type": "code",
   "execution_count": 3,
   "metadata": {},
   "outputs": [],
   "source": [
    "purchases_rdd = sc.parallelize([\n",
    "(\"Geoffrey\", \"2016-04-22\", \"A\", \"apples\", 1, 50.00),\n",
    "(\"Geoffrey\", \"2016-05-03\", \"B\", \"Lamp\", 2, 38.00),\n",
    "(\"Geoffrey\", \"2016-05-03\", \"D\", \"Solar Pannel\", 1, 29.00),\n",
    "(\"Geoffrey\", \"2016-05-03\", \"A\", \"apples\", 3, 50.00),\n",
    "(\"Geoffrey\", \"2016-05-03\", \"C\", \"Rice\", 5, 15.00),\n",
    "(\"Geoffrey\", \"2016-06-05\", \"A\", \"apples\", 5, 50.00),\n",
    "(\"Geoffrey\", \"2016-06-05\", \"A\", \"bananas\", 5, 55.00),\n",
    "(\"Geoffrey\", \"2016-06-15\", \"Y\", \"Motor skate\", 7, 68.00),\n",
    "(\"Geoffrey\", \"2016-06-15\", \"E\", \"Book: The noose\", 1, 125.00),\n",
    "(\"Yann\", \"2016-04-22\", \"B\", \"Lamp\", 1, 38.00),\n",
    "(\"Yann\", \"2016-05-03\", \"Y\", \"Motor skate\", 1, 68.00),\n",
    "(\"Yann\", \"2016-05-03\", \"D\", \"Recycle bin\", 5, 27.00),\n",
    "(\"Yann\", \"2016-05-03\", \"C\", \"Rice\", 15, 15.00),\n",
    "(\"Yann\", \"2016-04-02\", \"A\", \"bananas\", 3, 55.00),\n",
    "(\"Yann\", \"2016-04-02\", \"B\", \"Lamp\", 2, 38.00),\n",
    "(\"Yann\", \"2016-04-03\", \"E\", \"Book: Crime and Punishment\", 5, 100.00),\n",
    "(\"Yann\", \"2016-04-13\", \"E\", \"Book: The noose\", 5, 125.00),\n",
    "(\"Yann\", \"2016-04-27\", \"D\", \"Solar Pannel\", 5, 29.00),\n",
    "(\"Yann\", \"2016-05-27\", \"D\", \"Recycle bin\", 5, 27.00),\n",
    "(\"Yann\", \"2016-05-27\", \"A\", \"bananas\", 3, 55.00),\n",
    "(\"Yann\", \"2016-05-01\", \"Y\", \"Motor skate\", 1, 68.00),\n",
    "(\"Yann\", \"2016-06-07\", \"Z\", \"space ship\", 1, 227.00),\n",
    "(\"Yoshua\", \"2016-02-07\", \"Z\", \"space ship\", 2, 227.00),\n",
    "(\"Yoshua\", \"2016-02-14\", \"A\", \"bananas\", 9, 55.00),\n",
    "(\"Yoshua\", \"2016-02-14\", \"B\", \"Lamp\", 2, 38.00),\n",
    "(\"Yoshua\", \"2016-02-14\", \"A\", \"apples\", 10, 55.00),\n",
    "(\"Yoshua\", \"2016-03-07\", \"Z\", \"space ship\", 5, 227.00),\n",
    "(\"Yoshua\", \"2016-04-07\", \"Y\", \"Motor skate\", 4, 68.00),\n",
    "(\"Yoshua\", \"2016-04-07\", \"D\", \"Recycle bin\", 5, 27.00),\n",
    "(\"Yoshua\", \"2016-04-07\", \"C\", \"Rice\", 5, 15.00),\n",
    "(\"Yoshua\", \"2016-04-07\", \"A\", \"bananas\", 9, 55.00),\n",
    "(\"Jurgen\", \"2016-05-01\", \"Z\", \"space ship\", 1, 227.00),\n",
    "(\"Jurgen\", \"2016-05-01\", \"A\", \"bananas\", 5, 55.00),\n",
    "(\"Jurgen\", \"2016-05-08\", \"A\", \"bananas\", 5, 55.00),\n",
    "(\"Jurgen\", \"2016-05-08\", \"Y\", \"Motor skate\", 1, 68.00),\n",
    "(\"Jurgen\", \"2016-06-05\", \"A\", \"bananas\", 5, 55.00),\n",
    "(\"Jurgen\", \"2016-06-05\", \"C\", \"Rice\", 5, 15.00),\n",
    "(\"Jurgen\", \"2016-06-05\", \"Y\", \"Motor skate\", 2, 68.00),\n",
    "(\"Jurgen\", \"2016-06-05\", \"D\", \"Recycle bin\", 5, 27.00),\n",
    "])"
   ]
  },
  {
   "cell_type": "code",
   "execution_count": 4,
   "metadata": {},
   "outputs": [],
   "source": [
    "colnames = [\"customer_name\", \"date\", \"category\", \"product_name\", \"quantity\", \"price\"]\n",
    "purchases_df = purchases_rdd.toDF(colnames)"
   ]
  },
  {
   "cell_type": "markdown",
   "metadata": {},
   "source": [
    "Just like with RDDs, we can call `.persist()` on a DataFrame if we are planning on performing multiple actions on it."
   ]
  },
  {
   "cell_type": "code",
   "execution_count": 5,
   "metadata": {},
   "outputs": [
    {
     "data": {
      "text/plain": [
       "DataFrame[customer_name: string, date: string, category: string, product_name: string, quantity: bigint, price: double]"
      ]
     },
     "execution_count": 5,
     "metadata": {},
     "output_type": "execute_result"
    }
   ],
   "source": [
    "purchases_df.persist()"
   ]
  },
  {
   "cell_type": "markdown",
   "metadata": {},
   "source": [
    "We could use `.show(5)` or `.take(5)`/`.head(5)`, but Pandas actually has prettier output:"
   ]
  },
  {
   "cell_type": "code",
   "execution_count": 6,
   "metadata": {},
   "outputs": [
    {
     "data": {
      "text/html": [
       "<div>\n",
       "<style scoped>\n",
       "    .dataframe tbody tr th:only-of-type {\n",
       "        vertical-align: middle;\n",
       "    }\n",
       "\n",
       "    .dataframe tbody tr th {\n",
       "        vertical-align: top;\n",
       "    }\n",
       "\n",
       "    .dataframe thead th {\n",
       "        text-align: right;\n",
       "    }\n",
       "</style>\n",
       "<table border=\"1\" class=\"dataframe\">\n",
       "  <thead>\n",
       "    <tr style=\"text-align: right;\">\n",
       "      <th></th>\n",
       "      <th>customer_name</th>\n",
       "      <th>date</th>\n",
       "      <th>category</th>\n",
       "      <th>product_name</th>\n",
       "      <th>quantity</th>\n",
       "      <th>price</th>\n",
       "    </tr>\n",
       "  </thead>\n",
       "  <tbody>\n",
       "    <tr>\n",
       "      <th>0</th>\n",
       "      <td>Geoffrey</td>\n",
       "      <td>2016-04-22</td>\n",
       "      <td>A</td>\n",
       "      <td>apples</td>\n",
       "      <td>1</td>\n",
       "      <td>50.0</td>\n",
       "    </tr>\n",
       "    <tr>\n",
       "      <th>1</th>\n",
       "      <td>Geoffrey</td>\n",
       "      <td>2016-05-03</td>\n",
       "      <td>B</td>\n",
       "      <td>Lamp</td>\n",
       "      <td>2</td>\n",
       "      <td>38.0</td>\n",
       "    </tr>\n",
       "    <tr>\n",
       "      <th>2</th>\n",
       "      <td>Geoffrey</td>\n",
       "      <td>2016-05-03</td>\n",
       "      <td>D</td>\n",
       "      <td>Solar Pannel</td>\n",
       "      <td>1</td>\n",
       "      <td>29.0</td>\n",
       "    </tr>\n",
       "    <tr>\n",
       "      <th>3</th>\n",
       "      <td>Geoffrey</td>\n",
       "      <td>2016-05-03</td>\n",
       "      <td>A</td>\n",
       "      <td>apples</td>\n",
       "      <td>3</td>\n",
       "      <td>50.0</td>\n",
       "    </tr>\n",
       "    <tr>\n",
       "      <th>4</th>\n",
       "      <td>Geoffrey</td>\n",
       "      <td>2016-05-03</td>\n",
       "      <td>C</td>\n",
       "      <td>Rice</td>\n",
       "      <td>5</td>\n",
       "      <td>15.0</td>\n",
       "    </tr>\n",
       "  </tbody>\n",
       "</table>\n",
       "</div>"
      ],
      "text/plain": [
       "  customer_name        date category  product_name  quantity  price\n",
       "0      Geoffrey  2016-04-22        A        apples         1   50.0\n",
       "1      Geoffrey  2016-05-03        B          Lamp         2   38.0\n",
       "2      Geoffrey  2016-05-03        D  Solar Pannel         1   29.0\n",
       "3      Geoffrey  2016-05-03        A        apples         3   50.0\n",
       "4      Geoffrey  2016-05-03        C          Rice         5   15.0"
      ]
     },
     "execution_count": 6,
     "metadata": {},
     "output_type": "execute_result"
    }
   ],
   "source": [
    "purchases_df.limit(5).toPandas().head()"
   ]
  },
  {
   "cell_type": "markdown",
   "metadata": {},
   "source": [
    "Let's check the distinct products that are being purchased by our customers:"
   ]
  },
  {
   "cell_type": "code",
   "execution_count": 7,
   "metadata": {},
   "outputs": [
    {
     "name": "stdout",
     "output_type": "stream",
     "text": [
      "+--------------------+\n",
      "|        product_name|\n",
      "+--------------------+\n",
      "|             bananas|\n",
      "|Book: Crime and P...|\n",
      "|                Lamp|\n",
      "|         Recycle bin|\n",
      "|              apples|\n",
      "|        Solar Pannel|\n",
      "|     Book: The noose|\n",
      "|                Rice|\n",
      "|          space ship|\n",
      "|         Motor skate|\n",
      "+--------------------+\n",
      "\n"
     ]
    }
   ],
   "source": [
    "purchases_df.select('product_name').distinct().show()"
   ]
  },
  {
   "cell_type": "markdown",
   "metadata": {},
   "source": [
    "## Summary statistics on certain columns\n",
    "\n",
    "A valuable way to get a quick look at some data is to use the `.describe()` method.  This will give some very basic statistics about the columns that I specify:"
   ]
  },
  {
   "cell_type": "code",
   "execution_count": 8,
   "metadata": {},
   "outputs": [
    {
     "name": "stdout",
     "output_type": "stream",
     "text": [
      "+-------+------------------+-----------------+\n",
      "|summary|          quantity|            price|\n",
      "+-------+------------------+-----------------+\n",
      "|  count|                39|               39|\n",
      "|   mean| 4.153846153846154|68.94871794871794|\n",
      "| stddev|2.9694803863945936|59.75958355996516|\n",
      "|    min|                 1|             15.0|\n",
      "|    max|                15|            227.0|\n",
      "+-------+------------------+-----------------+\n",
      "\n"
     ]
    }
   ],
   "source": [
    "purchases_df.describe('quantity', 'price').show()"
   ]
  },
  {
   "cell_type": "markdown",
   "metadata": {},
   "source": [
    "## Contingency tables\n",
    "\n",
    "Recall in statistics we have the concept of a \"contingency table\".  In DataFrames we use the `.crosstab()` method to produce one.  This can be a useful way to look at data, but we need to be careful with interpretation here:  this only counts *rows*."
   ]
  },
  {
   "cell_type": "code",
   "execution_count": 9,
   "metadata": {},
   "outputs": [
    {
     "data": {
      "text/html": [
       "<div>\n",
       "<style scoped>\n",
       "    .dataframe tbody tr th:only-of-type {\n",
       "        vertical-align: middle;\n",
       "    }\n",
       "\n",
       "    .dataframe tbody tr th {\n",
       "        vertical-align: top;\n",
       "    }\n",
       "\n",
       "    .dataframe thead th {\n",
       "        text-align: right;\n",
       "    }\n",
       "</style>\n",
       "<table border=\"1\" class=\"dataframe\">\n",
       "  <thead>\n",
       "    <tr style=\"text-align: right;\">\n",
       "      <th></th>\n",
       "      <th>customer_name_product_name</th>\n",
       "      <th>Book: Crime and Punishment</th>\n",
       "      <th>Book: The noose</th>\n",
       "      <th>Lamp</th>\n",
       "      <th>Motor skate</th>\n",
       "      <th>Recycle bin</th>\n",
       "      <th>Rice</th>\n",
       "      <th>Solar Pannel</th>\n",
       "      <th>apples</th>\n",
       "      <th>bananas</th>\n",
       "      <th>space ship</th>\n",
       "    </tr>\n",
       "  </thead>\n",
       "  <tbody>\n",
       "    <tr>\n",
       "      <th>0</th>\n",
       "      <td>Geoffrey</td>\n",
       "      <td>0</td>\n",
       "      <td>1</td>\n",
       "      <td>1</td>\n",
       "      <td>1</td>\n",
       "      <td>0</td>\n",
       "      <td>1</td>\n",
       "      <td>1</td>\n",
       "      <td>3</td>\n",
       "      <td>1</td>\n",
       "      <td>0</td>\n",
       "    </tr>\n",
       "    <tr>\n",
       "      <th>1</th>\n",
       "      <td>Yoshua</td>\n",
       "      <td>0</td>\n",
       "      <td>0</td>\n",
       "      <td>1</td>\n",
       "      <td>1</td>\n",
       "      <td>1</td>\n",
       "      <td>1</td>\n",
       "      <td>0</td>\n",
       "      <td>1</td>\n",
       "      <td>2</td>\n",
       "      <td>2</td>\n",
       "    </tr>\n",
       "    <tr>\n",
       "      <th>2</th>\n",
       "      <td>Yann</td>\n",
       "      <td>1</td>\n",
       "      <td>1</td>\n",
       "      <td>2</td>\n",
       "      <td>2</td>\n",
       "      <td>2</td>\n",
       "      <td>1</td>\n",
       "      <td>1</td>\n",
       "      <td>0</td>\n",
       "      <td>2</td>\n",
       "      <td>1</td>\n",
       "    </tr>\n",
       "    <tr>\n",
       "      <th>3</th>\n",
       "      <td>Jurgen</td>\n",
       "      <td>0</td>\n",
       "      <td>0</td>\n",
       "      <td>0</td>\n",
       "      <td>2</td>\n",
       "      <td>1</td>\n",
       "      <td>1</td>\n",
       "      <td>0</td>\n",
       "      <td>0</td>\n",
       "      <td>3</td>\n",
       "      <td>1</td>\n",
       "    </tr>\n",
       "  </tbody>\n",
       "</table>\n",
       "</div>"
      ],
      "text/plain": [
       "  customer_name_product_name  Book: Crime and Punishment  Book: The noose  \\\n",
       "0                   Geoffrey                           0                1   \n",
       "1                     Yoshua                           0                0   \n",
       "2                       Yann                           1                1   \n",
       "3                     Jurgen                           0                0   \n",
       "\n",
       "   Lamp  Motor skate  Recycle bin  Rice  Solar Pannel  apples  bananas  \\\n",
       "0     1            1            0     1             1       3        1   \n",
       "1     1            1            1     1             0       1        2   \n",
       "2     2            2            2     1             1       0        2   \n",
       "3     0            2            1     1             0       0        3   \n",
       "\n",
       "   space ship  \n",
       "0           0  \n",
       "1           2  \n",
       "2           1  \n",
       "3           1  "
      ]
     },
     "execution_count": 9,
     "metadata": {},
     "output_type": "execute_result"
    }
   ],
   "source": [
    "prod_freq_per_cust = purchases_df.crosstab('customer_name', 'product_name')\n",
    "prod_freq_per_cust.toPandas().head()"
   ]
  },
  {
   "cell_type": "markdown",
   "metadata": {},
   "source": [
    "Let's look at the columns"
   ]
  },
  {
   "cell_type": "code",
   "execution_count": 10,
   "metadata": {},
   "outputs": [
    {
     "data": {
      "text/plain": [
       "['customer_name_product_name',\n",
       " 'Book: Crime and Punishment',\n",
       " 'Book: The noose',\n",
       " 'Lamp',\n",
       " 'Motor skate',\n",
       " 'Recycle bin',\n",
       " 'Rice',\n",
       " 'Solar Pannel',\n",
       " 'apples',\n",
       " 'bananas',\n",
       " 'space ship']"
      ]
     },
     "execution_count": 10,
     "metadata": {},
     "output_type": "execute_result"
    }
   ],
   "source": [
    "cols = prod_freq_per_cust.columns\n",
    "cols"
   ]
  },
  {
   "cell_type": "markdown",
   "metadata": {},
   "source": [
    "Recall the list \"slicing\" syntax.  We can use this to only select certain elements in the list.  In this case we want to cut off the first column name:"
   ]
  },
  {
   "cell_type": "code",
   "execution_count": 11,
   "metadata": {},
   "outputs": [
    {
     "data": {
      "text/plain": [
       "['Book: Crime and Punishment',\n",
       " 'Book: The noose',\n",
       " 'Lamp',\n",
       " 'Motor skate',\n",
       " 'Recycle bin',\n",
       " 'Rice',\n",
       " 'Solar Pannel',\n",
       " 'apples',\n",
       " 'bananas',\n",
       " 'space ship']"
      ]
     },
     "execution_count": 11,
     "metadata": {},
     "output_type": "execute_result"
    }
   ],
   "source": [
    "cols[1:]"
   ]
  },
  {
   "cell_type": "markdown",
   "metadata": {},
   "source": [
    "So now we can just pass these column names to `.describe()` to get some basic purchase frequency stats:"
   ]
  },
  {
   "cell_type": "code",
   "execution_count": 12,
   "metadata": {},
   "outputs": [
    {
     "data": {
      "text/html": [
       "<div>\n",
       "<style scoped>\n",
       "    .dataframe tbody tr th:only-of-type {\n",
       "        vertical-align: middle;\n",
       "    }\n",
       "\n",
       "    .dataframe tbody tr th {\n",
       "        vertical-align: top;\n",
       "    }\n",
       "\n",
       "    .dataframe thead th {\n",
       "        text-align: right;\n",
       "    }\n",
       "</style>\n",
       "<table border=\"1\" class=\"dataframe\">\n",
       "  <thead>\n",
       "    <tr style=\"text-align: right;\">\n",
       "      <th></th>\n",
       "      <th>summary</th>\n",
       "      <th>Book: Crime and Punishment</th>\n",
       "      <th>Book: The noose</th>\n",
       "      <th>Lamp</th>\n",
       "      <th>Motor skate</th>\n",
       "      <th>Recycle bin</th>\n",
       "      <th>Rice</th>\n",
       "      <th>Solar Pannel</th>\n",
       "      <th>apples</th>\n",
       "      <th>bananas</th>\n",
       "      <th>space ship</th>\n",
       "    </tr>\n",
       "  </thead>\n",
       "  <tbody>\n",
       "    <tr>\n",
       "      <th>0</th>\n",
       "      <td>count</td>\n",
       "      <td>4</td>\n",
       "      <td>4</td>\n",
       "      <td>4</td>\n",
       "      <td>4</td>\n",
       "      <td>4</td>\n",
       "      <td>4</td>\n",
       "      <td>4</td>\n",
       "      <td>4</td>\n",
       "      <td>4</td>\n",
       "      <td>4</td>\n",
       "    </tr>\n",
       "    <tr>\n",
       "      <th>1</th>\n",
       "      <td>mean</td>\n",
       "      <td>0.25</td>\n",
       "      <td>0.5</td>\n",
       "      <td>1.0</td>\n",
       "      <td>1.5</td>\n",
       "      <td>1.0</td>\n",
       "      <td>1.0</td>\n",
       "      <td>0.5</td>\n",
       "      <td>1.0</td>\n",
       "      <td>2.0</td>\n",
       "      <td>1.0</td>\n",
       "    </tr>\n",
       "    <tr>\n",
       "      <th>2</th>\n",
       "      <td>stddev</td>\n",
       "      <td>0.5</td>\n",
       "      <td>0.5773502691896257</td>\n",
       "      <td>0.816496580927726</td>\n",
       "      <td>0.5773502691896257</td>\n",
       "      <td>0.816496580927726</td>\n",
       "      <td>0.0</td>\n",
       "      <td>0.5773502691896257</td>\n",
       "      <td>1.4142135623730951</td>\n",
       "      <td>0.816496580927726</td>\n",
       "      <td>0.816496580927726</td>\n",
       "    </tr>\n",
       "    <tr>\n",
       "      <th>3</th>\n",
       "      <td>min</td>\n",
       "      <td>0</td>\n",
       "      <td>0</td>\n",
       "      <td>0</td>\n",
       "      <td>1</td>\n",
       "      <td>0</td>\n",
       "      <td>1</td>\n",
       "      <td>0</td>\n",
       "      <td>0</td>\n",
       "      <td>1</td>\n",
       "      <td>0</td>\n",
       "    </tr>\n",
       "    <tr>\n",
       "      <th>4</th>\n",
       "      <td>max</td>\n",
       "      <td>1</td>\n",
       "      <td>1</td>\n",
       "      <td>2</td>\n",
       "      <td>2</td>\n",
       "      <td>2</td>\n",
       "      <td>1</td>\n",
       "      <td>1</td>\n",
       "      <td>3</td>\n",
       "      <td>3</td>\n",
       "      <td>2</td>\n",
       "    </tr>\n",
       "  </tbody>\n",
       "</table>\n",
       "</div>"
      ],
      "text/plain": [
       "  summary Book: Crime and Punishment     Book: The noose               Lamp  \\\n",
       "0   count                          4                   4                  4   \n",
       "1    mean                       0.25                 0.5                1.0   \n",
       "2  stddev                        0.5  0.5773502691896257  0.816496580927726   \n",
       "3     min                          0                   0                  0   \n",
       "4     max                          1                   1                  2   \n",
       "\n",
       "          Motor skate        Recycle bin Rice        Solar Pannel  \\\n",
       "0                   4                  4    4                   4   \n",
       "1                 1.5                1.0  1.0                 0.5   \n",
       "2  0.5773502691896257  0.816496580927726  0.0  0.5773502691896257   \n",
       "3                   1                  0    1                   0   \n",
       "4                   2                  2    1                   1   \n",
       "\n",
       "               apples            bananas         space ship  \n",
       "0                   4                  4                  4  \n",
       "1                 1.0                2.0                1.0  \n",
       "2  1.4142135623730951  0.816496580927726  0.816496580927726  \n",
       "3                   0                  1                  0  \n",
       "4                   3                  3                  2  "
      ]
     },
     "execution_count": 12,
     "metadata": {},
     "output_type": "execute_result"
    }
   ],
   "source": [
    "prod_freq_per_cust.describe(cols[1:]).toPandas().head()"
   ]
  },
  {
   "cell_type": "markdown",
   "metadata": {},
   "source": [
    "`.describe()` should ONLY be used for exploratory analysis.  If we really wanted to get the average number of purchase events per product (to be used in further calculations) then we should perform an explicit aggregation ourselves:"
   ]
  },
  {
   "cell_type": "code",
   "execution_count": 13,
   "metadata": {},
   "outputs": [
    {
     "name": "stdout",
     "output_type": "stream",
     "text": [
      "+-------------+---------------+-----+\n",
      "|customer_name|   product_name|count|\n",
      "+-------------+---------------+-----+\n",
      "|       Jurgen|        bananas|    3|\n",
      "|     Geoffrey|           Lamp|    1|\n",
      "|       Yoshua|         apples|    1|\n",
      "|         Yann|           Lamp|    2|\n",
      "|       Jurgen|     space ship|    1|\n",
      "|       Yoshua|        bananas|    2|\n",
      "|     Geoffrey|Book: The noose|    1|\n",
      "|         Yann|           Rice|    1|\n",
      "|         Yann|    Recycle bin|    2|\n",
      "|         Yann|     space ship|    1|\n",
      "|     Geoffrey|   Solar Pannel|    1|\n",
      "|     Geoffrey|    Motor skate|    1|\n",
      "|       Yoshua|    Motor skate|    1|\n",
      "|         Yann|        bananas|    2|\n",
      "|       Yoshua|           Lamp|    1|\n",
      "|     Geoffrey|         apples|    3|\n",
      "|       Jurgen|    Motor skate|    2|\n",
      "|       Yoshua|           Rice|    1|\n",
      "|       Jurgen|    Recycle bin|    1|\n",
      "|     Geoffrey|           Rice|    1|\n",
      "+-------------+---------------+-----+\n",
      "only showing top 20 rows\n",
      "\n"
     ]
    }
   ],
   "source": [
    "prod_freq_per_cust2 = purchases_df.groupBy('customer_name', 'product_name').count()\n",
    "prod_freq_per_cust2.show()"
   ]
  },
  {
   "cell_type": "code",
   "execution_count": 14,
   "metadata": {},
   "outputs": [
    {
     "name": "stdout",
     "output_type": "stream",
     "text": [
      "+-------------+---------------+-------------------+\n",
      "|customer_name|   product_name|num_purchase_events|\n",
      "+-------------+---------------+-------------------+\n",
      "|       Jurgen|        bananas|                  3|\n",
      "|     Geoffrey|           Lamp|                  1|\n",
      "|       Yoshua|         apples|                  1|\n",
      "|         Yann|           Lamp|                  2|\n",
      "|       Jurgen|     space ship|                  1|\n",
      "|       Yoshua|        bananas|                  2|\n",
      "|     Geoffrey|Book: The noose|                  1|\n",
      "|         Yann|           Rice|                  1|\n",
      "|         Yann|    Recycle bin|                  2|\n",
      "|         Yann|     space ship|                  1|\n",
      "|     Geoffrey|   Solar Pannel|                  1|\n",
      "|     Geoffrey|    Motor skate|                  1|\n",
      "|       Yoshua|    Motor skate|                  1|\n",
      "|         Yann|        bananas|                  2|\n",
      "|       Yoshua|           Lamp|                  1|\n",
      "|     Geoffrey|         apples|                  3|\n",
      "|       Jurgen|    Motor skate|                  2|\n",
      "|       Yoshua|           Rice|                  1|\n",
      "|       Jurgen|    Recycle bin|                  1|\n",
      "|     Geoffrey|           Rice|                  1|\n",
      "+-------------+---------------+-------------------+\n",
      "only showing top 20 rows\n",
      "\n"
     ]
    }
   ],
   "source": [
    "prod_freq_per_cust2 = prod_freq_per_cust2.withColumnRenamed('count', 'num_purchase_events')\n",
    "prod_freq_per_cust2.show()"
   ]
  },
  {
   "cell_type": "markdown",
   "metadata": {},
   "source": [
    "Let's compute the average number of purchase events per product:"
   ]
  },
  {
   "cell_type": "code",
   "execution_count": 15,
   "metadata": {},
   "outputs": [
    {
     "name": "stdout",
     "output_type": "stream",
     "text": [
      "+--------------------+------------------------+\n",
      "|        product_name|avg(num_purchase_events)|\n",
      "+--------------------+------------------------+\n",
      "|             bananas|                     2.0|\n",
      "|Book: Crime and P...|                     1.0|\n",
      "|                Lamp|      1.3333333333333333|\n",
      "|         Recycle bin|      1.3333333333333333|\n",
      "|              apples|                     2.0|\n",
      "|        Solar Pannel|                     1.0|\n",
      "|     Book: The noose|                     1.0|\n",
      "|                Rice|                     1.0|\n",
      "|          space ship|      1.3333333333333333|\n",
      "|         Motor skate|                     1.5|\n",
      "+--------------------+------------------------+\n",
      "\n"
     ]
    }
   ],
   "source": [
    "prod_freq_per_cust2.groupBy('product_name').avg('num_purchase_events').show()"
   ]
  },
  {
   "cell_type": "markdown",
   "metadata": {},
   "source": [
    "## Pivoting columns\n",
    "\n",
    "What if we wanted to take the `quantity` column into account (i.e. for each purchase event a customer might buy MORE THAN ONE of a given product)?\n",
    "\n",
    "One way to analyze this is to use the `.pivot()` method.  `.pivot()` *roughly* \"makes a column horizontal\".  More precisely, it constructs a new table where the column names are taken from column *values* in the old table.\n",
    "\n",
    "To make sense of this we always need to start with a `.groupBy()` and end with an aggregation.\n",
    "It's easier seen than said:"
   ]
  },
  {
   "cell_type": "code",
   "execution_count": 21,
   "metadata": {},
   "outputs": [
    {
     "data": {
      "text/html": [
       "<div>\n",
       "<style scoped>\n",
       "    .dataframe tbody tr th:only-of-type {\n",
       "        vertical-align: middle;\n",
       "    }\n",
       "\n",
       "    .dataframe tbody tr th {\n",
       "        vertical-align: top;\n",
       "    }\n",
       "\n",
       "    .dataframe thead th {\n",
       "        text-align: right;\n",
       "    }\n",
       "</style>\n",
       "<table border=\"1\" class=\"dataframe\">\n",
       "  <thead>\n",
       "    <tr style=\"text-align: right;\">\n",
       "      <th></th>\n",
       "      <th>customer_name</th>\n",
       "      <th>Book: Crime and Punishment</th>\n",
       "      <th>Book: The noose</th>\n",
       "      <th>Lamp</th>\n",
       "      <th>Motor skate</th>\n",
       "      <th>Recycle bin</th>\n",
       "      <th>Rice</th>\n",
       "      <th>Solar Pannel</th>\n",
       "      <th>apples</th>\n",
       "      <th>bananas</th>\n",
       "      <th>space ship</th>\n",
       "    </tr>\n",
       "  </thead>\n",
       "  <tbody>\n",
       "    <tr>\n",
       "      <th>0</th>\n",
       "      <td>Yann</td>\n",
       "      <td>5.0</td>\n",
       "      <td>5.0</td>\n",
       "      <td>3.0</td>\n",
       "      <td>2</td>\n",
       "      <td>10.0</td>\n",
       "      <td>15</td>\n",
       "      <td>5.0</td>\n",
       "      <td>NaN</td>\n",
       "      <td>6</td>\n",
       "      <td>1.0</td>\n",
       "    </tr>\n",
       "    <tr>\n",
       "      <th>1</th>\n",
       "      <td>Jurgen</td>\n",
       "      <td>NaN</td>\n",
       "      <td>NaN</td>\n",
       "      <td>NaN</td>\n",
       "      <td>3</td>\n",
       "      <td>5.0</td>\n",
       "      <td>5</td>\n",
       "      <td>NaN</td>\n",
       "      <td>NaN</td>\n",
       "      <td>15</td>\n",
       "      <td>1.0</td>\n",
       "    </tr>\n",
       "    <tr>\n",
       "      <th>2</th>\n",
       "      <td>Yoshua</td>\n",
       "      <td>NaN</td>\n",
       "      <td>NaN</td>\n",
       "      <td>2.0</td>\n",
       "      <td>4</td>\n",
       "      <td>5.0</td>\n",
       "      <td>5</td>\n",
       "      <td>NaN</td>\n",
       "      <td>10.0</td>\n",
       "      <td>18</td>\n",
       "      <td>7.0</td>\n",
       "    </tr>\n",
       "    <tr>\n",
       "      <th>3</th>\n",
       "      <td>Geoffrey</td>\n",
       "      <td>NaN</td>\n",
       "      <td>1.0</td>\n",
       "      <td>2.0</td>\n",
       "      <td>7</td>\n",
       "      <td>NaN</td>\n",
       "      <td>5</td>\n",
       "      <td>1.0</td>\n",
       "      <td>9.0</td>\n",
       "      <td>5</td>\n",
       "      <td>NaN</td>\n",
       "    </tr>\n",
       "  </tbody>\n",
       "</table>\n",
       "</div>"
      ],
      "text/plain": [
       "  customer_name  Book: Crime and Punishment  Book: The noose  Lamp  \\\n",
       "0          Yann                         5.0              5.0   3.0   \n",
       "1        Jurgen                         NaN              NaN   NaN   \n",
       "2        Yoshua                         NaN              NaN   2.0   \n",
       "3      Geoffrey                         NaN              1.0   2.0   \n",
       "\n",
       "   Motor skate  Recycle bin  Rice  Solar Pannel  apples  bananas  space ship  \n",
       "0            2         10.0    15           5.0     NaN        6         1.0  \n",
       "1            3          5.0     5           NaN     NaN       15         1.0  \n",
       "2            4          5.0     5           NaN    10.0       18         7.0  \n",
       "3            7          NaN     5           1.0     9.0        5         NaN  "
      ]
     },
     "execution_count": 21,
     "metadata": {},
     "output_type": "execute_result"
    }
   ],
   "source": [
    "tot_prod_per_cust = purchases_df.groupBy('customer_name').pivot('product_name').sum('quantity')\n",
    "tot_prod_per_cust.toPandas().head()"
   ]
  },
  {
   "cell_type": "markdown",
   "metadata": {},
   "source": [
    "Look at all of those `NaN` (not a number).  In this context that means that the customer never bought that particular product.  Let's fill those in with zeros:"
   ]
  },
  {
   "cell_type": "code",
   "execution_count": 22,
   "metadata": {},
   "outputs": [
    {
     "data": {
      "text/html": [
       "<div>\n",
       "<style scoped>\n",
       "    .dataframe tbody tr th:only-of-type {\n",
       "        vertical-align: middle;\n",
       "    }\n",
       "\n",
       "    .dataframe tbody tr th {\n",
       "        vertical-align: top;\n",
       "    }\n",
       "\n",
       "    .dataframe thead th {\n",
       "        text-align: right;\n",
       "    }\n",
       "</style>\n",
       "<table border=\"1\" class=\"dataframe\">\n",
       "  <thead>\n",
       "    <tr style=\"text-align: right;\">\n",
       "      <th></th>\n",
       "      <th>customer_name</th>\n",
       "      <th>Book: Crime and Punishment</th>\n",
       "      <th>Book: The noose</th>\n",
       "      <th>Lamp</th>\n",
       "      <th>Motor skate</th>\n",
       "      <th>Recycle bin</th>\n",
       "      <th>Rice</th>\n",
       "      <th>Solar Pannel</th>\n",
       "      <th>apples</th>\n",
       "      <th>bananas</th>\n",
       "      <th>space ship</th>\n",
       "    </tr>\n",
       "  </thead>\n",
       "  <tbody>\n",
       "    <tr>\n",
       "      <th>0</th>\n",
       "      <td>Yann</td>\n",
       "      <td>5</td>\n",
       "      <td>5</td>\n",
       "      <td>3</td>\n",
       "      <td>2</td>\n",
       "      <td>10</td>\n",
       "      <td>15</td>\n",
       "      <td>5</td>\n",
       "      <td>0</td>\n",
       "      <td>6</td>\n",
       "      <td>1</td>\n",
       "    </tr>\n",
       "    <tr>\n",
       "      <th>1</th>\n",
       "      <td>Jurgen</td>\n",
       "      <td>0</td>\n",
       "      <td>0</td>\n",
       "      <td>0</td>\n",
       "      <td>3</td>\n",
       "      <td>5</td>\n",
       "      <td>5</td>\n",
       "      <td>0</td>\n",
       "      <td>0</td>\n",
       "      <td>15</td>\n",
       "      <td>1</td>\n",
       "    </tr>\n",
       "    <tr>\n",
       "      <th>2</th>\n",
       "      <td>Yoshua</td>\n",
       "      <td>0</td>\n",
       "      <td>0</td>\n",
       "      <td>2</td>\n",
       "      <td>4</td>\n",
       "      <td>5</td>\n",
       "      <td>5</td>\n",
       "      <td>0</td>\n",
       "      <td>10</td>\n",
       "      <td>18</td>\n",
       "      <td>7</td>\n",
       "    </tr>\n",
       "    <tr>\n",
       "      <th>3</th>\n",
       "      <td>Geoffrey</td>\n",
       "      <td>0</td>\n",
       "      <td>1</td>\n",
       "      <td>2</td>\n",
       "      <td>7</td>\n",
       "      <td>0</td>\n",
       "      <td>5</td>\n",
       "      <td>1</td>\n",
       "      <td>9</td>\n",
       "      <td>5</td>\n",
       "      <td>0</td>\n",
       "    </tr>\n",
       "  </tbody>\n",
       "</table>\n",
       "</div>"
      ],
      "text/plain": [
       "  customer_name  Book: Crime and Punishment  Book: The noose  Lamp  \\\n",
       "0          Yann                           5                5     3   \n",
       "1        Jurgen                           0                0     0   \n",
       "2        Yoshua                           0                0     2   \n",
       "3      Geoffrey                           0                1     2   \n",
       "\n",
       "   Motor skate  Recycle bin  Rice  Solar Pannel  apples  bananas  space ship  \n",
       "0            2           10    15             5       0        6           1  \n",
       "1            3            5     5             0       0       15           1  \n",
       "2            4            5     5             0      10       18           7  \n",
       "3            7            0     5             1       9        5           0  "
      ]
     },
     "execution_count": 22,
     "metadata": {},
     "output_type": "execute_result"
    }
   ],
   "source": [
    "tot_prod_per_cust = tot_prod_per_cust.na.fill(0)\n",
    "tot_prod_per_cust.toPandas().head()"
   ]
  },
  {
   "cell_type": "markdown",
   "metadata": {},
   "source": [
    "Let's say we wanted to compute the average number of products purchased over all customers?  Let's start by getting a list of products:"
   ]
  },
  {
   "cell_type": "code",
   "execution_count": 23,
   "metadata": {},
   "outputs": [
    {
     "data": {
      "text/plain": [
       "['Book: Crime and Punishment',\n",
       " 'Book: The noose',\n",
       " 'Lamp',\n",
       " 'Motor skate',\n",
       " 'Recycle bin',\n",
       " 'Rice',\n",
       " 'Solar Pannel',\n",
       " 'apples',\n",
       " 'bananas',\n",
       " 'space ship']"
      ]
     },
     "execution_count": 23,
     "metadata": {},
     "output_type": "execute_result"
    }
   ],
   "source": [
    "products = tot_prod_per_cust.columns[1:]\n",
    "products"
   ]
  },
  {
   "cell_type": "markdown",
   "metadata": {},
   "source": [
    "It is easy to get averages by hand over a couple of products:"
   ]
  },
  {
   "cell_type": "code",
   "execution_count": 25,
   "metadata": {},
   "outputs": [
    {
     "name": "stdout",
     "output_type": "stream",
     "text": [
      "+-----------+------------+\n",
      "|avg(apples)|avg(bananas)|\n",
      "+-----------+------------+\n",
      "|       4.75|        11.0|\n",
      "+-----------+------------+\n",
      "\n"
     ]
    }
   ],
   "source": [
    "avg_quantity_per_prod = tot_prod_per_cust.groupBy().avg('apples', 'bananas')\n",
    "avg_quantity_per_prod.show()"
   ]
  },
  {
   "cell_type": "markdown",
   "metadata": {},
   "source": [
    "If we want to compute averages for ALL products then we need to use a specify Python syntax.  Recall that we have a list of products in `products`.  We can \"unpack\" this list to be the arguments of a function by using the `*` operator:"
   ]
  },
  {
   "cell_type": "code",
   "execution_count": 27,
   "metadata": {},
   "outputs": [
    {
     "data": {
      "text/html": [
       "<div>\n",
       "<style scoped>\n",
       "    .dataframe tbody tr th:only-of-type {\n",
       "        vertical-align: middle;\n",
       "    }\n",
       "\n",
       "    .dataframe tbody tr th {\n",
       "        vertical-align: top;\n",
       "    }\n",
       "\n",
       "    .dataframe thead th {\n",
       "        text-align: right;\n",
       "    }\n",
       "</style>\n",
       "<table border=\"1\" class=\"dataframe\">\n",
       "  <thead>\n",
       "    <tr style=\"text-align: right;\">\n",
       "      <th></th>\n",
       "      <th>avg(Book: Crime and Punishment)</th>\n",
       "      <th>avg(Book: The noose)</th>\n",
       "      <th>avg(Lamp)</th>\n",
       "      <th>avg(Motor skate)</th>\n",
       "      <th>avg(Recycle bin)</th>\n",
       "      <th>avg(Rice)</th>\n",
       "      <th>avg(Solar Pannel)</th>\n",
       "      <th>avg(apples)</th>\n",
       "      <th>avg(bananas)</th>\n",
       "      <th>avg(space ship)</th>\n",
       "    </tr>\n",
       "  </thead>\n",
       "  <tbody>\n",
       "    <tr>\n",
       "      <th>0</th>\n",
       "      <td>1.25</td>\n",
       "      <td>1.5</td>\n",
       "      <td>1.75</td>\n",
       "      <td>4.0</td>\n",
       "      <td>5.0</td>\n",
       "      <td>7.5</td>\n",
       "      <td>1.5</td>\n",
       "      <td>4.75</td>\n",
       "      <td>11.0</td>\n",
       "      <td>2.25</td>\n",
       "    </tr>\n",
       "  </tbody>\n",
       "</table>\n",
       "</div>"
      ],
      "text/plain": [
       "   avg(Book: Crime and Punishment)  avg(Book: The noose)  avg(Lamp)  \\\n",
       "0                             1.25                   1.5       1.75   \n",
       "\n",
       "   avg(Motor skate)  avg(Recycle bin)  avg(Rice)  avg(Solar Pannel)  \\\n",
       "0               4.0               5.0        7.5                1.5   \n",
       "\n",
       "   avg(apples)  avg(bananas)  avg(space ship)  \n",
       "0         4.75          11.0             2.25  "
      ]
     },
     "execution_count": 27,
     "metadata": {},
     "output_type": "execute_result"
    }
   ],
   "source": [
    "avg_prod = tot_prod_per_cust.groupBy().avg(*products)\n",
    "avg_prod.toPandas().head()"
   ]
  },
  {
   "cell_type": "markdown",
   "metadata": {},
   "source": [
    "## UDFs\n",
    "\n",
    "User-defined functions are very useful when performing computations on DataFrames.  These are similar in spirit to the lambdas that we often used when computing on RDDs:"
   ]
  },
  {
   "cell_type": "code",
   "execution_count": 29,
   "metadata": {},
   "outputs": [],
   "source": [
    "from pyspark.sql.types import DoubleType\n",
    "\n",
    "# define the function itself\n",
    "def amount_spent(quantity, price):\n",
    "    return quantity*price\n",
    "\n",
    "# convert it to a UDF - i.e. \"vectorize\" the function\n",
    "# over entire columns.\n",
    "# This new output column will be filled with doubles (64-bit floats)\n",
    "amount_spent_udf = F.udf(amount_spent, DoubleType())"
   ]
  },
  {
   "cell_type": "markdown",
   "metadata": {},
   "source": [
    "Now create a new column named `amount_spent` where the values are computed using the UDF:"
   ]
  },
  {
   "cell_type": "code",
   "execution_count": 31,
   "metadata": {},
   "outputs": [
    {
     "data": {
      "text/html": [
       "<div>\n",
       "<style scoped>\n",
       "    .dataframe tbody tr th:only-of-type {\n",
       "        vertical-align: middle;\n",
       "    }\n",
       "\n",
       "    .dataframe tbody tr th {\n",
       "        vertical-align: top;\n",
       "    }\n",
       "\n",
       "    .dataframe thead th {\n",
       "        text-align: right;\n",
       "    }\n",
       "</style>\n",
       "<table border=\"1\" class=\"dataframe\">\n",
       "  <thead>\n",
       "    <tr style=\"text-align: right;\">\n",
       "      <th></th>\n",
       "      <th>customer_name</th>\n",
       "      <th>date</th>\n",
       "      <th>category</th>\n",
       "      <th>product_name</th>\n",
       "      <th>quantity</th>\n",
       "      <th>price</th>\n",
       "      <th>amount_spent</th>\n",
       "    </tr>\n",
       "  </thead>\n",
       "  <tbody>\n",
       "    <tr>\n",
       "      <th>0</th>\n",
       "      <td>Geoffrey</td>\n",
       "      <td>2016-04-22</td>\n",
       "      <td>A</td>\n",
       "      <td>apples</td>\n",
       "      <td>1</td>\n",
       "      <td>50.0</td>\n",
       "      <td>50.0</td>\n",
       "    </tr>\n",
       "    <tr>\n",
       "      <th>1</th>\n",
       "      <td>Geoffrey</td>\n",
       "      <td>2016-05-03</td>\n",
       "      <td>B</td>\n",
       "      <td>Lamp</td>\n",
       "      <td>2</td>\n",
       "      <td>38.0</td>\n",
       "      <td>76.0</td>\n",
       "    </tr>\n",
       "    <tr>\n",
       "      <th>2</th>\n",
       "      <td>Geoffrey</td>\n",
       "      <td>2016-05-03</td>\n",
       "      <td>D</td>\n",
       "      <td>Solar Pannel</td>\n",
       "      <td>1</td>\n",
       "      <td>29.0</td>\n",
       "      <td>29.0</td>\n",
       "    </tr>\n",
       "    <tr>\n",
       "      <th>3</th>\n",
       "      <td>Geoffrey</td>\n",
       "      <td>2016-05-03</td>\n",
       "      <td>A</td>\n",
       "      <td>apples</td>\n",
       "      <td>3</td>\n",
       "      <td>50.0</td>\n",
       "      <td>150.0</td>\n",
       "    </tr>\n",
       "    <tr>\n",
       "      <th>4</th>\n",
       "      <td>Geoffrey</td>\n",
       "      <td>2016-05-03</td>\n",
       "      <td>C</td>\n",
       "      <td>Rice</td>\n",
       "      <td>5</td>\n",
       "      <td>15.0</td>\n",
       "      <td>75.0</td>\n",
       "    </tr>\n",
       "  </tbody>\n",
       "</table>\n",
       "</div>"
      ],
      "text/plain": [
       "  customer_name        date category  product_name  quantity  price  \\\n",
       "0      Geoffrey  2016-04-22        A        apples         1   50.0   \n",
       "1      Geoffrey  2016-05-03        B          Lamp         2   38.0   \n",
       "2      Geoffrey  2016-05-03        D  Solar Pannel         1   29.0   \n",
       "3      Geoffrey  2016-05-03        A        apples         3   50.0   \n",
       "4      Geoffrey  2016-05-03        C          Rice         5   15.0   \n",
       "\n",
       "   amount_spent  \n",
       "0          50.0  \n",
       "1          76.0  \n",
       "2          29.0  \n",
       "3         150.0  \n",
       "4          75.0  "
      ]
     },
     "execution_count": 31,
     "metadata": {},
     "output_type": "execute_result"
    }
   ],
   "source": [
    "purchases_df = purchases_df.withColumn('amount_spent', amount_spent_udf(F.col('quantity'), F.col('price')))\n",
    "purchases_df.limit(5).toPandas().head()"
   ]
  },
  {
   "cell_type": "markdown",
   "metadata": {},
   "source": [
    "## Windowing\n",
    "\n",
    "Windowing is the way to aggregate a row with neighboring rows to produce interesting statistics.  For example, imagine answering questions like \"average spend over last 5 visits\".\n",
    "\n",
    "Let's just do a simple example:  cumulative historical spend"
   ]
  },
  {
   "cell_type": "code",
   "execution_count": 32,
   "metadata": {},
   "outputs": [],
   "source": [
    "from pyspark.sql import Window\n",
    "\n",
    "# start by defining the window over which computations will be performed\n",
    "window = Window.partitionBy('customer_name').\\\n",
    "                orderBy('date',).\\\n",
    "                rowsBetween(Window.unboundedPreceding, 0)"
   ]
  },
  {
   "cell_type": "code",
   "execution_count": 33,
   "metadata": {},
   "outputs": [],
   "source": [
    "# now apply the window aggregation to compute a new column `cumulative_spend`\n",
    "purchases_df = purchases_df.withColumn('cumulative_spend',\n",
    "                                       F.sum(F.col('amount_spent')).over(window))"
   ]
  },
  {
   "cell_type": "code",
   "execution_count": 34,
   "metadata": {},
   "outputs": [
    {
     "data": {
      "text/html": [
       "<div>\n",
       "<style scoped>\n",
       "    .dataframe tbody tr th:only-of-type {\n",
       "        vertical-align: middle;\n",
       "    }\n",
       "\n",
       "    .dataframe tbody tr th {\n",
       "        vertical-align: top;\n",
       "    }\n",
       "\n",
       "    .dataframe thead th {\n",
       "        text-align: right;\n",
       "    }\n",
       "</style>\n",
       "<table border=\"1\" class=\"dataframe\">\n",
       "  <thead>\n",
       "    <tr style=\"text-align: right;\">\n",
       "      <th></th>\n",
       "      <th>customer_name</th>\n",
       "      <th>date</th>\n",
       "      <th>category</th>\n",
       "      <th>product_name</th>\n",
       "      <th>quantity</th>\n",
       "      <th>price</th>\n",
       "      <th>amount_spent</th>\n",
       "      <th>cumulative_spend</th>\n",
       "    </tr>\n",
       "  </thead>\n",
       "  <tbody>\n",
       "    <tr>\n",
       "      <th>0</th>\n",
       "      <td>Yann</td>\n",
       "      <td>2016-04-02</td>\n",
       "      <td>A</td>\n",
       "      <td>bananas</td>\n",
       "      <td>3</td>\n",
       "      <td>55.0</td>\n",
       "      <td>165.0</td>\n",
       "      <td>165.0</td>\n",
       "    </tr>\n",
       "    <tr>\n",
       "      <th>1</th>\n",
       "      <td>Yann</td>\n",
       "      <td>2016-04-02</td>\n",
       "      <td>B</td>\n",
       "      <td>Lamp</td>\n",
       "      <td>2</td>\n",
       "      <td>38.0</td>\n",
       "      <td>76.0</td>\n",
       "      <td>241.0</td>\n",
       "    </tr>\n",
       "    <tr>\n",
       "      <th>2</th>\n",
       "      <td>Yann</td>\n",
       "      <td>2016-04-03</td>\n",
       "      <td>E</td>\n",
       "      <td>Book: Crime and Punishment</td>\n",
       "      <td>5</td>\n",
       "      <td>100.0</td>\n",
       "      <td>500.0</td>\n",
       "      <td>741.0</td>\n",
       "    </tr>\n",
       "    <tr>\n",
       "      <th>3</th>\n",
       "      <td>Yann</td>\n",
       "      <td>2016-04-13</td>\n",
       "      <td>E</td>\n",
       "      <td>Book: The noose</td>\n",
       "      <td>5</td>\n",
       "      <td>125.0</td>\n",
       "      <td>625.0</td>\n",
       "      <td>1366.0</td>\n",
       "    </tr>\n",
       "    <tr>\n",
       "      <th>4</th>\n",
       "      <td>Yann</td>\n",
       "      <td>2016-04-22</td>\n",
       "      <td>B</td>\n",
       "      <td>Lamp</td>\n",
       "      <td>1</td>\n",
       "      <td>38.0</td>\n",
       "      <td>38.0</td>\n",
       "      <td>1404.0</td>\n",
       "    </tr>\n",
       "  </tbody>\n",
       "</table>\n",
       "</div>"
      ],
      "text/plain": [
       "  customer_name        date category                product_name  quantity  \\\n",
       "0          Yann  2016-04-02        A                     bananas         3   \n",
       "1          Yann  2016-04-02        B                        Lamp         2   \n",
       "2          Yann  2016-04-03        E  Book: Crime and Punishment         5   \n",
       "3          Yann  2016-04-13        E             Book: The noose         5   \n",
       "4          Yann  2016-04-22        B                        Lamp         1   \n",
       "\n",
       "   price  amount_spent  cumulative_spend  \n",
       "0   55.0         165.0             165.0  \n",
       "1   38.0          76.0             241.0  \n",
       "2  100.0         500.0             741.0  \n",
       "3  125.0         625.0            1366.0  \n",
       "4   38.0          38.0            1404.0  "
      ]
     },
     "execution_count": 34,
     "metadata": {},
     "output_type": "execute_result"
    }
   ],
   "source": [
    "purchases_df.limit(20).toPandas().head()"
   ]
  },
  {
   "cell_type": "markdown",
   "metadata": {},
   "source": [
    "We can make this example more interesting.  Above we were computing spend per *visit*.  Very often it is interesting to answer questions about buckets of time (e.g. weekly spend).\n",
    "\n",
    "Just like we did for RDDs, we can use our old friend `datetime` to perform time analysis:"
   ]
  },
  {
   "cell_type": "code",
   "execution_count": 35,
   "metadata": {},
   "outputs": [],
   "source": [
    "# start by creating a UDF that converts the date string to a datetime object\n",
    "from datetime import datetime\n",
    "from pyspark.sql.types import DateType\n",
    "\n",
    "def parse_date(datestr):\n",
    "    return datetime.strptime(datestr, '%Y-%m-%d')\n",
    "\n",
    "string_to_datetime = F.udf(parse_date, DateType())"
   ]
  },
  {
   "cell_type": "code",
   "execution_count": 36,
   "metadata": {},
   "outputs": [
    {
     "data": {
      "text/html": [
       "<div>\n",
       "<style scoped>\n",
       "    .dataframe tbody tr th:only-of-type {\n",
       "        vertical-align: middle;\n",
       "    }\n",
       "\n",
       "    .dataframe tbody tr th {\n",
       "        vertical-align: top;\n",
       "    }\n",
       "\n",
       "    .dataframe thead th {\n",
       "        text-align: right;\n",
       "    }\n",
       "</style>\n",
       "<table border=\"1\" class=\"dataframe\">\n",
       "  <thead>\n",
       "    <tr style=\"text-align: right;\">\n",
       "      <th></th>\n",
       "      <th>customer_name</th>\n",
       "      <th>category</th>\n",
       "      <th>product_name</th>\n",
       "      <th>quantity</th>\n",
       "      <th>price</th>\n",
       "      <th>amount_spent</th>\n",
       "      <th>cumulative_spend</th>\n",
       "      <th>datetime</th>\n",
       "    </tr>\n",
       "  </thead>\n",
       "  <tbody>\n",
       "    <tr>\n",
       "      <th>0</th>\n",
       "      <td>Yann</td>\n",
       "      <td>A</td>\n",
       "      <td>bananas</td>\n",
       "      <td>3</td>\n",
       "      <td>55.0</td>\n",
       "      <td>165.0</td>\n",
       "      <td>165.0</td>\n",
       "      <td>2016-04-02</td>\n",
       "    </tr>\n",
       "    <tr>\n",
       "      <th>1</th>\n",
       "      <td>Yann</td>\n",
       "      <td>B</td>\n",
       "      <td>Lamp</td>\n",
       "      <td>2</td>\n",
       "      <td>38.0</td>\n",
       "      <td>76.0</td>\n",
       "      <td>241.0</td>\n",
       "      <td>2016-04-02</td>\n",
       "    </tr>\n",
       "    <tr>\n",
       "      <th>2</th>\n",
       "      <td>Yann</td>\n",
       "      <td>E</td>\n",
       "      <td>Book: Crime and Punishment</td>\n",
       "      <td>5</td>\n",
       "      <td>100.0</td>\n",
       "      <td>500.0</td>\n",
       "      <td>741.0</td>\n",
       "      <td>2016-04-03</td>\n",
       "    </tr>\n",
       "    <tr>\n",
       "      <th>3</th>\n",
       "      <td>Yann</td>\n",
       "      <td>E</td>\n",
       "      <td>Book: The noose</td>\n",
       "      <td>5</td>\n",
       "      <td>125.0</td>\n",
       "      <td>625.0</td>\n",
       "      <td>1366.0</td>\n",
       "      <td>2016-04-13</td>\n",
       "    </tr>\n",
       "    <tr>\n",
       "      <th>4</th>\n",
       "      <td>Yann</td>\n",
       "      <td>B</td>\n",
       "      <td>Lamp</td>\n",
       "      <td>1</td>\n",
       "      <td>38.0</td>\n",
       "      <td>38.0</td>\n",
       "      <td>1404.0</td>\n",
       "      <td>2016-04-22</td>\n",
       "    </tr>\n",
       "  </tbody>\n",
       "</table>\n",
       "</div>"
      ],
      "text/plain": [
       "  customer_name category                product_name  quantity  price  \\\n",
       "0          Yann        A                     bananas         3   55.0   \n",
       "1          Yann        B                        Lamp         2   38.0   \n",
       "2          Yann        E  Book: Crime and Punishment         5  100.0   \n",
       "3          Yann        E             Book: The noose         5  125.0   \n",
       "4          Yann        B                        Lamp         1   38.0   \n",
       "\n",
       "   amount_spent  cumulative_spend    datetime  \n",
       "0         165.0             165.0  2016-04-02  \n",
       "1          76.0             241.0  2016-04-02  \n",
       "2         500.0             741.0  2016-04-03  \n",
       "3         625.0            1366.0  2016-04-13  \n",
       "4          38.0            1404.0  2016-04-22  "
      ]
     },
     "execution_count": 36,
     "metadata": {},
     "output_type": "execute_result"
    }
   ],
   "source": [
    "purchases_df = purchases_df.withColumn('datetime',\n",
    "                                       string_to_datetime(F.col('date')))\n",
    "purchases_df = purchases_df.drop('date')\n",
    "purchases_df.limit(10).toPandas().head()"
   ]
  },
  {
   "cell_type": "markdown",
   "metadata": {},
   "source": [
    "Let's add a `weekofyear` column so that we can aggregate by the week:"
   ]
  },
  {
   "cell_type": "code",
   "execution_count": 37,
   "metadata": {},
   "outputs": [
    {
     "data": {
      "text/html": [
       "<div>\n",
       "<style scoped>\n",
       "    .dataframe tbody tr th:only-of-type {\n",
       "        vertical-align: middle;\n",
       "    }\n",
       "\n",
       "    .dataframe tbody tr th {\n",
       "        vertical-align: top;\n",
       "    }\n",
       "\n",
       "    .dataframe thead th {\n",
       "        text-align: right;\n",
       "    }\n",
       "</style>\n",
       "<table border=\"1\" class=\"dataframe\">\n",
       "  <thead>\n",
       "    <tr style=\"text-align: right;\">\n",
       "      <th></th>\n",
       "      <th>customer_name</th>\n",
       "      <th>category</th>\n",
       "      <th>product_name</th>\n",
       "      <th>quantity</th>\n",
       "      <th>price</th>\n",
       "      <th>amount_spent</th>\n",
       "      <th>cumulative_spend</th>\n",
       "      <th>datetime</th>\n",
       "      <th>weekofyear</th>\n",
       "    </tr>\n",
       "  </thead>\n",
       "  <tbody>\n",
       "    <tr>\n",
       "      <th>0</th>\n",
       "      <td>Yann</td>\n",
       "      <td>A</td>\n",
       "      <td>bananas</td>\n",
       "      <td>3</td>\n",
       "      <td>55.0</td>\n",
       "      <td>165.0</td>\n",
       "      <td>165.0</td>\n",
       "      <td>2016-04-02</td>\n",
       "      <td>13</td>\n",
       "    </tr>\n",
       "    <tr>\n",
       "      <th>1</th>\n",
       "      <td>Yann</td>\n",
       "      <td>B</td>\n",
       "      <td>Lamp</td>\n",
       "      <td>2</td>\n",
       "      <td>38.0</td>\n",
       "      <td>76.0</td>\n",
       "      <td>241.0</td>\n",
       "      <td>2016-04-02</td>\n",
       "      <td>13</td>\n",
       "    </tr>\n",
       "    <tr>\n",
       "      <th>2</th>\n",
       "      <td>Yann</td>\n",
       "      <td>E</td>\n",
       "      <td>Book: Crime and Punishment</td>\n",
       "      <td>5</td>\n",
       "      <td>100.0</td>\n",
       "      <td>500.0</td>\n",
       "      <td>741.0</td>\n",
       "      <td>2016-04-03</td>\n",
       "      <td>13</td>\n",
       "    </tr>\n",
       "    <tr>\n",
       "      <th>3</th>\n",
       "      <td>Yann</td>\n",
       "      <td>E</td>\n",
       "      <td>Book: The noose</td>\n",
       "      <td>5</td>\n",
       "      <td>125.0</td>\n",
       "      <td>625.0</td>\n",
       "      <td>1366.0</td>\n",
       "      <td>2016-04-13</td>\n",
       "      <td>15</td>\n",
       "    </tr>\n",
       "    <tr>\n",
       "      <th>4</th>\n",
       "      <td>Yann</td>\n",
       "      <td>B</td>\n",
       "      <td>Lamp</td>\n",
       "      <td>1</td>\n",
       "      <td>38.0</td>\n",
       "      <td>38.0</td>\n",
       "      <td>1404.0</td>\n",
       "      <td>2016-04-22</td>\n",
       "      <td>16</td>\n",
       "    </tr>\n",
       "  </tbody>\n",
       "</table>\n",
       "</div>"
      ],
      "text/plain": [
       "  customer_name category                product_name  quantity  price  \\\n",
       "0          Yann        A                     bananas         3   55.0   \n",
       "1          Yann        B                        Lamp         2   38.0   \n",
       "2          Yann        E  Book: Crime and Punishment         5  100.0   \n",
       "3          Yann        E             Book: The noose         5  125.0   \n",
       "4          Yann        B                        Lamp         1   38.0   \n",
       "\n",
       "   amount_spent  cumulative_spend    datetime  weekofyear  \n",
       "0         165.0             165.0  2016-04-02          13  \n",
       "1          76.0             241.0  2016-04-02          13  \n",
       "2         500.0             741.0  2016-04-03          13  \n",
       "3         625.0            1366.0  2016-04-13          15  \n",
       "4          38.0            1404.0  2016-04-22          16  "
      ]
     },
     "execution_count": 37,
     "metadata": {},
     "output_type": "execute_result"
    }
   ],
   "source": [
    "purchases_df = purchases_df.withColumn('weekofyear',\n",
    "                                       F.weekofyear(F.col('datetime')))\n",
    "purchases_df.limit(10).toPandas().head()"
   ]
  },
  {
   "cell_type": "markdown",
   "metadata": {},
   "source": [
    "Now aggregating by the week is easy!"
   ]
  },
  {
   "cell_type": "code",
   "execution_count": 38,
   "metadata": {},
   "outputs": [
    {
     "name": "stdout",
     "output_type": "stream",
     "text": [
      "+-------------+----------+-----------------+\n",
      "|customer_name|weekofyear|sum(amount_spent)|\n",
      "+-------------+----------+-----------------+\n",
      "|     Geoffrey|        16|             50.0|\n",
      "|     Geoffrey|        18|            330.0|\n",
      "|     Geoffrey|        22|            525.0|\n",
      "|     Geoffrey|        24|            601.0|\n",
      "|       Jurgen|        17|            502.0|\n",
      "|       Jurgen|        18|            343.0|\n",
      "|       Jurgen|        22|            621.0|\n",
      "|         Yann|        13|            741.0|\n",
      "|         Yann|        15|            625.0|\n",
      "|         Yann|        16|             38.0|\n",
      "|         Yann|        17|            213.0|\n",
      "|         Yann|        18|            428.0|\n",
      "|         Yann|        21|            300.0|\n",
      "|         Yann|        23|            227.0|\n",
      "|       Yoshua|         5|            454.0|\n",
      "|       Yoshua|         6|           1121.0|\n",
      "|       Yoshua|        10|           1135.0|\n",
      "|       Yoshua|        14|            977.0|\n",
      "+-------------+----------+-----------------+\n",
      "\n"
     ]
    }
   ],
   "source": [
    "purchases_df.groupBy('customer_name', 'weekofyear').\\\n",
    "             sum('amount_spent').\\\n",
    "             orderBy('customer_name', 'weekofyear').show()"
   ]
  },
  {
   "cell_type": "code",
   "execution_count": null,
   "metadata": {},
   "outputs": [],
   "source": []
  }
 ],
 "metadata": {
  "kernelspec": {
   "display_name": "Python 3",
   "language": "python",
   "name": "python3"
  },
  "language_info": {
   "codemirror_mode": {
    "name": "ipython",
    "version": 3
   },
   "file_extension": ".py",
   "mimetype": "text/x-python",
   "name": "python",
   "nbconvert_exporter": "python",
   "pygments_lexer": "ipython3",
   "version": "3.7.2"
  }
 },
 "nbformat": 4,
 "nbformat_minor": 2
}
