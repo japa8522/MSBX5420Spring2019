{
 "cells": [
  {
   "cell_type": "markdown",
   "metadata": {},
   "source": [
    "# Exam 2:  CWL Analysis using Spark DataFrames\n",
    "\n",
    "First let us import the DataFrames that we prepared in the week 9 HW.  Note that if you aren't confident that you did the right thing then please use the solutions that I provided to import them correctly."
   ]
  },
  {
   "cell_type": "code",
   "execution_count": null,
   "metadata": {},
   "outputs": [],
   "source": [
    "from pyspark.sql import SparkSession\n",
    "import pyspark.sql.functions as F  # will be used a LOT\n",
    "from pyspark import Row  # Row will be used in some of the assertions\n",
    "\n",
    "ss = SparkSession.builder.\\\n",
    "     master('spark://spark-master:7077').\\\n",
    "     appName('cwlanalysis').getOrCreate()"
   ]
  },
  {
   "cell_type": "code",
   "execution_count": null,
   "metadata": {},
   "outputs": [],
   "source": [
    "matches_df = ss.read.parquet(\"hdfs://namenode/Users/vagrant/matches_df.parquet\")\n",
    "teammatches_df = ss.read.parquet(\"hdfs://namenode/Users/vagrant/teammatches_df.parquet\")\n",
    "playermatches_df = ss.read.parquet(\"hdfs://namenode/Users/vagrant/playermatches_df.parquet\")\n",
    "matchevents_df = ss.read.parquet(\"hdfs://namenode/Users/vagrant/matchevents_df.parquet\")"
   ]
  },
  {
   "cell_type": "code",
   "execution_count": null,
   "metadata": {},
   "outputs": [],
   "source": [
    "matches_df.printSchema()"
   ]
  },
  {
   "cell_type": "code",
   "execution_count": null,
   "metadata": {},
   "outputs": [],
   "source": [
    "teammatches_df.printSchema()"
   ]
  },
  {
   "cell_type": "code",
   "execution_count": null,
   "metadata": {},
   "outputs": [],
   "source": [
    "playermatches_df.printSchema()"
   ]
  },
  {
   "cell_type": "code",
   "execution_count": null,
   "metadata": {},
   "outputs": [],
   "source": [
    "matchevents_df.printSchema()"
   ]
  },
  {
   "cell_type": "markdown",
   "metadata": {},
   "source": [
    "## Problem 1\n",
    "\n",
    "Players tend to be very interested in the performance characteristics of various weapons.  One easy question to answer is:\n",
    "\n",
    "Which weapon was responsible for the most kills over the entire tournament?\n",
    "\n",
    "Store your result in a `str` variable named `weapon_most_kills`, i.e.\n",
    "```\n",
    "weapon_most_kills = 'KICKBOOTY_3000'\n",
    "```\n",
    "\n",
    "WE WILL RUN LOW ON MEMORY, so clean up after yourself.  Here is how to delete any DataFrames or RDDs you are done with:\n",
    "```\n",
    "del my_df\n",
    "ss.catalog.clearCache()\n",
    "```"
   ]
  },
  {
   "cell_type": "code",
   "execution_count": null,
   "metadata": {
    "deletable": false,
    "nbgrader": {
     "checksum": "4e4bdb2cb7c41cf4f5f41d323fcc1468",
     "grade": false,
     "grade_id": "cell-5041514ad1f08a5e",
     "locked": false,
     "schema_version": 1,
     "solution": true
    }
   },
   "outputs": [],
   "source": [
    "# YOUR CODE HERE\n",
    "raise NotImplementedError()"
   ]
  },
  {
   "cell_type": "code",
   "execution_count": null,
   "metadata": {
    "deletable": false,
    "editable": false,
    "nbgrader": {
     "checksum": "5b1d25ed5d79584f353d91facc570aa8",
     "grade": true,
     "grade_id": "cell-4b354aa92cda9c8e",
     "locked": true,
     "points": 20,
     "schema_version": 1,
     "solution": false
    }
   },
   "outputs": [],
   "source": [
    "assert isinstance(weapon_most_kills, str)\n"
   ]
  },
  {
   "cell_type": "markdown",
   "metadata": {},
   "source": [
    "## Problem 2:  Winning-est Team\n",
    "\n",
    "Please rank the teams in order of who won the most *matches* (winning-est team is first).  If there are any ties then secondarily sort alphabetically.\n",
    "\n",
    "Note that because each team-vs-team competition is the best out of 3 matches, the \"winning-est\" team might not be the same team that won the whole tournament.\n",
    "\n",
    "Store your result in a variable named `winningest_teams` that is a `list` of `tuple`s where each tuple contains the team name and the total number of matches won, e.g.\n",
    "```\n",
    "[('AWESOME_TEAM', 55), ('OK_TEAM', 43), ...]\n",
    "```"
   ]
  },
  {
   "cell_type": "code",
   "execution_count": null,
   "metadata": {
    "deletable": false,
    "nbgrader": {
     "checksum": "67f3f018bc2af41eed5eb878f537ef63",
     "grade": false,
     "grade_id": "cell-34cb8447b8d7c4da",
     "locked": false,
     "schema_version": 1,
     "solution": true
    }
   },
   "outputs": [],
   "source": [
    "# YOUR CODE HERE\n",
    "raise NotImplementedError()"
   ]
  },
  {
   "cell_type": "code",
   "execution_count": null,
   "metadata": {
    "deletable": false,
    "editable": false,
    "nbgrader": {
     "checksum": "6657091d4d50d9ea4dd53a7ed8b965d1",
     "grade": true,
     "grade_id": "cell-4ec70198fdb2ade3",
     "locked": true,
     "points": 20,
     "schema_version": 1,
     "solution": false
    }
   },
   "outputs": [],
   "source": [
    "assert isinstance(winningest_teams, list)\n",
    "assert isinstance(winningest_teams[0], tuple)\n",
    "assert isinstance(winningest_teams[0][0], str)\n",
    "assert isinstance(winningest_teams[0][1], int)\n"
   ]
  },
  {
   "cell_type": "markdown",
   "metadata": {},
   "source": [
    "## Problem 3:  Deadliest map\n",
    "\n",
    "It is interesting to know which maps are \"deadliest\" (i.e. have the most kills over the entire tournament) because this is where the exciting action was happening.\n",
    "\n",
    "Similar to Problem 2, provide a rank-order of maps (deadliest first), i.e. your `list` of `tuples` should look like:\n",
    "```\n",
    "[('Super Deadly Map', 1053), ('Second deadliest map', 997), ...]\n",
    "```\n",
    "where each pair contains the team name and total number of deaths that occurred in that map for the entire tournament.\n",
    "\n",
    "If there are any ties then secondarily sort alphabetically.  Name your variable `deadliest_maps`."
   ]
  },
  {
   "cell_type": "code",
   "execution_count": null,
   "metadata": {
    "deletable": false,
    "nbgrader": {
     "checksum": "7282cd45cc8ce1c0665630e8a692ddd2",
     "grade": false,
     "grade_id": "cell-77a779360df9f8d6",
     "locked": false,
     "schema_version": 1,
     "solution": true
    }
   },
   "outputs": [],
   "source": [
    "# YOUR CODE HERE\n",
    "raise NotImplementedError()"
   ]
  },
  {
   "cell_type": "code",
   "execution_count": null,
   "metadata": {
    "deletable": false,
    "editable": false,
    "nbgrader": {
     "checksum": "9e7d757d7b7e3bdf393361b0030bab46",
     "grade": true,
     "grade_id": "cell-a484098ee0d8d65c",
     "locked": true,
     "points": 20,
     "schema_version": 1,
     "solution": false
    }
   },
   "outputs": [],
   "source": [
    "assert isinstance(deadliest_maps, list)\n",
    "assert isinstance(deadliest_maps[0], tuple)\n",
    "assert isinstance(deadliest_maps[0][0], str)\n",
    "assert isinstance(deadliest_maps[0][1], int)\n"
   ]
  },
  {
   "cell_type": "markdown",
   "metadata": {},
   "source": [
    "## Problem 4:  Time spent per map\n",
    "\n",
    "Let's figure out how much time was spent (for the entire tournament) on each map.\n",
    "\n",
    "Produce a DataFrame named `map_durations_df` that contains two columns:  `map` (the name of the map) and `tot_duration_s` (total *seconds* played on the map for the entire tournament over all matches).\n",
    "\n",
    "It should be sorted in descending order with the longest played map first.\n",
    "\n",
    "Hint: I used a UDF to solve this"
   ]
  },
  {
   "cell_type": "code",
   "execution_count": null,
   "metadata": {
    "deletable": false,
    "nbgrader": {
     "checksum": "6dbe857702e3cda8ce2418d4ca6d4f3d",
     "grade": false,
     "grade_id": "cell-fc9a26c36ddbf12f",
     "locked": false,
     "schema_version": 1,
     "solution": true
    }
   },
   "outputs": [],
   "source": [
    "# YOUR CODE HERE\n",
    "raise NotImplementedError()"
   ]
  },
  {
   "cell_type": "code",
   "execution_count": null,
   "metadata": {
    "deletable": false,
    "editable": false,
    "nbgrader": {
     "checksum": "8eb5b8b3e8509e41bbc23bf06bedf98b",
     "grade": true,
     "grade_id": "cell-97842aefeb2e5da2",
     "locked": true,
     "points": 30,
     "schema_version": 1,
     "solution": false
    }
   },
   "outputs": [],
   "source": [
    "from pyspark.sql import DataFrame\n",
    "assert isinstance(map_durations_df, DataFrame)\n",
    "assert map_durations_df.columns == ['map', 'tot_duration_s']\n"
   ]
  },
  {
   "cell_type": "markdown",
   "metadata": {},
   "source": [
    "## Problem 5: Deadliest map per unit time\n",
    "\n",
    "The analysis in Problem 3 is not really fair.  Since some maps were played longer than others, we should really produce a DataFrame that details the deadliest maps PER SECOND.\n",
    "\n",
    "Your resulting DataFrame should be named `deadliest_maps_per_second_df` and have the columns `map` (the map name) and `deaths_per_second` (which will be doubles).\n",
    "\n",
    "Your DataFrame should be sorted according to `deaths_per_second` (deadliest first) and, in case of tie, alphabetically.\n",
    "\n",
    "HINT: I used a UDF to solve this"
   ]
  },
  {
   "cell_type": "code",
   "execution_count": null,
   "metadata": {
    "deletable": false,
    "nbgrader": {
     "checksum": "ee01ed7eb36c0c1f9e359e4e0691e73a",
     "grade": false,
     "grade_id": "cell-78b1f8201d13442b",
     "locked": false,
     "schema_version": 1,
     "solution": true
    }
   },
   "outputs": [],
   "source": [
    "# YOUR CODE HERE\n",
    "raise NotImplementedError()"
   ]
  },
  {
   "cell_type": "code",
   "execution_count": null,
   "metadata": {
    "deletable": false,
    "editable": false,
    "nbgrader": {
     "checksum": "c436370890acf24fc36763ab185b15f9",
     "grade": true,
     "grade_id": "cell-d57d3ece7d7a53a3",
     "locked": true,
     "points": 40,
     "schema_version": 1,
     "solution": false
    }
   },
   "outputs": [],
   "source": [
    "import numpy as np\n",
    "\n",
    "assert isinstance(deadliest_maps_per_second_df, DataFrame)\n",
    "assert deadliest_maps_per_second_df.columns == ['map', 'deaths_per_second']\n",
    "assert deadliest_maps_per_second_df.select('deaths_per_second').dtypes[0][1] == 'double'\n"
   ]
  },
  {
   "cell_type": "markdown",
   "metadata": {},
   "source": [
    "## Problem 6: Cumulative time a team played\n",
    "\n",
    "Create a DataFrame that contains the matches played by the team `EVIL GENIUSES` (one row per match).  This DataFrame, named `genius_matches`, will contain 4 columns:\n",
    "\n",
    "`mode`, `start_time_s`, `end_time_s`, and `cumulative_time_s` where `cumulative_time_s` is the cumulative seconds played UP TO AND INCLUDING THAT MATCH.  The cumulative match time should be separate for each game mode.\n",
    "\n",
    "The matches should be sorted first by `mode`, then in order of time played (earliest matches first).\n",
    "\n",
    "HINT:  You need some UDFs and Windowing"
   ]
  },
  {
   "cell_type": "code",
   "execution_count": null,
   "metadata": {
    "deletable": false,
    "nbgrader": {
     "checksum": "8646b035c6331f412696438e9315d370",
     "grade": false,
     "grade_id": "cell-13931a745d7db81e",
     "locked": false,
     "schema_version": 1,
     "solution": true
    }
   },
   "outputs": [],
   "source": [
    "# YOUR CODE HERE\n",
    "raise NotImplementedError()"
   ]
  },
  {
   "cell_type": "code",
   "execution_count": null,
   "metadata": {
    "deletable": false,
    "editable": false,
    "nbgrader": {
     "checksum": "4e8b879e93ecc83c78f3ecd0129f7f47",
     "grade": true,
     "grade_id": "cell-5d7638eb34ee6afd",
     "locked": true,
     "points": 40,
     "schema_version": 1,
     "solution": false
    }
   },
   "outputs": [],
   "source": [
    "assert isinstance(genius_matches, DataFrame)\n",
    "assert genius_matches.columns == \\\n",
    "    ['mode', 'start_time_s', 'end_time_s', 'cumulative_time_s']\n"
   ]
  },
  {
   "cell_type": "code",
   "execution_count": null,
   "metadata": {},
   "outputs": [],
   "source": []
  }
 ],
 "metadata": {
  "kernelspec": {
   "display_name": "Python 3",
   "language": "python",
   "name": "python3"
  },
  "language_info": {
   "codemirror_mode": {
    "name": "ipython",
    "version": 3
   },
   "file_extension": ".py",
   "mimetype": "text/x-python",
   "name": "python",
   "nbconvert_exporter": "python",
   "pygments_lexer": "ipython3",
   "version": "3.7.2"
  }
 },
 "nbformat": 4,
 "nbformat_minor": 2
}
