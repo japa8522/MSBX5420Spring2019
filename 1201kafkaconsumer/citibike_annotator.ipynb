{
 "cells": [
  {
   "cell_type": "code",
   "execution_count": null,
   "metadata": {},
   "outputs": [],
   "source": [
    "from confluent_kafka import Consumer, KafkaError\n",
    "\n",
    "c = Consumer({'bootstrap.servers': 'kafka-1:9092',\n",
    "              'group.id': 'citibike.test.consumer.2',\n",
    "              'api.version.request': True,\n",
    "              'log.connection.close': False,\n",
    "              'socket.keepalive.enable': True,\n",
    "              'session.timeout.ms': 6000,\n",
    "              'default.topic.config': {'auto.offset.reset': 'smallest'}})\n",
    "\n",
    "c.subscribe(['citibike.station.status.1'])"
   ]
  },
  {
   "cell_type": "code",
   "execution_count": null,
   "metadata": {},
   "outputs": [],
   "source": [
    "while True:\n",
    "    msg = c.poll(timeout=10.0)  # same as c.consume, but returns only 1 message at a time\n",
    "    \n",
    "    if msg is None:  \n",
    "        continue  # no messages were retrieved\n",
    "    \n",
    "    if msg.error():\n",
    "        if msg.error().code() == KafkaError._PARTITION_EOF:\n",
    "            continue\n",
    "        else:    \n",
    "            raise KafkaException(msg.error())\n",
    "    \n",
    "    else:\n",
    "        print(msg.value())       "
   ]
  },
  {
   "cell_type": "code",
   "execution_count": null,
   "metadata": {},
   "outputs": [],
   "source": []
  }
 ],
 "metadata": {
  "kernelspec": {
   "display_name": "Python 3",
   "language": "python",
   "name": "python3"
  },
  "language_info": {
   "codemirror_mode": {
    "name": "ipython",
    "version": 3
   },
   "file_extension": ".py",
   "mimetype": "text/x-python",
   "name": "python",
   "nbconvert_exporter": "python",
   "pygments_lexer": "ipython3",
   "version": "3.7.2"
  }
 },
 "nbformat": 4,
 "nbformat_minor": 2
}
