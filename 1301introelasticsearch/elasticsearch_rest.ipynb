{
 "cells": [
  {
   "cell_type": "markdown",
   "metadata": {},
   "source": [
    "# Elasticsearch tutorial"
   ]
  },
  {
   "cell_type": "code",
   "execution_count": 1,
   "metadata": {},
   "outputs": [],
   "source": [
    "import requests"
   ]
  },
  {
   "cell_type": "code",
   "execution_count": 2,
   "metadata": {},
   "outputs": [
    {
     "name": "stdout",
     "output_type": "stream",
     "text": [
      "{'name': '3mebu10', 'cluster_name': 'elasticsearch', 'cluster_uuid': 'xGVuNWEaSgG9I2kpI3Stdw', 'version': {'number': '5.6.16', 'build_hash': '3a740d1', 'build_date': '2019-03-13T15:33:36.565Z', 'build_snapshot': False, 'lucene_version': '6.6.1'}, 'tagline': 'You Know, for Search'}\n"
     ]
    }
   ],
   "source": [
    "r = requests.get(\"http://elasticsearch:9200\")\n",
    "if r.status_code != 200:\n",
    "    print(\"Error talking to Elasticsearch\")\n",
    "else:\n",
    "    print(r.json())"
   ]
  },
  {
   "cell_type": "markdown",
   "metadata": {},
   "source": [
    "## Listing indices"
   ]
  },
  {
   "cell_type": "code",
   "execution_count": 7,
   "metadata": {},
   "outputs": [
    {
     "name": "stdout",
     "output_type": "stream",
     "text": [
      "health status index     uuid                   pri rep docs.count docs.deleted store.size pri.store.size\n",
      "yellow open   .kibana   wkNl_aj0Sgyw_pXSz1trBA   1   1          2            0      8.3kb          8.3kb\n",
      "yellow open   testindex HNaneS8HSpaTFpkMEdp_Sg   5   1          1            0       12kb           12kb\n",
      "\n"
     ]
    }
   ],
   "source": [
    "def print_es_indices():\n",
    "    r = requests.get(\"http://elasticsearch:9200/_cat/indices?v\")\n",
    "    if r.status_code != 200:\n",
    "        print(\"Error listing indices\")\n",
    "    else:\n",
    "        print(r.text)\n",
    "        \n",
    "print_es_indices()"
   ]
  },
  {
   "cell_type": "markdown",
   "metadata": {},
   "source": [
    "## Creating an index"
   ]
  },
  {
   "cell_type": "code",
   "execution_count": 15,
   "metadata": {},
   "outputs": [],
   "source": [
    "def create_index(index, index_config):\n",
    "    r = requests.put(\"http://elasticsearch:9200/{}\".format(index),\n",
    "                     json=index_config)\n",
    "    if r.status_code != 200:\n",
    "        print(\"Error creating index\")\n",
    "    else:\n",
    "        print(\"Created\")"
   ]
  },
  {
   "cell_type": "code",
   "execution_count": 13,
   "metadata": {},
   "outputs": [
    {
     "name": "stdout",
     "output_type": "stream",
     "text": [
      "health status index   uuid                   pri rep docs.count docs.deleted store.size pri.store.size\n",
      "yellow open   .kibana wkNl_aj0Sgyw_pXSz1trBA   1   1          2            0      8.3kb          8.3kb\n",
      "\n"
     ]
    }
   ],
   "source": [
    "print_es_indices()"
   ]
  },
  {
   "cell_type": "code",
   "execution_count": 14,
   "metadata": {},
   "outputs": [
    {
     "name": "stdout",
     "output_type": "stream",
     "text": [
      "Index deleted\n"
     ]
    }
   ],
   "source": [
    "def delete_es_index(index):\n",
    "    r = requests.delete(\"http://elasticsearch:9200/{}\".format(index))\n",
    "    if r.status_code != 200:\n",
    "        print(\"Error deleting index\")\n",
    "    else:\n",
    "        print(\"Index deleted\")"
   ]
  },
  {
   "cell_type": "code",
   "execution_count": 19,
   "metadata": {},
   "outputs": [],
   "source": [
    "index_config = {\n",
    "    \"mappings\": {\n",
    "        \"purchase_docs\": {  # document TYPE\n",
    "            \"properties\": {\n",
    "                \"timestamp\": {\"type\": \"date\"},\n",
    "                \"location\": {\"type\": \"geo_point\"}\n",
    "            }\n",
    "        }\n",
    "    }\n",
    "}"
   ]
  },
  {
   "cell_type": "code",
   "execution_count": 20,
   "metadata": {},
   "outputs": [
    {
     "name": "stdout",
     "output_type": "stream",
     "text": [
      "Created\n"
     ]
    }
   ],
   "source": [
    "create_index(\"testindex\", index_config)"
   ]
  },
  {
   "cell_type": "markdown",
   "metadata": {},
   "source": [
    "## Fling messages into Elasticsearch"
   ]
  },
  {
   "cell_type": "code",
   "execution_count": 23,
   "metadata": {},
   "outputs": [
    {
     "name": "stdout",
     "output_type": "stream",
     "text": [
      "health status index     uuid                   pri rep docs.count docs.deleted store.size pri.store.size\n",
      "yellow open   .kibana   c-NhlbuKSp2VQMy7WP377A   1   1          1            0      3.2kb          3.2kb\n",
      "yellow open   testindex SkxGIMSSSYqR7ZEmtSnKgQ   5   1          1            0      4.4kb          4.4kb\n",
      "\n"
     ]
    }
   ],
   "source": [
    "print_es_indices()"
   ]
  },
  {
   "cell_type": "code",
   "execution_count": 24,
   "metadata": {},
   "outputs": [],
   "source": [
    "msg = {\n",
    "    \"timestamp\": 1555365719000,\n",
    "    \"location\": {\"lat\": 40.76727216,\n",
    "                 \"lon\": -73.99392888},\n",
    "    \"purchases\": 5\n",
    "}"
   ]
  },
  {
   "cell_type": "code",
   "execution_count": 25,
   "metadata": {},
   "outputs": [
    {
     "name": "stdout",
     "output_type": "stream",
     "text": [
      "message sent\n"
     ]
    }
   ],
   "source": [
    "r = requests.post(\"http://elasticsearch:9200/testindex/purchase_docs\",\n",
    "                  json=msg)\n",
    "if r.status_code != 201:\n",
    "    print(\"Error sending message\")\n",
    "else:\n",
    "    print(\"message sent\")"
   ]
  }
 ],
 "metadata": {
  "kernelspec": {
   "display_name": "Python 3",
   "language": "python",
   "name": "python3"
  },
  "language_info": {
   "codemirror_mode": {
    "name": "ipython",
    "version": 3
   },
   "file_extension": ".py",
   "mimetype": "text/x-python",
   "name": "python",
   "nbconvert_exporter": "python",
   "pygments_lexer": "ipython3",
   "version": "3.7.2"
  }
 },
 "nbformat": 4,
 "nbformat_minor": 2
}
