{
 "cells": [
  {
   "cell_type": "markdown",
   "metadata": {},
   "source": [
    "# Elasticsearch data model:  Lucene\n",
    "\n",
    "Thusfar we have used Kibana to visualize data that is stored in Elasticsearch.  Most of the time this is good enough for whatever insights you are seeking.\n",
    "\n",
    "Under the hood, Kibana performs queries against Elasticsearch using a powerful language named **Lucene**.\n",
    "\n",
    "Lucene is a *string*-oriented query language (much like an internet search engine).  Somewhat like SQL, Lucene can perform filtering, grouping, and aggregations.  The stringy focus, however, gives it some unique capabilities (and limitations)."
   ]
  },
  {
   "cell_type": "code",
   "execution_count": 1,
   "metadata": {},
   "outputs": [],
   "source": [
    "import requests"
   ]
  },
  {
   "cell_type": "code",
   "execution_count": 7,
   "metadata": {},
   "outputs": [
    {
     "name": "stdout",
     "output_type": "stream",
     "text": [
      "['.kibana', 'testindex']\n"
     ]
    }
   ],
   "source": [
    "def get_es_indices():\n",
    "    r = requests.get(\"http://elasticsearch:9200/_cat/indices?format=json\")\n",
    "    if r.status_code != 200:\n",
    "        print(\"Error listing indices\")\n",
    "        return None\n",
    "    else:\n",
    "        indices_full = r.json()  # contains full metadata as a dict\n",
    "        indices = []  # let's extract the names separately\n",
    "        for i in indices_full:\n",
    "            indices.append(i['index'])\n",
    "        return indices, indices_full\n",
    "        \n",
    "indices, indices_full = get_es_indices()\n",
    "print(indices)"
   ]
  },
  {
   "cell_type": "code",
   "execution_count": 8,
   "metadata": {},
   "outputs": [],
   "source": [
    "def create_es_index(index, index_config):\n",
    "    r = requests.put(\"http://elasticsearch:9200/{}\".format(index),\n",
    "                     json=index_config)\n",
    "    if r.status_code != 200:\n",
    "        print(\"Error creating index\")\n",
    "    else:\n",
    "        print(\"Index created\")\n",
    "        \n",
    "\n",
    "def delete_es_index(index):\n",
    "    r = requests.delete(\"http://elasticsearch:9200/{}\".format(index))\n",
    "    if r.status_code != 200:\n",
    "        print(\"Error deleting index\")\n",
    "    else:\n",
    "        print(\"Index deleted\")"
   ]
  },
  {
   "cell_type": "markdown",
   "metadata": {},
   "source": [
    "Let's delete and recreate a \"recipes\" index so that we can demonstrate some Lucene fundamentals:"
   ]
  },
  {
   "cell_type": "code",
   "execution_count": 22,
   "metadata": {},
   "outputs": [
    {
     "name": "stdout",
     "output_type": "stream",
     "text": [
      "Index deleted\n",
      "Index created\n"
     ]
    }
   ],
   "source": [
    "# delete if exists\n",
    "indices, indices_full = get_es_indices()\n",
    "if 'recipes' in indices:\n",
    "    delete_es_index('recipes')\n",
    "    \n",
    "index_config = {\n",
    "    \"mappings\": {\n",
    "        \"recipe\": {  # document TYPE\n",
    "            \"properties\": {\n",
    "                \"name\": {\"type\": \"string\"},\n",
    "                \"ingredients\": {\"type\": \"string\"}\n",
    "            }\n",
    "        }\n",
    "    }\n",
    "}\n",
    "\n",
    "create_es_index('recipes', index_config)"
   ]
  },
  {
   "cell_type": "markdown",
   "metadata": {},
   "source": [
    "Let's load some example recipes"
   ]
  },
  {
   "cell_type": "code",
   "execution_count": 15,
   "metadata": {},
   "outputs": [],
   "source": [
    "def fling_message(index, doctype, msg):\n",
    "    r = requests.post(\"http://elasticsearch:9200/{}/{}\".format(index, doctype),\n",
    "                      json=msg)\n",
    "    if r.status_code != 201:\n",
    "        print(\"Error sending message\")\n",
    "    else:\n",
    "        print(\"message sent\")"
   ]
  },
  {
   "cell_type": "code",
   "execution_count": 23,
   "metadata": {},
   "outputs": [
    {
     "name": "stdout",
     "output_type": "stream",
     "text": [
      "message sent\n"
     ]
    }
   ],
   "source": [
    "msg1 = {\n",
    "    \"name\": \"Pizza\",\n",
    "    \"ingredients\": \"Flour WATER yeast cheese tomato sauce\"\n",
    "}\n",
    "\n",
    "fling_message('recipes', 'recipe', msg1)"
   ]
  },
  {
   "cell_type": "code",
   "execution_count": 24,
   "metadata": {},
   "outputs": [
    {
     "name": "stdout",
     "output_type": "stream",
     "text": [
      "message sent\n"
     ]
    }
   ],
   "source": [
    "msg2 = {\n",
    "    \"name\": \"Chocolate chip cookies\",\n",
    "    \"ingredients\": \"flour water sugar chocolate chips\"\n",
    "}\n",
    "\n",
    "fling_message('recipes', 'recipe', msg2)"
   ]
  },
  {
   "cell_type": "markdown",
   "metadata": {},
   "source": [
    "Whenever Lucene encounters a string field, it \"analyzes\" it (i.e. breaks it down) and builds a \"reverse\" index.  There are various \"analyzers\" that can be used, but the Standard Analyzer is good for most things:\n",
    "\n",
    "https://www.elastic.co/guide/en/elasticsearch/reference/5.5/analysis-standard-analyzer.html\n",
    "\n",
    "Roughly, it splits the string by whitespace, lowercases everything, and produces a reverse lookup.\n",
    "\n",
    "Let's concentrate on the `name` field.  The reverse index looks like this\n",
    "```\n",
    "pizza -> msg1\n",
    "chocolate -> msg2\n",
    "chip -> msg2\n",
    "cookies -> msg2\n",
    "```"
   ]
  },
  {
   "cell_type": "markdown",
   "metadata": {},
   "source": [
    "For the `ingredients` field the reverse index looks like this:\n",
    "```\n",
    "flour -> msg1, msg2\n",
    "water -> msg1, msg2\n",
    "yeast -> msg1\n",
    "sugar -> msg2\n",
    "cheese -> msg1\n",
    "tomato -> msg1\n",
    "sauce -> msg1\n",
    "chocolate -> msg2\n",
    "chips -> msg2\n",
    "```"
   ]
  },
  {
   "cell_type": "markdown",
   "metadata": {},
   "source": [
    "## Turn off analyzer\n",
    "\n",
    "The above examples have some problems: namely, \"tomato sauce\" should not be analyzed (split), nor should \"chocolate chips\".  We can partially solve this by recreating our index turning off the analyzer:"
   ]
  },
  {
   "cell_type": "code",
   "execution_count": 26,
   "metadata": {},
   "outputs": [
    {
     "name": "stdout",
     "output_type": "stream",
     "text": [
      "Index deleted\n",
      "Index created\n"
     ]
    }
   ],
   "source": [
    "# delete if exists\n",
    "indices, indices_full = get_es_indices()\n",
    "if 'recipes' in indices:\n",
    "    delete_es_index('recipes')\n",
    "    \n",
    "index_config = {\n",
    "    \"mappings\": {\n",
    "        \"recipe\": {  # document TYPE\n",
    "            \"properties\": {\n",
    "                \"name\": {\"type\": \"string\", \"index\": \"not_analyzed\"},\n",
    "                \"ingredients\": {\"type\": \"string\", \"index\": \"not_analyzed\"}\n",
    "            }\n",
    "        }\n",
    "    }\n",
    "}\n",
    "\n",
    "create_es_index('recipes', index_config)"
   ]
  },
  {
   "cell_type": "code",
   "execution_count": 27,
   "metadata": {},
   "outputs": [
    {
     "name": "stdout",
     "output_type": "stream",
     "text": [
      "message sent\n"
     ]
    }
   ],
   "source": [
    "msg1 = {\n",
    "    \"name\": \"pizza\",\n",
    "    \"ingredients\": \"tomato sauce\"\n",
    "}\n",
    "\n",
    "fling_message('recipes', 'recipe', msg1)"
   ]
  },
  {
   "cell_type": "code",
   "execution_count": 28,
   "metadata": {},
   "outputs": [
    {
     "name": "stdout",
     "output_type": "stream",
     "text": [
      "message sent\n"
     ]
    }
   ],
   "source": [
    "msg2 = {\n",
    "    \"name\": \"chocolate chip cookies\",\n",
    "    \"ingredients\": \"chocolate chips\"\n",
    "}\n",
    "\n",
    "fling_message('recipes', 'recipe', msg2)"
   ]
  },
  {
   "cell_type": "markdown",
   "metadata": {},
   "source": [
    "Now the reverse index looks like this (for the `name` field):\n",
    "```\n",
    "pizza -> msg1\n",
    "chocolate chip cookies -> msg2\n",
    "```\n",
    "and similarly for the `ingredients` field:\n",
    "```\n",
    "tomato sauce -> msg1\n",
    "chocolate chips -> msg2\n",
    "```\n",
    "\n",
    "For more details on the various field configurations we can use, see this documentation:\n",
    "\n",
    "https://www.elastic.co/guide/en/elasticsearch/guide/current/mapping-intro.html"
   ]
  },
  {
   "cell_type": "markdown",
   "metadata": {},
   "source": [
    "## String fields can be lists!\n",
    "\n",
    "Obviously we still have a problem.  What about the other ingredients?  Answer:  string fields can actually be lists."
   ]
  },
  {
   "cell_type": "code",
   "execution_count": 29,
   "metadata": {},
   "outputs": [
    {
     "name": "stdout",
     "output_type": "stream",
     "text": [
      "Index deleted\n",
      "Index created\n"
     ]
    }
   ],
   "source": [
    "# delete if exists\n",
    "indices, indices_full = get_es_indices()\n",
    "if 'recipes' in indices:\n",
    "    delete_es_index('recipes')\n",
    "    \n",
    "index_config = {\n",
    "    \"mappings\": {\n",
    "        \"recipe\": {  # document TYPE\n",
    "            \"properties\": {\n",
    "                \"name\": {\"type\": \"string\", \"index\": \"not_analyzed\"},\n",
    "                \"ingredients\": {\"type\": \"string\", \"index\": \"not_analyzed\"}\n",
    "            }\n",
    "        }\n",
    "    }\n",
    "}\n",
    "\n",
    "create_es_index('recipes', index_config)"
   ]
  },
  {
   "cell_type": "code",
   "execution_count": 30,
   "metadata": {},
   "outputs": [
    {
     "name": "stdout",
     "output_type": "stream",
     "text": [
      "message sent\n"
     ]
    }
   ],
   "source": [
    "msg1 = {\n",
    "    \"name\": \"pizza\",\n",
    "    \"ingredients\": [\"flour\", \"water\", \"yeast\", \"cheese\", \"tomato sauce\"]\n",
    "}\n",
    "\n",
    "fling_message('recipes', 'recipe', msg1)"
   ]
  },
  {
   "cell_type": "code",
   "execution_count": null,
   "metadata": {},
   "outputs": [],
   "source": [
    "msg2 = {\n",
    "    \"name\": \"chocolate chip cookies\",\n",
    "    \"ingredients\": [\"flour\", \"water\", \"sugar\", \"chocolate chips\"]\n",
    "}\n",
    "\n",
    "fling_message('recipes', 'recipe', msg2)"
   ]
  },
  {
   "cell_type": "markdown",
   "metadata": {},
   "source": [
    "Now the reverse index looks like this for `ingredients`:\n",
    "```\n",
    "flour -> msg1, msg2\n",
    "water -> msg1, msg2\n",
    "yeast -> msg1\n",
    "sugar -> msg2\n",
    "cheese -> msg1\n",
    "tomato sauce -> msg1\n",
    "chocolate chips -> msg2\n",
    "```"
   ]
  },
  {
   "cell_type": "markdown",
   "metadata": {},
   "source": [
    "## Custom analyzers\n",
    "\n",
    "This is still not quite satisfactory because, by turning off the analyzer, we lost some of the powerful string normalizing capabilities of Elasticsearch (for example, I had to manually lowercase everything above because the analyzer is no longer doing that work for me).\n",
    "\n",
    "In fact, Elasticsearch comes with several built-in analyzers that behave differently for various applications, and you can even build your own custom ones using regex patterns.\n",
    "\n",
    "I will leave this more advanced topic for you to explore on your own."
   ]
  },
  {
   "cell_type": "code",
   "execution_count": null,
   "metadata": {},
   "outputs": [],
   "source": []
  }
 ],
 "metadata": {
  "kernelspec": {
   "display_name": "Python 3",
   "language": "python",
   "name": "python3"
  },
  "language_info": {
   "codemirror_mode": {
    "name": "ipython",
    "version": 3
   },
   "file_extension": ".py",
   "mimetype": "text/x-python",
   "name": "python",
   "nbconvert_exporter": "python",
   "pygments_lexer": "ipython3",
   "version": "3.7.2"
  }
 },
 "nbformat": 4,
 "nbformat_minor": 2
}
