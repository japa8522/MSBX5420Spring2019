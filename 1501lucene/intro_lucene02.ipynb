{
 "cells": [
  {
   "cell_type": "markdown",
   "metadata": {},
   "source": [
    "# Querying in Lucene\n",
    "\n",
    "Lucene can be a squirrely language, but it starts off simple.  Here is where the documentation starts (keep clicking next to read through):\n",
    "\n",
    "https://www.elastic.co/guide/en/elasticsearch/reference/5.5/_introducing_the_query_language.html"
   ]
  },
  {
   "cell_type": "code",
   "execution_count": 1,
   "metadata": {},
   "outputs": [],
   "source": [
    "import requests"
   ]
  },
  {
   "cell_type": "code",
   "execution_count": 2,
   "metadata": {},
   "outputs": [],
   "source": [
    "def execute_es_query(index, query):\n",
    "    r = requests.get(\"http://elasticsearch:9200/{}/_search\".format(index),\n",
    "                     json=query)\n",
    "    if r.status_code != 200:\n",
    "        print(\"Error executing query\")\n",
    "        return None\n",
    "    else:\n",
    "        return r.json()"
   ]
  },
  {
   "cell_type": "code",
   "execution_count": 6,
   "metadata": {},
   "outputs": [
    {
     "data": {
      "text/plain": [
       "{'took': 3,\n",
       " 'timed_out': False,\n",
       " '_shards': {'total': 5, 'successful': 5, 'skipped': 0, 'failed': 0},\n",
       " 'hits': {'total': 2,\n",
       "  'max_score': 1.0,\n",
       "  'hits': [{'_index': 'recipes',\n",
       "    '_type': 'recipe',\n",
       "    '_id': 'AWpmMZUCKa_s2tz80C3k',\n",
       "    '_score': 1.0,\n",
       "    '_source': {'name': 'chocolate chip cookies',\n",
       "     'ingredients': ['flour', 'water', 'sugar', 'chocolate chips']}},\n",
       "   {'_index': 'recipes',\n",
       "    '_type': 'recipe',\n",
       "    '_id': 'AWpmMHlWKa_s2tz80C3j',\n",
       "    '_score': 1.0,\n",
       "    '_source': {'name': 'pizza',\n",
       "     'ingredients': ['flour', 'water', 'yeast', 'cheese', 'tomato sauce']}}]}}"
      ]
     },
     "execution_count": 6,
     "metadata": {},
     "output_type": "execute_result"
    }
   ],
   "source": [
    "# this query matches everything in the index,\n",
    "# but only returns <= 10 results by default\n",
    "query = {\n",
    "    \"query\": { \"match_all\": {} }\n",
    "}\n",
    "\n",
    "res = execute_es_query('recipes', query)\n",
    "res"
   ]
  },
  {
   "cell_type": "code",
   "execution_count": 8,
   "metadata": {},
   "outputs": [
    {
     "data": {
      "text/plain": [
       "{'took': 4,\n",
       " 'timed_out': False,\n",
       " '_shards': {'total': 5, 'successful': 5, 'skipped': 0, 'failed': 0},\n",
       " 'hits': {'total': 2,\n",
       "  'max_score': 1.0,\n",
       "  'hits': [{'_index': 'recipes',\n",
       "    '_type': 'recipe',\n",
       "    '_id': 'AWpmMZUCKa_s2tz80C3k',\n",
       "    '_score': 1.0,\n",
       "    '_source': {'name': 'chocolate chip cookies',\n",
       "     'ingredients': ['flour', 'water', 'sugar', 'chocolate chips']}}]}}"
      ]
     },
     "execution_count": 8,
     "metadata": {},
     "output_type": "execute_result"
    }
   ],
   "source": [
    "# this query grabs everything, but only returns 1 result\n",
    "query = {\n",
    "    \"size\": 1,\n",
    "    \"query\": { \"match_all\": {} }\n",
    "}\n",
    "\n",
    "res = execute_es_query('recipes', query)\n",
    "res"
   ]
  },
  {
   "cell_type": "code",
   "execution_count": 9,
   "metadata": {},
   "outputs": [
    {
     "data": {
      "text/plain": [
       "{'took': 6,\n",
       " 'timed_out': False,\n",
       " '_shards': {'total': 5, 'successful': 5, 'skipped': 0, 'failed': 0},\n",
       " 'hits': {'total': 2,\n",
       "  'max_score': None,\n",
       "  'hits': [{'_index': 'recipes',\n",
       "    '_type': 'recipe',\n",
       "    '_id': 'AWpmMHlWKa_s2tz80C3j',\n",
       "    '_score': None,\n",
       "    '_source': {'name': 'pizza',\n",
       "     'ingredients': ['flour', 'water', 'yeast', 'cheese', 'tomato sauce']},\n",
       "    'sort': ['pizza']}]}}"
      ]
     },
     "execution_count": 9,
     "metadata": {},
     "output_type": "execute_result"
    }
   ],
   "source": [
    "# we can sort on a field in our query\n",
    "query = {\n",
    "    \"size\": 1,\n",
    "    \"query\": { \"match_all\": {} },\n",
    "    \"sort\": { \"name\": { \"order\": \"desc\" } }\n",
    "}\n",
    "\n",
    "res = execute_es_query('recipes', query)\n",
    "res"
   ]
  },
  {
   "cell_type": "markdown",
   "metadata": {},
   "source": [
    "## Matching on strings"
   ]
  },
  {
   "cell_type": "code",
   "execution_count": 10,
   "metadata": {},
   "outputs": [
    {
     "data": {
      "text/plain": [
       "{'took': 13,\n",
       " 'timed_out': False,\n",
       " '_shards': {'total': 5, 'successful': 5, 'skipped': 0, 'failed': 0},\n",
       " 'hits': {'total': 2,\n",
       "  'max_score': 0.2876821,\n",
       "  'hits': [{'_index': 'recipes',\n",
       "    '_type': 'recipe',\n",
       "    '_id': 'AWpmMZUCKa_s2tz80C3k',\n",
       "    '_score': 0.2876821,\n",
       "    '_source': {'name': 'chocolate chip cookies',\n",
       "     'ingredients': ['flour', 'water', 'sugar', 'chocolate chips']}},\n",
       "   {'_index': 'recipes',\n",
       "    '_type': 'recipe',\n",
       "    '_id': 'AWpmMHlWKa_s2tz80C3j',\n",
       "    '_score': 0.2876821,\n",
       "    '_source': {'name': 'pizza',\n",
       "     'ingredients': ['flour', 'water', 'yeast', 'cheese', 'tomato sauce']}}]}}"
      ]
     },
     "execution_count": 10,
     "metadata": {},
     "output_type": "execute_result"
    }
   ],
   "source": [
    "query = {\n",
    "    \"query\": { \"match\": {\"ingredients\": \"flour\"} },\n",
    "}\n",
    "\n",
    "res = execute_es_query('recipes', query)\n",
    "res"
   ]
  },
  {
   "cell_type": "code",
   "execution_count": 11,
   "metadata": {},
   "outputs": [
    {
     "data": {
      "text/plain": [
       "{'took': 4,\n",
       " 'timed_out': False,\n",
       " '_shards': {'total': 5, 'successful': 5, 'skipped': 0, 'failed': 0},\n",
       " 'hits': {'total': 0, 'max_score': None, 'hits': []}}"
      ]
     },
     "execution_count": 11,
     "metadata": {},
     "output_type": "execute_result"
    }
   ],
   "source": [
    "query = {\n",
    "    \"query\": { \"match\": {\"ingredients\": \"chocolate\"} },\n",
    "}\n",
    "\n",
    "res = execute_es_query('recipes', query)\n",
    "res"
   ]
  },
  {
   "cell_type": "code",
   "execution_count": 12,
   "metadata": {},
   "outputs": [
    {
     "data": {
      "text/plain": [
       "{'took': 5,\n",
       " 'timed_out': False,\n",
       " '_shards': {'total': 5, 'successful': 5, 'skipped': 0, 'failed': 0},\n",
       " 'hits': {'total': 1,\n",
       "  'max_score': 0.2876821,\n",
       "  'hits': [{'_index': 'recipes',\n",
       "    '_type': 'recipe',\n",
       "    '_id': 'AWpmMZUCKa_s2tz80C3k',\n",
       "    '_score': 0.2876821,\n",
       "    '_source': {'name': 'chocolate chip cookies',\n",
       "     'ingredients': ['flour', 'water', 'sugar', 'chocolate chips']}}]}}"
      ]
     },
     "execution_count": 12,
     "metadata": {},
     "output_type": "execute_result"
    }
   ],
   "source": [
    "query = {\n",
    "    \"query\": { \"match\": {\"ingredients\": \"chocolate chips\"} },\n",
    "}\n",
    "\n",
    "res = execute_es_query('recipes', query)\n",
    "res"
   ]
  },
  {
   "cell_type": "markdown",
   "metadata": {},
   "source": [
    "There is MUCH more to querying.  For example, we can combine many conditions together using the `bool` query.  See this for more details:\n",
    "\n",
    "https://www.elastic.co/guide/en/elasticsearch/reference/5.5/_executing_searches.html"
   ]
  },
  {
   "cell_type": "markdown",
   "metadata": {},
   "source": [
    "## Filtering\n",
    "\n",
    "Notice in the `match` queries above a field `_score` was computed for each document matched.  This indicates how closely the document matched the query (higher=better match).\n",
    "\n",
    "If we don't care about the score then we can save a LOT of computational resources by using \"filtering\" instead.  Here is a reference\n",
    "\n",
    "https://www.elastic.co/guide/en/elasticsearch/reference/5.5/_executing_filters.html"
   ]
  },
  {
   "cell_type": "code",
   "execution_count": 26,
   "metadata": {},
   "outputs": [
    {
     "data": {
      "text/plain": [
       "{'took': 9,\n",
       " 'timed_out': False,\n",
       " '_shards': {'total': 5, 'successful': 5, 'skipped': 0, 'failed': 0},\n",
       " 'hits': {'total': 1,\n",
       "  'max_score': 0.0,\n",
       "  'hits': [{'_index': 'recipes',\n",
       "    '_type': 'recipe',\n",
       "    '_id': 'AWpmMZUCKa_s2tz80C3k',\n",
       "    '_score': 0.0,\n",
       "    '_source': {'name': 'chocolate chip cookies',\n",
       "     'ingredients': ['flour', 'water', 'sugar', 'chocolate chips']}}]}}"
      ]
     },
     "execution_count": 26,
     "metadata": {},
     "output_type": "execute_result"
    }
   ],
   "source": [
    "# A simple filter query.  The syntax is a bit clunky\n",
    "query = {\n",
    "    \"query\": {\n",
    "        \"bool\": {\n",
    "            \"filter\": [\n",
    "                {\"term\": {\"ingredients\": \"chocolate chips\"}},\n",
    "            ]\n",
    "        }\n",
    "    },\n",
    "}\n",
    "\n",
    "res = execute_es_query('recipes', query)\n",
    "res"
   ]
  },
  {
   "cell_type": "markdown",
   "metadata": {},
   "source": [
    "## Aggregations\n",
    "\n",
    "The final piece of the puzzle is the ability to aggregate.  Usually what we do is run a query to narrow down the documents that match, then we aggregate over some field.\n",
    "\n",
    "Here is some documentation to get you started:\n",
    "\n",
    "https://www.elastic.co/guide/en/elasticsearch/reference/5.5/_executing_aggregations.html"
   ]
  },
  {
   "cell_type": "code",
   "execution_count": 30,
   "metadata": {},
   "outputs": [
    {
     "data": {
      "text/plain": [
       "{'took': 12,\n",
       " 'timed_out': False,\n",
       " '_shards': {'total': 5, 'successful': 5, 'skipped': 0, 'failed': 0},\n",
       " 'hits': {'total': 1, 'max_score': 0.0, 'hits': []},\n",
       " 'aggregations': {'highly_correlated_words': {'doc_count': 1,\n",
       "   'bg_count': 2,\n",
       "   'buckets': [{'key': 'sugar', 'doc_count': 1, 'score': 1.0, 'bg_count': 1},\n",
       "    {'key': 'water', 'doc_count': 1, 'score': 1.0, 'bg_count': 1},\n",
       "    {'key': 'flour', 'doc_count': 1, 'score': 1.0, 'bg_count': 1}]}}}"
      ]
     },
     "execution_count": 30,
     "metadata": {},
     "output_type": "execute_result"
    }
   ],
   "source": [
    "# This is a so-called \"bucket\" aggregation.  Here we are querying\n",
    "# for documents that contain the ingredient \"chocolate chips\".\n",
    "# Then we scrape inside those documents for other ingredients that co-occur\n",
    "# with \"chocolate chips\"\n",
    "# Some ingredients are in many recipes (e.g. \"water\"), so that's not\n",
    "# very informative.  So we use the aggregation \"significant_terms\"\n",
    "# which orders rarer correlated words first.\n",
    "query = {\n",
    "    \"size\": 0,\n",
    "    \"query\": {\n",
    "        \"bool\": {\n",
    "            \"filter\": [\n",
    "                {\"term\": {\"ingredients\": \"chocolate chips\"}},\n",
    "            ]\n",
    "        }\n",
    "    },\n",
    "    \"aggs\": {\n",
    "        \"highly_correlated_words\": {\n",
    "            \"significant_terms\": {\n",
    "                \"field\": \"ingredients\",\n",
    "                \"exclude\": \"chocolate chips\",\n",
    "                \"min_doc_count\": 1,\n",
    "            }\n",
    "        }\n",
    "    }\n",
    "}\n",
    "\n",
    "res = execute_es_query('recipes', query)\n",
    "res"
   ]
  },
  {
   "cell_type": "code",
   "execution_count": null,
   "metadata": {},
   "outputs": [],
   "source": []
  }
 ],
 "metadata": {
  "kernelspec": {
   "display_name": "Python 3",
   "language": "python",
   "name": "python3"
  },
  "language_info": {
   "codemirror_mode": {
    "name": "ipython",
    "version": 3
   },
   "file_extension": ".py",
   "mimetype": "text/x-python",
   "name": "python",
   "nbconvert_exporter": "python",
   "pygments_lexer": "ipython3",
   "version": "3.7.2"
  }
 },
 "nbformat": 4,
 "nbformat_minor": 2
}
